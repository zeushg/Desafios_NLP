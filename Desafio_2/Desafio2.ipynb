{
 "cells": [
  {
   "cell_type": "markdown",
   "metadata": {
    "id": "sZd5yLnnHOK0"
   },
   "source": [
    "<img src=\"https://github.com/hernancontigiani/ceia_memorias_especializacion/raw/master/Figures/logoFIUBA.jpg\" width=\"500\" align=\"center\">\n",
    "\n",
    "\n",
    "# Procesamiento de lenguaje natural ---- Desafio 2\n",
    "## Custom embedddings con Gensim\n",
    "\n",
    "\n",
    "- Crear sus propios vectores con Gensim basado en lo visto en clase con otro dataset.\n",
    "- Probar términos de interés y explicar similitudes en el espacio de embeddings (sacar conclusiones entre palabras similitudes y diferencias).\n",
    "- Graficarlos.\n",
    "- Obtener conclusiones.\n",
    "\n"
   ]
  },
  {
   "cell_type": "markdown",
   "metadata": {
    "id": "vA7nqkumo9z9"
   },
   "source": [
    "### Objetivo\n",
    "El objetivo es utilizar documentos / corpus para crear embeddings de palabras basado en ese contexto. Se utilizará canciones de bandas para generar los embeddings, es decir, que los vectores tendrán la forma en función de como esa banda haya utilizado las palabras en sus canciones."
   ]
  },
  {
   "cell_type": "code",
   "execution_count": 1,
   "metadata": {
    "id": "lFToQs5FK5uZ"
   },
   "outputs": [],
   "source": [
    "import pandas as pd\n",
    "import matplotlib.pyplot as plt\n",
    "import seaborn as sns\n",
    "import multiprocessing\n",
    "from gensim.models import Word2Vec\n",
    "#librerias para preprocesamiento\n",
    "import urllib.request\n",
    "import re"
   ]
  },
  {
   "cell_type": "markdown",
   "metadata": {
    "id": "g07zJxG7H9vG"
   },
   "source": [
    "### Datos\n",
    "Utilizaremos la obra el retrato de Dorian Gray de Oscar Wilde tomado del sitio recomendado www.texto.info"
   ]
  },
  {
   "cell_type": "code",
   "execution_count": 2,
   "metadata": {},
   "outputs": [
    {
     "name": "stdout",
     "output_type": "stream",
     "text": [
      "Archivo PDF descargado exitosamente.\n"
     ]
    }
   ],
   "source": [
    "url = \"https://www.textos.info/oscar-wilde/el-retrato-de-dorian-gray/pdf\"\n",
    "urllib.request.urlretrieve(url, \"el-retrato-de-dorian-gray.pdf\")\n",
    "print(\"Archivo PDF descargado exitosamente.\")"
   ]
  },
  {
   "cell_type": "code",
   "execution_count": 3,
   "metadata": {},
   "outputs": [],
   "source": [
    "#Libraria para manejo de archivos pdf\n",
    "#!pip install pymupdf"
   ]
  },
  {
   "cell_type": "code",
   "execution_count": 4,
   "metadata": {},
   "outputs": [
    {
     "name": "stdout",
     "output_type": "stream",
     "text": [
      "Archivo convertido a TXT almacenado en el-retrato-de-dorian-gray.txt\n"
     ]
    }
   ],
   "source": [
    "#convertir archivo pfd a texto\n",
    "import fitz\n",
    "def pdf_to_txt(pdf_path, txt_path):\n",
    "    pdf_document = fitz.open(pdf_path)\n",
    "    text = \"\"\n",
    "    for page in pdf_document:\n",
    "        text += page.get_text()\n",
    "    with open(txt_path, \"w\", encoding=\"utf-8\") as txt_file:\n",
    "        txt_file.write(text)\n",
    "\n",
    "    print(f\"Archivo convertido a TXT almacenado en {txt_path}\")\n",
    "pdf_to_txt(\"el-retrato-de-dorian-gray.pdf\", \"el-retrato-de-dorian-gray.txt\")  # se genera nuevo archivo modificado con la limpieza y normalizacion del texto"
   ]
  },
  {
   "cell_type": "code",
   "execution_count": 3,
   "metadata": {},
   "outputs": [],
   "source": [
    "# Leer el archivo de texto\n",
    "with open(\"el-retrato-de-dorian-gray.txt\", \"r\", encoding=\"utf-8\") as file:\n",
    "    text = file.read()\n",
    "# Normalizacion de  texto a minusculas, eliminacion de caracterias diferentes a alfabeticos\n",
    "text = text.lower()\n",
    "text = re.sub(r'[^a-záéíóúüñ\\s]', '', text)\n",
    "text = re.sub(r'[!?]', '', text)  \n",
    "text = re.sub(r' +', ' ', text)\n",
    "archivo=open(\"el-retrato-de-dorian-gray_mod.txt\", \"w\", encoding=\"utf-8\") \n",
    "archivo.write(text)\n",
    "archivo.close()"
   ]
  },
  {
   "cell_type": "code",
   "execution_count": 4,
   "metadata": {},
   "outputs": [
    {
     "data": {
      "text/html": [
       "<div>\n",
       "<style scoped>\n",
       "    .dataframe tbody tr th:only-of-type {\n",
       "        vertical-align: middle;\n",
       "    }\n",
       "\n",
       "    .dataframe tbody tr th {\n",
       "        vertical-align: top;\n",
       "    }\n",
       "\n",
       "    .dataframe thead th {\n",
       "        text-align: right;\n",
       "    }\n",
       "</style>\n",
       "<table border=\"1\" class=\"dataframe\">\n",
       "  <thead>\n",
       "    <tr style=\"text-align: right;\">\n",
       "      <th></th>\n",
       "      <th>el retrato de dorian gray</th>\n",
       "    </tr>\n",
       "  </thead>\n",
       "  <tbody>\n",
       "    <tr>\n",
       "      <th>0</th>\n",
       "      <td>oscar wilde</td>\n",
       "    </tr>\n",
       "    <tr>\n",
       "      <th>1</th>\n",
       "      <td>textosinfo</td>\n",
       "    </tr>\n",
       "    <tr>\n",
       "      <th>2</th>\n",
       "      <td>biblioteca digital abierta</td>\n",
       "    </tr>\n",
       "    <tr>\n",
       "      <th>3</th>\n",
       "      <td>texto núm</td>\n",
       "    </tr>\n",
       "    <tr>\n",
       "      <th>4</th>\n",
       "      <td>título el retrato de dorian gray</td>\n",
       "    </tr>\n",
       "    <tr>\n",
       "      <th>5</th>\n",
       "      <td>autor oscar wilde</td>\n",
       "    </tr>\n",
       "    <tr>\n",
       "      <th>6</th>\n",
       "      <td>etiquetas novela</td>\n",
       "    </tr>\n",
       "    <tr>\n",
       "      <th>7</th>\n",
       "      <td>editor edu robsy</td>\n",
       "    </tr>\n",
       "    <tr>\n",
       "      <th>8</th>\n",
       "      <td>fecha de creación de mayo de</td>\n",
       "    </tr>\n",
       "    <tr>\n",
       "      <th>9</th>\n",
       "      <td>fecha de modificación de noviembre de</td>\n",
       "    </tr>\n",
       "    <tr>\n",
       "      <th>10</th>\n",
       "      <td>edita textosinfo</td>\n",
       "    </tr>\n",
       "    <tr>\n",
       "      <th>11</th>\n",
       "      <td>maison carrée</td>\n",
       "    </tr>\n",
       "    <tr>\n",
       "      <th>12</th>\n",
       "      <td>c des ramal</td>\n",
       "    </tr>\n",
       "    <tr>\n",
       "      <th>13</th>\n",
       "      <td>alayor menorca</td>\n",
       "    </tr>\n",
       "    <tr>\n",
       "      <th>14</th>\n",
       "      <td>islas baleares</td>\n",
       "    </tr>\n",
       "  </tbody>\n",
       "</table>\n",
       "</div>"
      ],
      "text/plain": [
       "                el retrato de dorian gray\n",
       "0                             oscar wilde\n",
       "1                              textosinfo\n",
       "2              biblioteca digital abierta\n",
       "3                               texto núm\n",
       "4        título el retrato de dorian gray\n",
       "5                       autor oscar wilde\n",
       "6                        etiquetas novela\n",
       "7                        editor edu robsy\n",
       "8            fecha de creación de mayo de\n",
       "9   fecha de modificación de noviembre de\n",
       "10                       edita textosinfo\n",
       "11                          maison carrée\n",
       "12                            c des ramal\n",
       "13                         alayor menorca\n",
       "14                         islas baleares"
      ]
     },
     "execution_count": 4,
     "metadata": {},
     "output_type": "execute_result"
    }
   ],
   "source": [
    "# Armar el dataset \n",
    "df = pd.read_fwf('el-retrato-de-dorian-gray_mod.txt')\n",
    "df.head(15)"
   ]
  },
  {
   "cell_type": "code",
   "execution_count": 5,
   "metadata": {},
   "outputs": [
    {
     "name": "stdout",
     "output_type": "stream",
     "text": [
      "Cantidad de documentos: 7337\n"
     ]
    }
   ],
   "source": [
    "print(\"Cantidad de documentos:\", df.shape[0])"
   ]
  },
  {
   "cell_type": "code",
   "execution_count": 6,
   "metadata": {},
   "outputs": [],
   "source": [
    "from keras.preprocessing.text import text_to_word_sequence\n",
    "\n",
    "sentence_tokens = []\n",
    "# Recorrer todas las filas y transformar las oraciones\n",
    "# en una secuencia de palabras (esto podría realizarse con NLTK o spaCy también)\n",
    "for _, row in df[:None].iterrows():\n",
    "    sentence_tokens.append(text_to_word_sequence(row[0]))"
   ]
  },
  {
   "cell_type": "code",
   "execution_count": 7,
   "metadata": {},
   "outputs": [
    {
     "data": {
      "text/plain": [
       "[['oscar', 'wilde'],\n",
       " ['textosinfo'],\n",
       " ['biblioteca', 'digital', 'abierta'],\n",
       " ['texto', 'núm'],\n",
       " ['título', 'el', 'retrato', 'de', 'dorian', 'gray'],\n",
       " ['autor', 'oscar', 'wilde'],\n",
       " ['etiquetas', 'novela'],\n",
       " ['editor', 'edu', 'robsy'],\n",
       " ['fecha', 'de', 'creación', 'de', 'mayo', 'de'],\n",
       " ['fecha', 'de', 'modificación', 'de', 'noviembre', 'de']]"
      ]
     },
     "execution_count": 7,
     "metadata": {},
     "output_type": "execute_result"
    }
   ],
   "source": [
    "# Demos un vistazo\n",
    "sentence_tokens[:10]"
   ]
  },
  {
   "cell_type": "markdown",
   "metadata": {
    "id": "BaXV6nlHr5Aa"
   },
   "source": [
    "### 2 - Crear los vectores (word2vec)"
   ]
  },
  {
   "cell_type": "code",
   "execution_count": 8,
   "metadata": {},
   "outputs": [],
   "source": [
    "from gensim.models.callbacks import CallbackAny2Vec\n",
    "# Durante el entrenamiento gensim por defecto no informa el \"loss\" en cada época\n",
    "# Sobrecargamos el callback para poder tener esta información\n",
    "class callback(CallbackAny2Vec):\n",
    "    \"\"\"\n",
    "    Callback to print loss after each epoch\n",
    "    \"\"\"\n",
    "    def __init__(self):\n",
    "        self.epoch = 0\n",
    "\n",
    "    def on_epoch_end(self, model):\n",
    "        loss = model.get_latest_training_loss()\n",
    "        if self.epoch == 0:\n",
    "            print('Loss after epoch {}: {}'.format(self.epoch, loss))\n",
    "        else:\n",
    "            print('Loss after epoch {}: {}'.format(self.epoch, loss- self.loss_previous_step))\n",
    "        self.epoch += 1\n",
    "        self.loss_previous_step = loss"
   ]
  },
  {
   "cell_type": "code",
   "execution_count": 9,
   "metadata": {},
   "outputs": [],
   "source": [
    "# Crearmos el modelo generador de vectores\n",
    "# En este caso utilizaremos la estructura modelo Skipgram\n",
    "w2v_model = Word2Vec(min_count=5,    # frecuencia mínima de palabra para incluirla en el vocabulario\n",
    "                     window=2,       # cant de palabras antes y desp de la predicha\n",
    "                     vector_size=300,       # dimensionalidad de los vectores \n",
    "                     negative=20,    # cantidad de negative samples... 0 es no se usa\n",
    "                     workers=1,      # si tienen más cores pueden cambiar este valor\n",
    "                     sg=1)           # modelo 0:CBOW  1:skipgram"
   ]
  },
  {
   "cell_type": "code",
   "execution_count": 10,
   "metadata": {},
   "outputs": [],
   "source": [
    "# Obtener el vocabulario con los tokens\n",
    "w2v_model.build_vocab(sentence_tokens)"
   ]
  },
  {
   "cell_type": "code",
   "execution_count": 11,
   "metadata": {},
   "outputs": [
    {
     "name": "stdout",
     "output_type": "stream",
     "text": [
      "Cantidad de docs en el corpus: 7337\n"
     ]
    }
   ],
   "source": [
    "# Cantidad de filas/docs encontradas en el corpus\n",
    "print(\"Cantidad de docs en el corpus:\", w2v_model.corpus_count)"
   ]
  },
  {
   "cell_type": "code",
   "execution_count": 12,
   "metadata": {},
   "outputs": [
    {
     "name": "stdout",
     "output_type": "stream",
     "text": [
      "Cantidad de words distintas en el corpus: 1743\n"
     ]
    }
   ],
   "source": [
    "# Cantidad de words encontradas en el corpus\n",
    "print(\"Cantidad de words distintas en el corpus:\", len(w2v_model.wv.index_to_key))"
   ]
  },
  {
   "cell_type": "markdown",
   "metadata": {
    "id": "fC9mZ8DPk-UC"
   },
   "source": [
    "### 3 - Entrenar embeddings"
   ]
  },
  {
   "cell_type": "code",
   "execution_count": 13,
   "metadata": {},
   "outputs": [
    {
     "name": "stdout",
     "output_type": "stream",
     "text": [
      "Loss after epoch 0: 568821.4375\n",
      "Loss after epoch 1: 405794.4375\n",
      "Loss after epoch 2: 360299.75\n",
      "Loss after epoch 3: 348354.5\n",
      "Loss after epoch 4: 343603.125\n",
      "Loss after epoch 5: 303226.25\n",
      "Loss after epoch 6: 293687.0\n",
      "Loss after epoch 7: 291420.0\n",
      "Loss after epoch 8: 288855.25\n",
      "Loss after epoch 9: 289779.0\n",
      "Loss after epoch 10: 286186.0\n",
      "Loss after epoch 11: 284928.75\n",
      "Loss after epoch 12: 276077.0\n",
      "Loss after epoch 13: 267276.0\n",
      "Loss after epoch 14: 266699.5\n",
      "Loss after epoch 15: 263916.5\n",
      "Loss after epoch 16: 263619.0\n",
      "Loss after epoch 17: 263014.5\n",
      "Loss after epoch 18: 262642.5\n",
      "Loss after epoch 19: 261445.0\n"
     ]
    },
    {
     "data": {
      "text/plain": [
       "(845798, 1570120)"
      ]
     },
     "execution_count": 13,
     "metadata": {},
     "output_type": "execute_result"
    }
   ],
   "source": [
    "# Entrenamos el modelo generador de vectores\n",
    "# Utilizamos nuestro callback\n",
    "w2v_model.train(sentence_tokens,\n",
    "                 total_examples=w2v_model.corpus_count,\n",
    "                 epochs=20,\n",
    "                 compute_loss = True,\n",
    "                 callbacks=[callback()]\n",
    "                 )"
   ]
  },
  {
   "cell_type": "markdown",
   "metadata": {
    "id": "ddT9NVuNlCAe"
   },
   "source": [
    "### 4 - Ensayar"
   ]
  },
  {
   "cell_type": "code",
   "execution_count": 23,
   "metadata": {},
   "outputs": [
    {
     "name": "stdout",
     "output_type": "stream",
     "text": [
      "Most similar words for 'retrato':\n",
      "- pintado: 0.8089762926101685\n",
      "- exponer: 0.8019140958786011\n",
      "- lienzo: 0.789556086063385\n",
      "- examinar: 0.783231258392334\n",
      "- matrimonio: 0.7800175547599792\n",
      "- daría: 0.7754347920417786\n",
      "- hermoso: 0.7750706672668457\n",
      "- verdadero: 0.760972261428833\n",
      "- tuyo: 0.7587563395500183\n",
      "- cambio: 0.7555050253868103\n",
      "\n",
      "Most similar words for 'artista':\n",
      "- hermoso: 0.9059011340141296\n",
      "- matrimonio: 0.8793865442276001\n",
      "- suyo: 0.8784503936767578\n",
      "- problema: 0.8635460138320923\n",
      "- encanto: 0.8626889586448669\n",
      "- genio: 0.8569450378417969\n",
      "- resto: 0.855726420879364\n",
      "- asunto: 0.85463947057724\n",
      "- caballero: 0.8460862040519714\n",
      "- capricho: 0.8449692726135254\n",
      "\n",
      "Most similar words for 'espejos':\n",
      "- brillantes: 0.9693781733512878\n",
      "- verdes: 0.9684475660324097\n",
      "- criados: 0.9647932648658752\n",
      "- curiosos: 0.9626385569572449\n",
      "- bordados: 0.9614115357398987\n",
      "- negros: 0.9604668617248535\n",
      "- cristales: 0.9574335217475891\n",
      "- paredes: 0.9567935466766357\n",
      "- delicados: 0.9543972015380859\n",
      "- hacían: 0.9530522227287292\n",
      "\n",
      "Most similar words for 'retrato':\n",
      "- pintado: 0.8089762926101685\n",
      "- exponer: 0.8019140958786011\n",
      "- lienzo: 0.789556086063385\n",
      "- examinar: 0.783231258392334\n",
      "- matrimonio: 0.7800175547599792\n",
      "- daría: 0.7754347920417786\n",
      "- hermoso: 0.7750706672668457\n",
      "- verdadero: 0.760972261428833\n",
      "- tuyo: 0.7587563395500183\n",
      "- cambio: 0.7555050253868103\n",
      "\n",
      "Most similar words for 'belleza':\n",
      "- imaginación: 0.8618982434272766\n",
      "- imagen: 0.834470808506012\n",
      "- prueba: 0.8309769630432129\n",
      "- juventud: 0.8290676474571228\n",
      "- poesía: 0.8217676877975464\n",
      "- música: 0.8166726231575012\n",
      "- pasión: 0.8153672218322754\n",
      "- merece: 0.8136568665504456\n",
      "- intelectual: 0.8109986186027527\n",
      "- simple: 0.8087658286094666\n",
      "\n",
      "Most similar words for 'hermosa':\n",
      "- amable: 0.9008522629737854\n",
      "- interesante: 0.9002599120140076\n",
      "- moda: 0.892254114151001\n",
      "- inteligente: 0.8881641626358032\n",
      "- problema: 0.8833088874816895\n",
      "- bueno: 0.8778702020645142\n",
      "- agradable: 0.8667283654212952\n",
      "- amistad: 0.8560301661491394\n",
      "- absurdo: 0.8532793521881104\n",
      "- feliz: 0.8527110815048218\n",
      "\n",
      "Most similar words for 'juventud':\n",
      "- única: 0.8848118185997009\n",
      "- merece: 0.8821287751197815\n",
      "- prueba: 0.8640739321708679\n",
      "- peor: 0.8570916652679443\n",
      "- moral: 0.8520147800445557\n",
      "- conciencia: 0.8493730425834656\n",
      "- poesía: 0.8485627174377441\n",
      "- importancia: 0.8404836654663086\n",
      "- experiencia: 0.8354094624519348\n",
      "- realidad: 0.8313559889793396\n",
      "\n",
      "Most similar words for 'asesinato':\n",
      "- cumplido: 0.9417529702186584\n",
      "- accidente: 0.9382641315460205\n",
      "- raza: 0.9306173920631409\n",
      "- deprisa: 0.9291918277740479\n",
      "- casado: 0.9275414943695068\n",
      "- culpa: 0.9234568476676941\n",
      "- desgraciado: 0.9233942627906799\n",
      "- injusto: 0.9229686856269836\n",
      "- delito: 0.9208280444145203\n",
      "- espera: 0.9207477569580078\n",
      "\n"
     ]
    }
   ],
   "source": [
    "palabras = [\"retrato\", \"artista\",\"espejos\", \"retrato\", \"belleza\",\"hermosa\", \"juventud\", \"asesinato\"]#, \"imperfect\", \"word\", \"sound\", \"ideas\", \"mind\", \"syntax\", \"similar\", \"meaning\", \"teutonic\", \"vowels\", \"influence\"]\n",
    "for palabra in palabras:\n",
    "    similar_words = w2v_model.wv.most_similar(positive=[palabra], topn=10)\n",
    "    print(f\"Most similar words for '{palabra}':\")\n",
    "    for similar_word, similarity_score in similar_words:\n",
    "        print(f\"- {similar_word}: {similarity_score}\")\n",
    "    print()"
   ]
  },
  {
   "cell_type": "markdown",
   "metadata": {},
   "source": [
    "Se analizaron algunas palabras relevantes de la obra y en general y tomando en cuenta el contexto tienen mucho sentido por ejemplo: \n",
    "retrato con (lienzo,pintado), asesinato con (culpa, delito, accidente), espejos con (brillantes, cristales).\n",
    "Ademas se asocian el contenido del libro que se centra en la obsecion de la belleza y juventud (que precisamente estan dentro de sus palabras similares)\n",
    "Hay algunos casos donde las palabras no se oberva similaridad pero a nivel global se observa un buen desempeño."
   ]
  },
  {
   "cell_type": "markdown",
   "metadata": {
    "id": "_g8UVWe6lFmh"
   },
   "source": [
    "### 5 - Visualizar agrupación de vectores"
   ]
  },
  {
   "cell_type": "code",
   "execution_count": 24,
   "metadata": {},
   "outputs": [],
   "source": [
    "from sklearn.decomposition import IncrementalPCA    \n",
    "from sklearn.manifold import TSNE                   \n",
    "import numpy as np                                  \n",
    "\n",
    "def reduce_dimensions(model, num_dimensions = 2 ):\n",
    "     \n",
    "    vectors = np.asarray(model.wv.vectors)\n",
    "    labels = np.asarray(model.wv.index_to_key)  \n",
    "\n",
    "    tsne = TSNE(n_components=num_dimensions, random_state=0)\n",
    "    vectors = tsne.fit_transform(vectors)\n",
    "\n",
    "    return vectors, labels"
   ]
  },
  {
   "cell_type": "code",
   "execution_count": 26,
   "metadata": {},
   "outputs": [
    {
     "data": {
      "application/vnd.plotly.v1+json": {
       "config": {
        "plotlyServerURL": "https://plot.ly"
       },
       "data": [
        {
         "hovertemplate": "x=%{x}<br>y=%{y}<br>text=%{text}<extra></extra>",
         "legendgroup": "",
         "marker": {
          "color": "#636efa",
          "symbol": "circle"
         },
         "mode": "markers+text",
         "name": "",
         "orientation": "v",
         "showlegend": false,
         "text": [
          "de",
          "que",
          "la",
          "y",
          "el",
          "a",
          "en",
          "no",
          "se",
          "un",
          "una",
          "con",
          "lo",
          "los",
          "su",
          "las",
          "por",
          "es",
          "me",
          "dorian",
          "le",
          "había",
          "del",
          "al",
          "para",
          "pero",
          "como",
          "más",
          "qué",
          "te",
          "era",
          "sus",
          "lord",
          "gray",
          "cuando",
          "henry",
          "si",
          "todo",
          "vida",
          "él",
          "mi",
          "ha",
          "sobre",
          "o",
          "sin",
          "dijo",
          "tan",
          "nunca",
          "muy",
          "eso",
          "algo",
          "harry",
          "he",
          "nada",
          "basil",
          "yo",
          "siempre",
          "ser",
          "sí",
          "hecho",
          "estaba",
          "ojos",
          "señor",
          "exclamó",
          "sibyl",
          "sólo",
          "luego",
          "bien",
          "cosas",
          "ya",
          "son",
          "después",
          "tu",
          "mucho",
          "mundo",
          "sido",
          "respondió",
          "hallward",
          "has",
          "dos",
          "manera",
          "retrato",
          "mí",
          "ella",
          "nos",
          "demasiado",
          "noche",
          "vez",
          "tenía",
          "usted",
          "tú",
          "mientras",
          "ahora",
          "está",
          "hasta",
          "decir",
          "tiene",
          "todos",
          "menos",
          "rostro",
          "hay",
          "cómo",
          "tiempo",
          "alma",
          "casa",
          "mismo",
          "hacer",
          "joven",
          "personas",
          "momento",
          "porque",
          "cabeza",
          "puerta",
          "ese",
          "desde",
          "algún",
          "mejor",
          "hubiera",
          "estoy",
          "cierto",
          "uno",
          "hacia",
          "ver",
          "ni",
          "creo",
          "arte",
          "así",
          "labios",
          "quiero",
          "entre",
          "fue",
          "belleza",
          "habitación",
          "día",
          "otra",
          "persona",
          "tengo",
          "vane",
          "veces",
          "poco",
          "sé",
          "esa",
          "allí",
          "unos",
          "mujeres",
          "hace",
          "murmuró",
          "preguntó",
          "muchacho",
          "esta",
          "gran",
          "también",
          "amor",
          "parecía",
          "lady",
          "mano",
          "ti",
          "verdad",
          "todas",
          "toda",
          "voz",
          "quien",
          "años",
          "alguna",
          "parece",
          "cosa",
          "manos",
          "dicho",
          "cuadro",
          "terrible",
          "donde",
          "querido",
          "habían",
          "color",
          "mesa",
          "eres",
          "mujer",
          "aunque",
          "quizá",
          "otro",
          "nadie",
          "duquesa",
          "puede",
          "visto",
          "antes",
          "obra",
          "casi",
          "amigo",
          "embargo",
          "durante",
          "misma",
          "hizo",
          "aquel",
          "han",
          "oro",
          "aire",
          "miró",
          "madre",
          "empezó",
          "entonces"
         ],
         "type": "scatter",
         "x": [
          24.883012771606445,
          -23.16766357421875,
          -11.194267272949219,
          23.9930477142334,
          9.787226676940918,
          13.16973876953125,
          24.024127960205078,
          -32.32979202270508,
          3.431077718734741,
          8.992534637451172,
          -14.111472129821777,
          24.263593673706055,
          -36.665855407714844,
          29.35743522644043,
          -6.9634222984313965,
          26.452129364013672,
          4.7422966957092285,
          -27.81801986694336,
          -37.34112548828125,
          -2.8695812225341797,
          1.0317704677581787,
          -42.991024017333984,
          9.974198341369629,
          31.844369888305664,
          -22.07423973083496,
          -25.14965057373047,
          2.4428884983062744,
          -14.63099479675293,
          -36.39533996582031,
          -37.6209716796875,
          -19.97978973388672,
          35.588077545166016,
          11.215828895568848,
          9.902314186096191,
          10.357726097106934,
          11.535311698913574,
          -24.09320640563965,
          -24.50467300415039,
          -10.427101135253906,
          1.55999755859375,
          -15.232251167297363,
          -42.0643424987793,
          5.377374649047852,
          -3.8970980644226074,
          -18.747785568237305,
          -0.47686779499053955,
          -12.249048233032227,
          -40.64997100830078,
          -13.193222045898438,
          -38.84658432006836,
          -17.493999481201172,
          -31.960189819335938,
          -42.62429428100586,
          -24.871763229370117,
          -7.365860462188721,
          -31.343843460083008,
          -12.16849136352539,
          -25.947341918945312,
          -17.676437377929688,
          -32.54756546020508,
          30.563798904418945,
          35.18489074707031,
          -24.60546875,
          -1.702850580215454,
          -14.540016174316406,
          23.20762062072754,
          15.110039710998535,
          -21.07588005065918,
          26.144142150878906,
          -32.50743103027344,
          22.978683471679688,
          37.59572982788086,
          -20.66530418395996,
          -40.468597412109375,
          -14.795323371887207,
          -36.07017517089844,
          -0.13559317588806152,
          -3.5748183727264404,
          -42.542476654052734,
          30.43950080871582,
          -12.688337326049805,
          7.762670993804932,
          -26.33020782470703,
          -17.600526809692383,
          7.702364921569824,
          -23.000011444091797,
          -27.15039825439453,
          -19.1121768951416,
          -29.89627456665039,
          -25.867555618286133,
          -35.28656768798828,
          14.71921443939209,
          -39.08823776245117,
          -19.667484283447266,
          9.437039375305176,
          -32.885467529296875,
          -22.119970321655273,
          18.327133178710938,
          -4.739604473114014,
          9.895617485046387,
          -32.123634338378906,
          -31.39173698425293,
          4.979355812072754,
          6.276157855987549,
          -7.065236568450928,
          -20.284210205078125,
          -32.17302322387695,
          2.1946799755096436,
          24.98941421508789,
          10.497624397277832,
          -18.197898864746094,
          21.191030502319336,
          27.262954711914062,
          -7.492620944976807,
          9.490483283996582,
          5.784132480621338,
          -30.244760513305664,
          -42.35273361206055,
          -31.779233932495117,
          -38.7620735168457,
          17.684616088867188,
          25.357826232910156,
          -22.103063583374023,
          -16.357501983642578,
          -32.83051681518555,
          -12.3379487991333,
          -35.941184997558594,
          35.64169692993164,
          -29.042144775390625,
          26.891008377075195,
          -19.9155330657959,
          -6.527953624725342,
          25.708383560180664,
          3.648829460144043,
          -20.925731658935547,
          -16.207305908203125,
          -33.456356048583984,
          -1.1336356401443481,
          14.515120506286621,
          -32.555938720703125,
          -34.57027053833008,
          -20.220853805541992,
          15.179832458496094,
          36.40721893310547,
          26.04804229736328,
          -26.434219360351562,
          -0.6271048784255981,
          -1.1109052896499634,
          5.301647186279297,
          -20.046241760253906,
          7.778940200805664,
          -23.970678329467773,
          -9.880552291870117,
          -2.594109296798706,
          -5.274388790130615,
          24.850446701049805,
          -26.363880157470703,
          -33.95777893066406,
          25.683679580688477,
          -8.530037879943848,
          2.0223281383514404,
          -24.289588928222656,
          35.140350341796875,
          -21.197071075439453,
          -36.73135757446289,
          -18.746097564697266,
          33.19872283935547,
          -30.921606063842773,
          9.58421516418457,
          -5.778372764587402,
          23.574588775634766,
          -7.218491554260254,
          -42.70926284790039,
          30.84456443786621,
          29.509302139282227,
          -35.504486083984375,
          1.0444196462631226,
          -25.895416259765625,
          -28.200254440307617,
          6.122635364532471,
          -29.132713317871094,
          0.3724399507045746,
          -29.2360897064209,
          -31.821998596191406,
          -43.29741668701172,
          -12.35547161102295,
          15.625570297241211,
          -12.768580436706543,
          -26.222694396972656,
          13.77120304107666,
          -11.39124584197998,
          16.865009307861328,
          9.120743751525879,
          -41.18266296386719,
          31.63369369506836,
          16.015819549560547,
          16.12912940979004,
          -9.563879013061523,
          29.620208740234375,
          -18.685243606567383
         ],
         "xaxis": "x",
         "y": [
          4.151447772979736,
          -3.1901869773864746,
          19.42357635498047,
          5.328189849853516,
          11.91930866241455,
          15.239907264709473,
          -6.330354690551758,
          -5.222196102142334,
          -10.672257423400879,
          10.9032621383667,
          23.089111328125,
          3.2093565464019775,
          -13.05171012878418,
          21.943910598754883,
          27.02345085144043,
          29.300996780395508,
          -6.6631646156311035,
          13.303228378295898,
          -10.881702423095703,
          -19.244029998779297,
          -10.211384773254395,
          2.910402774810791,
          12.13109302520752,
          -8.466840744018555,
          1.1576188802719116,
          -2.708334445953369,
          23.039152145385742,
          6.5788254737854,
          7.507640361785889,
          -6.4763689041137695,
          0.8981781601905823,
          7.243109226226807,
          -28.098535537719727,
          18.00246238708496,
          21.714946746826172,
          -25.29294776916504,
          -1.382619023323059,
          17.998842239379883,
          13.556614875793457,
          -13.339277267456055,
          -20.159305572509766,
          0.4884992837905884,
          -31.390039443969727,
          19.74042320251465,
          7.235577583312988,
          -27.986949920654297,
          24.481359481811523,
          -1.8713953495025635,
          -6.9097981452941895,
          8.116806030273438,
          -3.860302686691284,
          -8.91479206085205,
          -0.7669368386268616,
          -4.720335006713867,
          -18.71970558166504,
          -4.866391658782959,
          -5.539735317230225,
          14.585770606994629,
          -21.858448028564453,
          -21.82049560546875,
          -16.321931838989258,
          4.405155181884766,
          -16.64309310913086,
          -27.68279266357422,
          -26.7688045501709,
          31.621519088745117,
          -16.956451416015625,
          -1.4422285556793213,
          27.037870407104492,
          -15.056417465209961,
          28.558237075805664,
          17.629453659057617,
          14.415595054626465,
          -4.426449298858643,
          28.648120880126953,
          -21.512205123901367,
          -27.239423751831055,
          -20.914310455322266,
          -0.6682820320129395,
          18.697471618652344,
          20.880403518676758,
          -9.56486988067627,
          -12.85246753692627,
          -8.417981147766113,
          25.964906692504883,
          -7.560898780822754,
          19.404111862182617,
          12.792719841003418,
          11.325712203979492,
          -15.424216270446777,
          -2.9937527179718018,
          -21.476634979248047,
          -8.187577247619629,
          -16.740482330322266,
          -20.288923263549805,
          6.117398262023926,
          -17.402191162109375,
          23.314672470092773,
          -6.351407527923584,
          -10.344334602355957,
          12.254411697387695,
          -7.661425590515137,
          9.986233711242676,
          14.144781112670898,
          -27.137468338012695,
          -20.631166458129883,
          6.09289026260376,
          -24.991056442260742,
          26.24953269958496,
          -13.619470596313477,
          -6.084031581878662,
          -25.797866821289062,
          -20.166908264160156,
          -8.637552261352539,
          -20.225522994995117,
          -10.99685287475586,
          7.796884059906006,
          2.187497854232788,
          -10.505770683288574,
          10.332867622375488,
          19.883203506469727,
          -24.835494995117188,
          2.643925666809082,
          7.891308784484863,
          -1.2415337562561035,
          28.18035316467285,
          11.405649185180664,
          2.5806870460510254,
          -4.183811664581299,
          14.070272445678711,
          0.8950703144073486,
          13.509178161621094,
          -17.069812774658203,
          14.609619140625,
          22.185556411743164,
          20.050840377807617,
          -10.931496620178223,
          -20.772926330566406,
          23.200889587402344,
          18.747283935546875,
          -5.058738708496094,
          14.930848121643066,
          -7.673384666442871,
          15.68553352355957,
          26.574047088623047,
          -1.6432344913482666,
          -27.313396453857422,
          -27.216663360595703,
          -20.280197143554688,
          25.342823028564453,
          8.838624954223633,
          -20.817598342895508,
          26.45131492614746,
          4.2178497314453125,
          -25.51797866821289,
          -19.394742965698242,
          -12.864933967590332,
          0.8729349374771118,
          25.068416595458984,
          24.88469123840332,
          -21.20025634765625,
          -21.0613956451416,
          18.081918716430664,
          23.033597946166992,
          1.6786623001098633,
          19.229019165039062,
          10.843976020812988,
          -19.500791549682617,
          -7.015387058258057,
          21.233884811401367,
          -6.995192527770996,
          -24.318178176879883,
          2.641498565673828,
          2.4464564323425293,
          -2.757362127304077,
          4.818975925445557,
          -18.64044761657715,
          -0.3032998740673065,
          6.755082130432129,
          -11.128030776977539,
          -15.218953132629395,
          -20.87688636779785,
          10.041959762573242,
          -22.51335334777832,
          -3.9583675861358643,
          13.572919845581055,
          14.036698341369629,
          -22.2071475982666,
          23.223325729370117,
          7.61344575881958,
          18.97096824645996,
          -17.30569076538086,
          11.129953384399414,
          1.0017956495285034,
          3.132202625274658,
          -3.489286184310913,
          -28.022218704223633,
          -23.391075134277344,
          -20.974559783935547,
          2.6328556537628174
         ],
         "yaxis": "y"
        }
       ],
       "layout": {
        "legend": {
         "tracegroupgap": 0
        },
        "margin": {
         "t": 60
        },
        "template": {
         "data": {
          "bar": [
           {
            "error_x": {
             "color": "#2a3f5f"
            },
            "error_y": {
             "color": "#2a3f5f"
            },
            "marker": {
             "line": {
              "color": "#E5ECF6",
              "width": 0.5
             },
             "pattern": {
              "fillmode": "overlay",
              "size": 10,
              "solidity": 0.2
             }
            },
            "type": "bar"
           }
          ],
          "barpolar": [
           {
            "marker": {
             "line": {
              "color": "#E5ECF6",
              "width": 0.5
             },
             "pattern": {
              "fillmode": "overlay",
              "size": 10,
              "solidity": 0.2
             }
            },
            "type": "barpolar"
           }
          ],
          "carpet": [
           {
            "aaxis": {
             "endlinecolor": "#2a3f5f",
             "gridcolor": "white",
             "linecolor": "white",
             "minorgridcolor": "white",
             "startlinecolor": "#2a3f5f"
            },
            "baxis": {
             "endlinecolor": "#2a3f5f",
             "gridcolor": "white",
             "linecolor": "white",
             "minorgridcolor": "white",
             "startlinecolor": "#2a3f5f"
            },
            "type": "carpet"
           }
          ],
          "choropleth": [
           {
            "colorbar": {
             "outlinewidth": 0,
             "ticks": ""
            },
            "type": "choropleth"
           }
          ],
          "contour": [
           {
            "colorbar": {
             "outlinewidth": 0,
             "ticks": ""
            },
            "colorscale": [
             [
              0,
              "#0d0887"
             ],
             [
              0.1111111111111111,
              "#46039f"
             ],
             [
              0.2222222222222222,
              "#7201a8"
             ],
             [
              0.3333333333333333,
              "#9c179e"
             ],
             [
              0.4444444444444444,
              "#bd3786"
             ],
             [
              0.5555555555555556,
              "#d8576b"
             ],
             [
              0.6666666666666666,
              "#ed7953"
             ],
             [
              0.7777777777777778,
              "#fb9f3a"
             ],
             [
              0.8888888888888888,
              "#fdca26"
             ],
             [
              1,
              "#f0f921"
             ]
            ],
            "type": "contour"
           }
          ],
          "contourcarpet": [
           {
            "colorbar": {
             "outlinewidth": 0,
             "ticks": ""
            },
            "type": "contourcarpet"
           }
          ],
          "heatmap": [
           {
            "colorbar": {
             "outlinewidth": 0,
             "ticks": ""
            },
            "colorscale": [
             [
              0,
              "#0d0887"
             ],
             [
              0.1111111111111111,
              "#46039f"
             ],
             [
              0.2222222222222222,
              "#7201a8"
             ],
             [
              0.3333333333333333,
              "#9c179e"
             ],
             [
              0.4444444444444444,
              "#bd3786"
             ],
             [
              0.5555555555555556,
              "#d8576b"
             ],
             [
              0.6666666666666666,
              "#ed7953"
             ],
             [
              0.7777777777777778,
              "#fb9f3a"
             ],
             [
              0.8888888888888888,
              "#fdca26"
             ],
             [
              1,
              "#f0f921"
             ]
            ],
            "type": "heatmap"
           }
          ],
          "heatmapgl": [
           {
            "colorbar": {
             "outlinewidth": 0,
             "ticks": ""
            },
            "colorscale": [
             [
              0,
              "#0d0887"
             ],
             [
              0.1111111111111111,
              "#46039f"
             ],
             [
              0.2222222222222222,
              "#7201a8"
             ],
             [
              0.3333333333333333,
              "#9c179e"
             ],
             [
              0.4444444444444444,
              "#bd3786"
             ],
             [
              0.5555555555555556,
              "#d8576b"
             ],
             [
              0.6666666666666666,
              "#ed7953"
             ],
             [
              0.7777777777777778,
              "#fb9f3a"
             ],
             [
              0.8888888888888888,
              "#fdca26"
             ],
             [
              1,
              "#f0f921"
             ]
            ],
            "type": "heatmapgl"
           }
          ],
          "histogram": [
           {
            "marker": {
             "pattern": {
              "fillmode": "overlay",
              "size": 10,
              "solidity": 0.2
             }
            },
            "type": "histogram"
           }
          ],
          "histogram2d": [
           {
            "colorbar": {
             "outlinewidth": 0,
             "ticks": ""
            },
            "colorscale": [
             [
              0,
              "#0d0887"
             ],
             [
              0.1111111111111111,
              "#46039f"
             ],
             [
              0.2222222222222222,
              "#7201a8"
             ],
             [
              0.3333333333333333,
              "#9c179e"
             ],
             [
              0.4444444444444444,
              "#bd3786"
             ],
             [
              0.5555555555555556,
              "#d8576b"
             ],
             [
              0.6666666666666666,
              "#ed7953"
             ],
             [
              0.7777777777777778,
              "#fb9f3a"
             ],
             [
              0.8888888888888888,
              "#fdca26"
             ],
             [
              1,
              "#f0f921"
             ]
            ],
            "type": "histogram2d"
           }
          ],
          "histogram2dcontour": [
           {
            "colorbar": {
             "outlinewidth": 0,
             "ticks": ""
            },
            "colorscale": [
             [
              0,
              "#0d0887"
             ],
             [
              0.1111111111111111,
              "#46039f"
             ],
             [
              0.2222222222222222,
              "#7201a8"
             ],
             [
              0.3333333333333333,
              "#9c179e"
             ],
             [
              0.4444444444444444,
              "#bd3786"
             ],
             [
              0.5555555555555556,
              "#d8576b"
             ],
             [
              0.6666666666666666,
              "#ed7953"
             ],
             [
              0.7777777777777778,
              "#fb9f3a"
             ],
             [
              0.8888888888888888,
              "#fdca26"
             ],
             [
              1,
              "#f0f921"
             ]
            ],
            "type": "histogram2dcontour"
           }
          ],
          "mesh3d": [
           {
            "colorbar": {
             "outlinewidth": 0,
             "ticks": ""
            },
            "type": "mesh3d"
           }
          ],
          "parcoords": [
           {
            "line": {
             "colorbar": {
              "outlinewidth": 0,
              "ticks": ""
             }
            },
            "type": "parcoords"
           }
          ],
          "pie": [
           {
            "automargin": true,
            "type": "pie"
           }
          ],
          "scatter": [
           {
            "fillpattern": {
             "fillmode": "overlay",
             "size": 10,
             "solidity": 0.2
            },
            "type": "scatter"
           }
          ],
          "scatter3d": [
           {
            "line": {
             "colorbar": {
              "outlinewidth": 0,
              "ticks": ""
             }
            },
            "marker": {
             "colorbar": {
              "outlinewidth": 0,
              "ticks": ""
             }
            },
            "type": "scatter3d"
           }
          ],
          "scattercarpet": [
           {
            "marker": {
             "colorbar": {
              "outlinewidth": 0,
              "ticks": ""
             }
            },
            "type": "scattercarpet"
           }
          ],
          "scattergeo": [
           {
            "marker": {
             "colorbar": {
              "outlinewidth": 0,
              "ticks": ""
             }
            },
            "type": "scattergeo"
           }
          ],
          "scattergl": [
           {
            "marker": {
             "colorbar": {
              "outlinewidth": 0,
              "ticks": ""
             }
            },
            "type": "scattergl"
           }
          ],
          "scattermapbox": [
           {
            "marker": {
             "colorbar": {
              "outlinewidth": 0,
              "ticks": ""
             }
            },
            "type": "scattermapbox"
           }
          ],
          "scatterpolar": [
           {
            "marker": {
             "colorbar": {
              "outlinewidth": 0,
              "ticks": ""
             }
            },
            "type": "scatterpolar"
           }
          ],
          "scatterpolargl": [
           {
            "marker": {
             "colorbar": {
              "outlinewidth": 0,
              "ticks": ""
             }
            },
            "type": "scatterpolargl"
           }
          ],
          "scatterternary": [
           {
            "marker": {
             "colorbar": {
              "outlinewidth": 0,
              "ticks": ""
             }
            },
            "type": "scatterternary"
           }
          ],
          "surface": [
           {
            "colorbar": {
             "outlinewidth": 0,
             "ticks": ""
            },
            "colorscale": [
             [
              0,
              "#0d0887"
             ],
             [
              0.1111111111111111,
              "#46039f"
             ],
             [
              0.2222222222222222,
              "#7201a8"
             ],
             [
              0.3333333333333333,
              "#9c179e"
             ],
             [
              0.4444444444444444,
              "#bd3786"
             ],
             [
              0.5555555555555556,
              "#d8576b"
             ],
             [
              0.6666666666666666,
              "#ed7953"
             ],
             [
              0.7777777777777778,
              "#fb9f3a"
             ],
             [
              0.8888888888888888,
              "#fdca26"
             ],
             [
              1,
              "#f0f921"
             ]
            ],
            "type": "surface"
           }
          ],
          "table": [
           {
            "cells": {
             "fill": {
              "color": "#EBF0F8"
             },
             "line": {
              "color": "white"
             }
            },
            "header": {
             "fill": {
              "color": "#C8D4E3"
             },
             "line": {
              "color": "white"
             }
            },
            "type": "table"
           }
          ]
         },
         "layout": {
          "annotationdefaults": {
           "arrowcolor": "#2a3f5f",
           "arrowhead": 0,
           "arrowwidth": 1
          },
          "autotypenumbers": "strict",
          "coloraxis": {
           "colorbar": {
            "outlinewidth": 0,
            "ticks": ""
           }
          },
          "colorscale": {
           "diverging": [
            [
             0,
             "#8e0152"
            ],
            [
             0.1,
             "#c51b7d"
            ],
            [
             0.2,
             "#de77ae"
            ],
            [
             0.3,
             "#f1b6da"
            ],
            [
             0.4,
             "#fde0ef"
            ],
            [
             0.5,
             "#f7f7f7"
            ],
            [
             0.6,
             "#e6f5d0"
            ],
            [
             0.7,
             "#b8e186"
            ],
            [
             0.8,
             "#7fbc41"
            ],
            [
             0.9,
             "#4d9221"
            ],
            [
             1,
             "#276419"
            ]
           ],
           "sequential": [
            [
             0,
             "#0d0887"
            ],
            [
             0.1111111111111111,
             "#46039f"
            ],
            [
             0.2222222222222222,
             "#7201a8"
            ],
            [
             0.3333333333333333,
             "#9c179e"
            ],
            [
             0.4444444444444444,
             "#bd3786"
            ],
            [
             0.5555555555555556,
             "#d8576b"
            ],
            [
             0.6666666666666666,
             "#ed7953"
            ],
            [
             0.7777777777777778,
             "#fb9f3a"
            ],
            [
             0.8888888888888888,
             "#fdca26"
            ],
            [
             1,
             "#f0f921"
            ]
           ],
           "sequentialminus": [
            [
             0,
             "#0d0887"
            ],
            [
             0.1111111111111111,
             "#46039f"
            ],
            [
             0.2222222222222222,
             "#7201a8"
            ],
            [
             0.3333333333333333,
             "#9c179e"
            ],
            [
             0.4444444444444444,
             "#bd3786"
            ],
            [
             0.5555555555555556,
             "#d8576b"
            ],
            [
             0.6666666666666666,
             "#ed7953"
            ],
            [
             0.7777777777777778,
             "#fb9f3a"
            ],
            [
             0.8888888888888888,
             "#fdca26"
            ],
            [
             1,
             "#f0f921"
            ]
           ]
          },
          "colorway": [
           "#636efa",
           "#EF553B",
           "#00cc96",
           "#ab63fa",
           "#FFA15A",
           "#19d3f3",
           "#FF6692",
           "#B6E880",
           "#FF97FF",
           "#FECB52"
          ],
          "font": {
           "color": "#2a3f5f"
          },
          "geo": {
           "bgcolor": "white",
           "lakecolor": "white",
           "landcolor": "#E5ECF6",
           "showlakes": true,
           "showland": true,
           "subunitcolor": "white"
          },
          "hoverlabel": {
           "align": "left"
          },
          "hovermode": "closest",
          "mapbox": {
           "style": "light"
          },
          "paper_bgcolor": "white",
          "plot_bgcolor": "#E5ECF6",
          "polar": {
           "angularaxis": {
            "gridcolor": "white",
            "linecolor": "white",
            "ticks": ""
           },
           "bgcolor": "#E5ECF6",
           "radialaxis": {
            "gridcolor": "white",
            "linecolor": "white",
            "ticks": ""
           }
          },
          "scene": {
           "xaxis": {
            "backgroundcolor": "#E5ECF6",
            "gridcolor": "white",
            "gridwidth": 2,
            "linecolor": "white",
            "showbackground": true,
            "ticks": "",
            "zerolinecolor": "white"
           },
           "yaxis": {
            "backgroundcolor": "#E5ECF6",
            "gridcolor": "white",
            "gridwidth": 2,
            "linecolor": "white",
            "showbackground": true,
            "ticks": "",
            "zerolinecolor": "white"
           },
           "zaxis": {
            "backgroundcolor": "#E5ECF6",
            "gridcolor": "white",
            "gridwidth": 2,
            "linecolor": "white",
            "showbackground": true,
            "ticks": "",
            "zerolinecolor": "white"
           }
          },
          "shapedefaults": {
           "line": {
            "color": "#2a3f5f"
           }
          },
          "ternary": {
           "aaxis": {
            "gridcolor": "white",
            "linecolor": "white",
            "ticks": ""
           },
           "baxis": {
            "gridcolor": "white",
            "linecolor": "white",
            "ticks": ""
           },
           "bgcolor": "#E5ECF6",
           "caxis": {
            "gridcolor": "white",
            "linecolor": "white",
            "ticks": ""
           }
          },
          "title": {
           "x": 0.05
          },
          "xaxis": {
           "automargin": true,
           "gridcolor": "white",
           "linecolor": "white",
           "ticks": "",
           "title": {
            "standoff": 15
           },
           "zerolinecolor": "white",
           "zerolinewidth": 2
          },
          "yaxis": {
           "automargin": true,
           "gridcolor": "white",
           "linecolor": "white",
           "ticks": "",
           "title": {
            "standoff": 15
           },
           "zerolinecolor": "white",
           "zerolinewidth": 2
          }
         }
        },
        "xaxis": {
         "anchor": "y",
         "domain": [
          0,
          1
         ],
         "title": {
          "text": "x"
         }
        },
        "yaxis": {
         "anchor": "x",
         "domain": [
          0,
          1
         ],
         "title": {
          "text": "y"
         }
        }
       }
      }
     },
     "metadata": {},
     "output_type": "display_data"
    }
   ],
   "source": [
    "# Graficar los embedddings en 2D\n",
    "import plotly.graph_objects as go\n",
    "import plotly.express as px\n",
    "\n",
    "vecs, labels = reduce_dimensions(w2v_model)\n",
    "\n",
    "MAX_WORDS=200\n",
    "fig = px.scatter(x=vecs[:MAX_WORDS,0], y=vecs[:MAX_WORDS,1], text=labels[:MAX_WORDS])\n",
    "fig.show()\n",
    "#fig.show(renderer=\"colab\") # esto para plotly en colab"
   ]
  },
  {
   "cell_type": "markdown",
   "metadata": {},
   "source": [
    "Se puede observar en el grafico, cercania entre palabras por ejemplo: (mujer, duquesa), (exclamó, preguntó,murmuró, respondió), (sus, ojos,manos, labios), retrato, cuadro, rostro) diversas palabras que se utilizan de manera conjunta dentro de la obra"
   ]
  },
  {
   "cell_type": "code",
   "execution_count": 27,
   "metadata": {},
   "outputs": [
    {
     "data": {
      "application/vnd.plotly.v1+json": {
       "config": {
        "plotlyServerURL": "https://plot.ly"
       },
       "data": [
        {
         "hovertemplate": "x=%{x}<br>y=%{y}<br>z=%{z}<br>text=%{text}<extra></extra>",
         "legendgroup": "",
         "marker": {
          "color": "#636efa",
          "size": 2,
          "symbol": "circle"
         },
         "mode": "markers+text",
         "name": "",
         "scene": "scene",
         "showlegend": false,
         "text": [
          "de",
          "que",
          "la",
          "y",
          "el",
          "a",
          "en",
          "no",
          "se",
          "un",
          "una",
          "con",
          "lo",
          "los",
          "su",
          "las",
          "por",
          "es",
          "me",
          "dorian",
          "le",
          "había",
          "del",
          "al",
          "para",
          "pero",
          "como",
          "más",
          "qué",
          "te",
          "era",
          "sus",
          "lord",
          "gray",
          "cuando",
          "henry",
          "si",
          "todo",
          "vida",
          "él",
          "mi",
          "ha",
          "sobre",
          "o",
          "sin",
          "dijo",
          "tan",
          "nunca",
          "muy",
          "eso",
          "algo",
          "harry",
          "he",
          "nada",
          "basil",
          "yo",
          "siempre",
          "ser",
          "sí",
          "hecho",
          "estaba",
          "ojos",
          "señor",
          "exclamó",
          "sibyl",
          "sólo",
          "luego",
          "bien",
          "cosas",
          "ya",
          "son",
          "después",
          "tu",
          "mucho",
          "mundo",
          "sido",
          "respondió",
          "hallward",
          "has",
          "dos",
          "manera",
          "retrato",
          "mí",
          "ella",
          "nos",
          "demasiado",
          "noche",
          "vez",
          "tenía",
          "usted",
          "tú",
          "mientras",
          "ahora",
          "está",
          "hasta",
          "decir",
          "tiene",
          "todos",
          "menos",
          "rostro",
          "hay",
          "cómo",
          "tiempo",
          "alma",
          "casa",
          "mismo",
          "hacer",
          "joven",
          "personas",
          "momento",
          "porque",
          "cabeza",
          "puerta",
          "ese",
          "desde",
          "algún",
          "mejor",
          "hubiera",
          "estoy",
          "cierto",
          "uno",
          "hacia",
          "ver",
          "ni",
          "creo",
          "arte",
          "así",
          "labios",
          "quiero",
          "entre",
          "fue",
          "belleza",
          "habitación",
          "día",
          "otra",
          "persona",
          "tengo",
          "vane",
          "veces",
          "poco",
          "sé",
          "esa",
          "allí",
          "unos",
          "mujeres",
          "hace",
          "murmuró",
          "preguntó",
          "muchacho",
          "esta",
          "gran",
          "también",
          "amor",
          "parecía",
          "lady",
          "mano",
          "ti",
          "verdad",
          "todas",
          "toda",
          "voz",
          "quien",
          "años",
          "alguna",
          "parece",
          "cosa",
          "manos",
          "dicho",
          "cuadro",
          "terrible",
          "donde",
          "querido",
          "habían",
          "color",
          "mesa",
          "eres",
          "mujer",
          "aunque",
          "quizá",
          "otro",
          "nadie",
          "duquesa",
          "puede",
          "visto",
          "antes",
          "obra",
          "casi",
          "amigo",
          "embargo",
          "durante",
          "misma",
          "hizo",
          "aquel",
          "han",
          "oro",
          "aire",
          "miró",
          "madre",
          "empezó",
          "entonces"
         ],
         "type": "scatter3d",
         "x": [
          7.883232593536377,
          -27.570140838623047,
          -7.680482864379883,
          13.429655075073242,
          10.438474655151367,
          4.8521013259887695,
          24.62246322631836,
          -28.26110076904297,
          8.60830307006836,
          7.207790851593018,
          -10.270181655883789,
          17.276325225830078,
          -28.910858154296875,
          1.3455662727355957,
          1.2640396356582642,
          8.274918556213379,
          11.205178260803223,
          -28.922168731689453,
          -30.55033302307129,
          -8.675711631774902,
          3.942045211791992,
          -24.695301055908203,
          11.804133415222168,
          20.838937759399414,
          -14.382905960083008,
          -15.598740577697754,
          -5.371057987213135,
          -11.851194381713867,
          -19.842905044555664,
          -32.722496032714844,
          -6.128965377807617,
          24.693571090698242,
          37.346160888671875,
          -10.611213684082031,
          -4.463185787200928,
          32.526939392089844,
          -22.977657318115234,
          -15.817604064941406,
          -3.1742403507232666,
          6.690604209899902,
          -13.441807746887207,
          -28.46826934814453,
          17.916175842285156,
          -7.320911884307861,
          -18.018991470336914,
          -2.6717007160186768,
          -15.681605339050293,
          -29.362411499023438,
          -8.336950302124023,
          -26.659297943115234,
          -12.141284942626953,
          -26.399003982543945,
          -29.58479118347168,
          -25.420202255249023,
          -1.3913655281066895,
          -27.740434646606445,
          -10.866779327392578,
          -22.248088836669922,
          -12.432147026062012,
          -40.359153747558594,
          23.665151596069336,
          26.735958099365234,
          -21.699417114257812,
          -5.69851016998291,
          -7.64532470703125,
          -1.8970082998275757,
          17.289676666259766,
          -12.272674560546875,
          2.7051031589508057,
          -29.82139015197754,
          3.3813867568969727,
          10.983281135559082,
          -13.7362699508667,
          -27.240922927856445,
          4.194305896759033,
          -38.80540084838867,
          -2.2696633338928223,
          -4.762505531311035,
          -29.326778411865234,
          12.600052833557129,
          -12.431492805480957,
          14.307755470275879,
          -19.111289978027344,
          -15.884093284606934,
          -4.330920696258545,
          -16.066381454467773,
          -14.54466724395752,
          -16.282535552978516,
          -16.925559997558594,
          -21.8757381439209,
          -29.194263458251953,
          29.356538772583008,
          -23.36888313293457,
          -14.67477798461914,
          19.1175537109375,
          -24.949251174926758,
          -18.40339469909668,
          8.67508602142334,
          -11.998635292053223,
          17.656089782714844,
          -22.342273712158203,
          -24.744064331054688,
          4.864330291748047,
          8.500150680541992,
          -7.39634370803833,
          -16.646106719970703,
          -23.330320358276367,
          -1.0946086645126343,
          5.824349403381348,
          18.34916114807129,
          -32.550926208496094,
          32.13494873046875,
          29.714662551879883,
          -15.033244132995605,
          20.453874588012695,
          9.761578559875488,
          -18.776742935180664,
          -26.080965042114258,
          -27.31595802307129,
          -23.413196563720703,
          5.079585552215576,
          33.79194641113281,
          -17.256967544555664,
          -0.6367902159690857,
          -25.354522705078125,
          4.27265739440918,
          -23.791244506835938,
          28.380958557128906,
          -25.015830993652344,
          16.615140914916992,
          -5.971569538116455,
          2.184502124786377,
          27.471424102783203,
          7.842345714569092,
          -19.15786361694336,
          -13.57933521270752,
          -27.205251693725586,
          1.3686188459396362,
          1.1378542184829712,
          -11.013487815856934,
          -30.690004348754883,
          -13.773051261901855,
          8.803750991821289,
          13.560480117797852,
          3.8497328758239746,
          -20.1070499420166,
          -3.3014163970947266,
          -5.137686252593994,
          -0.7285129427909851,
          3.747913122177124,
          11.151971817016602,
          -17.633909225463867,
          -1.851494312286377,
          -3.6107733249664307,
          -8.258217811584473,
          31.955610275268555,
          -19.746299743652344,
          -28.251745223999023,
          7.40723180770874,
          -3.150026798248291,
          2.832772731781006,
          -18.8698673248291,
          9.235185623168945,
          -21.984994888305664,
          -26.45919418334961,
          -15.672629356384277,
          23.060089111328125,
          -35.7376708984375,
          12.658761024475098,
          -8.854713439941406,
          24.95094871520996,
          -9.757242202758789,
          -25.47889518737793,
          24.037500381469727,
          25.767873764038086,
          -25.59076499938965,
          1.3938876390457153,
          -16.218713760375977,
          -13.655841827392578,
          10.74846363067627,
          -36.06632614135742,
          -1.0201023817062378,
          -17.271987915039062,
          -38.74224090576172,
          -24.80059242248535,
          -6.453679084777832,
          5.355897903442383,
          -10.80898666381836,
          -16.448816299438477,
          9.861776351928711,
          -9.495558738708496,
          16.679853439331055,
          8.603845596313477,
          -28.013540267944336,
          22.61548614501953,
          16.072860717773438,
          34.78703308105469,
          -5.065390586853027,
          26.464702606201172,
          -11.691357612609863
         ],
         "y": [
          9.284438133239746,
          6.211272239685059,
          -2.230908155441284,
          -0.45992961525917053,
          25.796838760375977,
          -2.049271583557129,
          13.586074829101562,
          -13.583423614501953,
          -19.271493911743164,
          26.668903350830078,
          -15.647419929504395,
          -2.4381818771362305,
          9.063671112060547,
          16.11020278930664,
          -1.6816664934158325,
          3.650587558746338,
          -14.501617431640625,
          -8.160390853881836,
          -4.549585819244385,
          -14.351370811462402,
          -15.545854568481445,
          6.560855388641357,
          25.515548706054688,
          18.67715835571289,
          10.21242904663086,
          4.33334493637085,
          18.553783416748047,
          8.555536270141602,
          -15.657366752624512,
          -7.446157932281494,
          -19.94550895690918,
          10.942063331604004,
          -13.488323211669922,
          0.8922791481018066,
          -1.1067811250686646,
          -16.837087631225586,
          -7.199643135070801,
          1.361841082572937,
          -10.872700691223145,
          -10.489121437072754,
          -19.42365074157715,
          2.9522321224212646,
          3.7661449909210205,
          5.788397312164307,
          18.984722137451172,
          -19.997323989868164,
          -15.671235084533691,
          4.212069034576416,
          2.748896360397339,
          -12.305807113647461,
          20.673871994018555,
          -11.128787994384766,
          -0.4176301062107086,
          14.179117202758789,
          -8.797380447387695,
          6.191701412200928,
          1.5893855094909668,
          4.097210884094238,
          -2.31223726272583,
          4.234095096588135,
          -11.765035629272461,
          4.824929237365723,
          -13.186819076538086,
          -17.838577270507812,
          -8.262797355651855,
          3.5637423992156982,
          -8.483378410339355,
          4.146022319793701,
          0.673214316368103,
          4.808194160461426,
          7.176402568817139,
          16.67356300354004,
          -19.609600067138672,
          3.245920419692993,
          8.449275016784668,
          10.066431999206543,
          -17.078580856323242,
          -12.977324485778809,
          0.6258576512336731,
          3.0727477073669434,
          -10.720345497131348,
          14.445935249328613,
          2.2022368907928467,
          -5.473423480987549,
          16.616477966308594,
          1.813720941543579,
          14.687941551208496,
          -8.698312759399414,
          14.933927536010742,
          -15.280740737915039,
          -1.804571509361267,
          -7.434514999389648,
          -7.596971035003662,
          -14.675559043884277,
          -13.806466102600098,
          9.933504104614258,
          -13.632244110107422,
          15.652216911315918,
          13.14406681060791,
          11.540581703186035,
          16.59718894958496,
          -12.358384132385254,
          20.25274085998535,
          0.12004884332418442,
          -23.97357749938965,
          6.9232683181762695,
          9.207752227783203,
          -17.920230865478516,
          2.528587818145752,
          13.785861015319824,
          7.51508903503418,
          -8.02161979675293,
          -6.966437816619873,
          -19.30413818359375,
          -14.850168228149414,
          16.588886260986328,
          9.222884178161621,
          4.382604598999023,
          -7.936800956726074,
          -16.5151424407959,
          14.950019836425781,
          -5.343613624572754,
          9.476181983947754,
          -18.235210418701172,
          -3.1058762073516846,
          12.774439811706543,
          -11.431632995605469,
          5.681325912475586,
          4.438672065734863,
          -0.5641916394233704,
          -18.53975486755371,
          -12.512062072753906,
          -6.631504535675049,
          8.227397918701172,
          -2.8570616245269775,
          -9.650197982788086,
          0.294270783662796,
          -13.61109447479248,
          14.874357223510742,
          17.898073196411133,
          -7.197767734527588,
          -19.281394958496094,
          -2.1115853786468506,
          19.992876052856445,
          1.266342043876648,
          8.638995170593262,
          -18.479442596435547,
          -19.820146560668945,
          -11.821379661560059,
          23.12108039855957,
          -19.09979820251465,
          3.663619041442871,
          -7.170763969421387,
          19.54948616027832,
          -20.31615447998047,
          -3.189262628555298,
          2.9606428146362305,
          -2.716012716293335,
          1.4309645891189575,
          -2.6670310497283936,
          -16.967105865478516,
          1.958749771118164,
          19.765443801879883,
          -4.405956745147705,
          1.1216530799865723,
          -6.529216766357422,
          4.75121545791626,
          0.11797721683979034,
          9.649585723876953,
          9.00623893737793,
          11.712240219116211,
          -19.479610443115234,
          6.242055416107178,
          11.55726432800293,
          -7.402711868286133,
          -5.19268274307251,
          -19.37938117980957,
          4.083617687225342,
          3.9787139892578125,
          15.411486625671387,
          2.4568419456481934,
          -16.030534744262695,
          13.228924751281738,
          1.5985486507415771,
          6.449533939361572,
          -9.256482124328613,
          20.9744930267334,
          -21.396127700805664,
          18.913782119750977,
          -13.227967262268066,
          -1.0007011890411377,
          -14.314998626708984,
          26.243053436279297,
          5.529730796813965,
          12.876928329467773,
          3.7570605278015137,
          -7.231429576873779,
          -21.40047836303711,
          0.3116724193096161,
          13.979729652404785
         ],
         "z": [
          1.85642409324646,
          -8.334510803222656,
          -24.96760368347168,
          5.334442138671875,
          -1.0882887840270996,
          9.64725112915039,
          -1.223827838897705,
          1.8067775964736938,
          0.7820411324501038,
          0.414006769657135,
          -16.036943435668945,
          16.92546272277832,
          1.6271215677261353,
          21.854942321777344,
          -22.341367721557617,
          26.37286376953125,
          2.6220083236694336,
          -9.596339225769043,
          9.381620407104492,
          15.75140380859375,
          0.47523942589759827,
          17.977846145629883,
          -1.62373948097229,
          -2.5949177742004395,
          -2.3155360221862793,
          6.924945831298828,
          0.3063119053840637,
          -6.566493034362793,
          -4.552090644836426,
          -3.825857639312744,
          -8.358748435974121,
          14.032146453857422,
          7.199311256408691,
          22.609745025634766,
          17.826961517333984,
          5.000027656555176,
          -10.379571914672852,
          -21.738277435302734,
          -18.553821563720703,
          14.78360652923584,
          -2.53967022895813,
          15.514420509338379,
          -22.724607467651367,
          -13.116171836853027,
          -6.492405414581299,
          17.944095611572266,
          -14.827980995178223,
          9.880791664123535,
          16.359193801879883,
          -3.588036060333252,
          1.126932144165039,
          5.13906717300415,
          14.668258666992188,
          -5.932563304901123,
          14.797286987304688,
          -2.6924071311950684,
          5.717031002044678,
          -14.43234634399414,
          6.738724708557129,
          6.71498441696167,
          -2.5173957347869873,
          10.797449111938477,
          6.142508029937744,
          17.630216598510742,
          21.08052635192871,
          24.793228149414062,
          9.00877857208252,
          9.846181869506836,
          22.048004150390625,
          -0.22630254924297333,
          26.239234924316406,
          3.9821724891662598,
          -4.573498249053955,
          6.655125141143799,
          -19.765321731567383,
          4.175824165344238,
          17.21732521057129,
          16.52330780029297,
          14.656542778015137,
          22.81591796875,
          -19.138172149658203,
          -15.082192420959473,
          10.212446212768555,
          0.46028462052345276,
          12.335226058959961,
          13.822327613830566,
          17.330556869506836,
          -15.65081787109375,
          -1.1833953857421875,
          2.9415953159332275,
          1.8485244512557983,
          7.994699954986572,
          -1.8371913433074951,
          7.778456687927246,
          7.696291446685791,
          -3.1869184970855713,
          15.05195426940918,
          20.710872650146484,
          -5.342680931091309,
          -11.315567016601562,
          0.1278885304927826,
          0.8266552090644836,
          -10.68969440460205,
          -22.021467208862305,
          7.761356353759766,
          12.20165729522705,
          -2.394554376602173,
          2.507500410079956,
          22.43511199951172,
          -4.956903457641602,
          -1.8637950420379639,
          -5.757078647613525,
          -1.5843584537506104,
          5.637558460235596,
          7.5457024574279785,
          -1.9831278324127197,
          2.6136081218719482,
          16.548900604248047,
          8.692137718200684,
          -2.318885564804077,
          9.850469589233398,
          2.8159313201904297,
          -5.229340553283691,
          -13.484417915344238,
          -3.8551881313323975,
          -19.311050415039062,
          -7.864996910095215,
          8.094155311584473,
          3.8445074558258057,
          16.816720962524414,
          -7.573410987854004,
          -16.630268096923828,
          -7.287876605987549,
          -22.68733787536621,
          -17.265485763549805,
          -12.141999244689941,
          4.721599102020264,
          11.833359718322754,
          12.485845565795898,
          7.421662330627441,
          -0.2520783245563507,
          -7.876173973083496,
          4.646530628204346,
          7.399771690368652,
          20.57316780090332,
          7.941418170928955,
          16.788558959960938,
          16.941165924072266,
          19.412368774414062,
          -3.1579926013946533,
          -8.640100479125977,
          19.10113525390625,
          -23.373884201049805,
          -11.490540504455566,
          11.213835716247559,
          -7.143600940704346,
          10.571765899658203,
          -10.410059928894043,
          20.362144470214844,
          -21.6741886138916,
          8.38041877746582,
          19.649066925048828,
          8.59769344329834,
          -16.683656692504883,
          -10.124991416931152,
          -20.01616859436035,
          17.90359115600586,
          5.94620943069458,
          -12.696352005004883,
          -14.570196151733398,
          -1.671229362487793,
          7.072877883911133,
          16.52225112915039,
          5.4708051681518555,
          -12.170635223388672,
          -7.345410346984863,
          5.261282920837402,
          0.6130221486091614,
          -12.135396003723145,
          -3.0898687839508057,
          10.040505409240723,
          9.025943756103516,
          2.020557403564453,
          6.689697742462158,
          9.65463638305664,
          -17.258975982666016,
          5.927257537841797,
          0.2910819947719574,
          -10.607390403747559,
          -10.060132026672363,
          -16.67748260498047,
          -0.29104334115982056,
          -0.2889104187488556,
          13.8597993850708,
          8.030646324157715,
          -6.5240888595581055,
          7.211519241333008,
          3.488854169845581,
          1.4917535781860352,
          -13.634926795959473
         ]
        }
       ],
       "layout": {
        "legend": {
         "tracegroupgap": 0
        },
        "margin": {
         "t": 60
        },
        "scene": {
         "domain": {
          "x": [
           0,
           1
          ],
          "y": [
           0,
           1
          ]
         },
         "xaxis": {
          "title": {
           "text": "x"
          }
         },
         "yaxis": {
          "title": {
           "text": "y"
          }
         },
         "zaxis": {
          "title": {
           "text": "z"
          }
         }
        },
        "template": {
         "data": {
          "bar": [
           {
            "error_x": {
             "color": "#2a3f5f"
            },
            "error_y": {
             "color": "#2a3f5f"
            },
            "marker": {
             "line": {
              "color": "#E5ECF6",
              "width": 0.5
             },
             "pattern": {
              "fillmode": "overlay",
              "size": 10,
              "solidity": 0.2
             }
            },
            "type": "bar"
           }
          ],
          "barpolar": [
           {
            "marker": {
             "line": {
              "color": "#E5ECF6",
              "width": 0.5
             },
             "pattern": {
              "fillmode": "overlay",
              "size": 10,
              "solidity": 0.2
             }
            },
            "type": "barpolar"
           }
          ],
          "carpet": [
           {
            "aaxis": {
             "endlinecolor": "#2a3f5f",
             "gridcolor": "white",
             "linecolor": "white",
             "minorgridcolor": "white",
             "startlinecolor": "#2a3f5f"
            },
            "baxis": {
             "endlinecolor": "#2a3f5f",
             "gridcolor": "white",
             "linecolor": "white",
             "minorgridcolor": "white",
             "startlinecolor": "#2a3f5f"
            },
            "type": "carpet"
           }
          ],
          "choropleth": [
           {
            "colorbar": {
             "outlinewidth": 0,
             "ticks": ""
            },
            "type": "choropleth"
           }
          ],
          "contour": [
           {
            "colorbar": {
             "outlinewidth": 0,
             "ticks": ""
            },
            "colorscale": [
             [
              0,
              "#0d0887"
             ],
             [
              0.1111111111111111,
              "#46039f"
             ],
             [
              0.2222222222222222,
              "#7201a8"
             ],
             [
              0.3333333333333333,
              "#9c179e"
             ],
             [
              0.4444444444444444,
              "#bd3786"
             ],
             [
              0.5555555555555556,
              "#d8576b"
             ],
             [
              0.6666666666666666,
              "#ed7953"
             ],
             [
              0.7777777777777778,
              "#fb9f3a"
             ],
             [
              0.8888888888888888,
              "#fdca26"
             ],
             [
              1,
              "#f0f921"
             ]
            ],
            "type": "contour"
           }
          ],
          "contourcarpet": [
           {
            "colorbar": {
             "outlinewidth": 0,
             "ticks": ""
            },
            "type": "contourcarpet"
           }
          ],
          "heatmap": [
           {
            "colorbar": {
             "outlinewidth": 0,
             "ticks": ""
            },
            "colorscale": [
             [
              0,
              "#0d0887"
             ],
             [
              0.1111111111111111,
              "#46039f"
             ],
             [
              0.2222222222222222,
              "#7201a8"
             ],
             [
              0.3333333333333333,
              "#9c179e"
             ],
             [
              0.4444444444444444,
              "#bd3786"
             ],
             [
              0.5555555555555556,
              "#d8576b"
             ],
             [
              0.6666666666666666,
              "#ed7953"
             ],
             [
              0.7777777777777778,
              "#fb9f3a"
             ],
             [
              0.8888888888888888,
              "#fdca26"
             ],
             [
              1,
              "#f0f921"
             ]
            ],
            "type": "heatmap"
           }
          ],
          "heatmapgl": [
           {
            "colorbar": {
             "outlinewidth": 0,
             "ticks": ""
            },
            "colorscale": [
             [
              0,
              "#0d0887"
             ],
             [
              0.1111111111111111,
              "#46039f"
             ],
             [
              0.2222222222222222,
              "#7201a8"
             ],
             [
              0.3333333333333333,
              "#9c179e"
             ],
             [
              0.4444444444444444,
              "#bd3786"
             ],
             [
              0.5555555555555556,
              "#d8576b"
             ],
             [
              0.6666666666666666,
              "#ed7953"
             ],
             [
              0.7777777777777778,
              "#fb9f3a"
             ],
             [
              0.8888888888888888,
              "#fdca26"
             ],
             [
              1,
              "#f0f921"
             ]
            ],
            "type": "heatmapgl"
           }
          ],
          "histogram": [
           {
            "marker": {
             "pattern": {
              "fillmode": "overlay",
              "size": 10,
              "solidity": 0.2
             }
            },
            "type": "histogram"
           }
          ],
          "histogram2d": [
           {
            "colorbar": {
             "outlinewidth": 0,
             "ticks": ""
            },
            "colorscale": [
             [
              0,
              "#0d0887"
             ],
             [
              0.1111111111111111,
              "#46039f"
             ],
             [
              0.2222222222222222,
              "#7201a8"
             ],
             [
              0.3333333333333333,
              "#9c179e"
             ],
             [
              0.4444444444444444,
              "#bd3786"
             ],
             [
              0.5555555555555556,
              "#d8576b"
             ],
             [
              0.6666666666666666,
              "#ed7953"
             ],
             [
              0.7777777777777778,
              "#fb9f3a"
             ],
             [
              0.8888888888888888,
              "#fdca26"
             ],
             [
              1,
              "#f0f921"
             ]
            ],
            "type": "histogram2d"
           }
          ],
          "histogram2dcontour": [
           {
            "colorbar": {
             "outlinewidth": 0,
             "ticks": ""
            },
            "colorscale": [
             [
              0,
              "#0d0887"
             ],
             [
              0.1111111111111111,
              "#46039f"
             ],
             [
              0.2222222222222222,
              "#7201a8"
             ],
             [
              0.3333333333333333,
              "#9c179e"
             ],
             [
              0.4444444444444444,
              "#bd3786"
             ],
             [
              0.5555555555555556,
              "#d8576b"
             ],
             [
              0.6666666666666666,
              "#ed7953"
             ],
             [
              0.7777777777777778,
              "#fb9f3a"
             ],
             [
              0.8888888888888888,
              "#fdca26"
             ],
             [
              1,
              "#f0f921"
             ]
            ],
            "type": "histogram2dcontour"
           }
          ],
          "mesh3d": [
           {
            "colorbar": {
             "outlinewidth": 0,
             "ticks": ""
            },
            "type": "mesh3d"
           }
          ],
          "parcoords": [
           {
            "line": {
             "colorbar": {
              "outlinewidth": 0,
              "ticks": ""
             }
            },
            "type": "parcoords"
           }
          ],
          "pie": [
           {
            "automargin": true,
            "type": "pie"
           }
          ],
          "scatter": [
           {
            "fillpattern": {
             "fillmode": "overlay",
             "size": 10,
             "solidity": 0.2
            },
            "type": "scatter"
           }
          ],
          "scatter3d": [
           {
            "line": {
             "colorbar": {
              "outlinewidth": 0,
              "ticks": ""
             }
            },
            "marker": {
             "colorbar": {
              "outlinewidth": 0,
              "ticks": ""
             }
            },
            "type": "scatter3d"
           }
          ],
          "scattercarpet": [
           {
            "marker": {
             "colorbar": {
              "outlinewidth": 0,
              "ticks": ""
             }
            },
            "type": "scattercarpet"
           }
          ],
          "scattergeo": [
           {
            "marker": {
             "colorbar": {
              "outlinewidth": 0,
              "ticks": ""
             }
            },
            "type": "scattergeo"
           }
          ],
          "scattergl": [
           {
            "marker": {
             "colorbar": {
              "outlinewidth": 0,
              "ticks": ""
             }
            },
            "type": "scattergl"
           }
          ],
          "scattermapbox": [
           {
            "marker": {
             "colorbar": {
              "outlinewidth": 0,
              "ticks": ""
             }
            },
            "type": "scattermapbox"
           }
          ],
          "scatterpolar": [
           {
            "marker": {
             "colorbar": {
              "outlinewidth": 0,
              "ticks": ""
             }
            },
            "type": "scatterpolar"
           }
          ],
          "scatterpolargl": [
           {
            "marker": {
             "colorbar": {
              "outlinewidth": 0,
              "ticks": ""
             }
            },
            "type": "scatterpolargl"
           }
          ],
          "scatterternary": [
           {
            "marker": {
             "colorbar": {
              "outlinewidth": 0,
              "ticks": ""
             }
            },
            "type": "scatterternary"
           }
          ],
          "surface": [
           {
            "colorbar": {
             "outlinewidth": 0,
             "ticks": ""
            },
            "colorscale": [
             [
              0,
              "#0d0887"
             ],
             [
              0.1111111111111111,
              "#46039f"
             ],
             [
              0.2222222222222222,
              "#7201a8"
             ],
             [
              0.3333333333333333,
              "#9c179e"
             ],
             [
              0.4444444444444444,
              "#bd3786"
             ],
             [
              0.5555555555555556,
              "#d8576b"
             ],
             [
              0.6666666666666666,
              "#ed7953"
             ],
             [
              0.7777777777777778,
              "#fb9f3a"
             ],
             [
              0.8888888888888888,
              "#fdca26"
             ],
             [
              1,
              "#f0f921"
             ]
            ],
            "type": "surface"
           }
          ],
          "table": [
           {
            "cells": {
             "fill": {
              "color": "#EBF0F8"
             },
             "line": {
              "color": "white"
             }
            },
            "header": {
             "fill": {
              "color": "#C8D4E3"
             },
             "line": {
              "color": "white"
             }
            },
            "type": "table"
           }
          ]
         },
         "layout": {
          "annotationdefaults": {
           "arrowcolor": "#2a3f5f",
           "arrowhead": 0,
           "arrowwidth": 1
          },
          "autotypenumbers": "strict",
          "coloraxis": {
           "colorbar": {
            "outlinewidth": 0,
            "ticks": ""
           }
          },
          "colorscale": {
           "diverging": [
            [
             0,
             "#8e0152"
            ],
            [
             0.1,
             "#c51b7d"
            ],
            [
             0.2,
             "#de77ae"
            ],
            [
             0.3,
             "#f1b6da"
            ],
            [
             0.4,
             "#fde0ef"
            ],
            [
             0.5,
             "#f7f7f7"
            ],
            [
             0.6,
             "#e6f5d0"
            ],
            [
             0.7,
             "#b8e186"
            ],
            [
             0.8,
             "#7fbc41"
            ],
            [
             0.9,
             "#4d9221"
            ],
            [
             1,
             "#276419"
            ]
           ],
           "sequential": [
            [
             0,
             "#0d0887"
            ],
            [
             0.1111111111111111,
             "#46039f"
            ],
            [
             0.2222222222222222,
             "#7201a8"
            ],
            [
             0.3333333333333333,
             "#9c179e"
            ],
            [
             0.4444444444444444,
             "#bd3786"
            ],
            [
             0.5555555555555556,
             "#d8576b"
            ],
            [
             0.6666666666666666,
             "#ed7953"
            ],
            [
             0.7777777777777778,
             "#fb9f3a"
            ],
            [
             0.8888888888888888,
             "#fdca26"
            ],
            [
             1,
             "#f0f921"
            ]
           ],
           "sequentialminus": [
            [
             0,
             "#0d0887"
            ],
            [
             0.1111111111111111,
             "#46039f"
            ],
            [
             0.2222222222222222,
             "#7201a8"
            ],
            [
             0.3333333333333333,
             "#9c179e"
            ],
            [
             0.4444444444444444,
             "#bd3786"
            ],
            [
             0.5555555555555556,
             "#d8576b"
            ],
            [
             0.6666666666666666,
             "#ed7953"
            ],
            [
             0.7777777777777778,
             "#fb9f3a"
            ],
            [
             0.8888888888888888,
             "#fdca26"
            ],
            [
             1,
             "#f0f921"
            ]
           ]
          },
          "colorway": [
           "#636efa",
           "#EF553B",
           "#00cc96",
           "#ab63fa",
           "#FFA15A",
           "#19d3f3",
           "#FF6692",
           "#B6E880",
           "#FF97FF",
           "#FECB52"
          ],
          "font": {
           "color": "#2a3f5f"
          },
          "geo": {
           "bgcolor": "white",
           "lakecolor": "white",
           "landcolor": "#E5ECF6",
           "showlakes": true,
           "showland": true,
           "subunitcolor": "white"
          },
          "hoverlabel": {
           "align": "left"
          },
          "hovermode": "closest",
          "mapbox": {
           "style": "light"
          },
          "paper_bgcolor": "white",
          "plot_bgcolor": "#E5ECF6",
          "polar": {
           "angularaxis": {
            "gridcolor": "white",
            "linecolor": "white",
            "ticks": ""
           },
           "bgcolor": "#E5ECF6",
           "radialaxis": {
            "gridcolor": "white",
            "linecolor": "white",
            "ticks": ""
           }
          },
          "scene": {
           "xaxis": {
            "backgroundcolor": "#E5ECF6",
            "gridcolor": "white",
            "gridwidth": 2,
            "linecolor": "white",
            "showbackground": true,
            "ticks": "",
            "zerolinecolor": "white"
           },
           "yaxis": {
            "backgroundcolor": "#E5ECF6",
            "gridcolor": "white",
            "gridwidth": 2,
            "linecolor": "white",
            "showbackground": true,
            "ticks": "",
            "zerolinecolor": "white"
           },
           "zaxis": {
            "backgroundcolor": "#E5ECF6",
            "gridcolor": "white",
            "gridwidth": 2,
            "linecolor": "white",
            "showbackground": true,
            "ticks": "",
            "zerolinecolor": "white"
           }
          },
          "shapedefaults": {
           "line": {
            "color": "#2a3f5f"
           }
          },
          "ternary": {
           "aaxis": {
            "gridcolor": "white",
            "linecolor": "white",
            "ticks": ""
           },
           "baxis": {
            "gridcolor": "white",
            "linecolor": "white",
            "ticks": ""
           },
           "bgcolor": "#E5ECF6",
           "caxis": {
            "gridcolor": "white",
            "linecolor": "white",
            "ticks": ""
           }
          },
          "title": {
           "x": 0.05
          },
          "xaxis": {
           "automargin": true,
           "gridcolor": "white",
           "linecolor": "white",
           "ticks": "",
           "title": {
            "standoff": 15
           },
           "zerolinecolor": "white",
           "zerolinewidth": 2
          },
          "yaxis": {
           "automargin": true,
           "gridcolor": "white",
           "linecolor": "white",
           "ticks": "",
           "title": {
            "standoff": 15
           },
           "zerolinecolor": "white",
           "zerolinewidth": 2
          }
         }
        }
       }
      }
     },
     "metadata": {},
     "output_type": "display_data"
    }
   ],
   "source": [
    "# Graficar los embedddings en 3D\n",
    "\n",
    "vecs, labels = reduce_dimensions(w2v_model,3)\n",
    "\n",
    "fig = px.scatter_3d(x=vecs[:MAX_WORDS,0], y=vecs[:MAX_WORDS,1], z=vecs[:MAX_WORDS,2],text=labels[:MAX_WORDS])\n",
    "fig.update_traces(marker_size = 2)\n",
    "fig.show() # esto para plotly en colab\n",
    "#fig.show(renderer=\"colab\") # esto para plotly en colab"
   ]
  },
  {
   "cell_type": "markdown",
   "metadata": {},
   "source": [
    "En este grafico 3D se observan otras relaciones relevantes al contenido de la obra, la cercania entre los nombres de los personajes principales( dorian, hallward, basil, sibyl), entre otras palabras similares (mucho y demasiado)\n"
   ]
  }
 ],
 "metadata": {
  "colab": {
   "collapsed_sections": [],
   "provenance": []
  },
  "kernelspec": {
   "display_name": "Python 3 (ipykernel)",
   "language": "python",
   "name": "python3"
  },
  "language_info": {
   "codemirror_mode": {
    "name": "ipython",
    "version": 3
   },
   "file_extension": ".py",
   "mimetype": "text/x-python",
   "name": "python",
   "nbconvert_exporter": "python",
   "pygments_lexer": "ipython3",
   "version": "3.8.10"
  }
 },
 "nbformat": 4,
 "nbformat_minor": 4
}
