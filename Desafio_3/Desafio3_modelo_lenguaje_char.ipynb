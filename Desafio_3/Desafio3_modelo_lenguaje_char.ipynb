{
  "cells": [
    {
      "cell_type": "markdown",
      "metadata": {
        "id": "g3yeJGnCYxuF"
      },
      "source": [
        "<img src=\"https://github.com/hernancontigiani/ceia_memorias_especializacion/raw/master/Figures/logoFIUBA.jpg\" width=\"500\" align=\"center\">\n",
        "\n",
        "\n",
        "# Procesamiento de lenguaje natural\n",
        "## Modelo de lenguaje con tokenización por caracteres"
      ]
    },
    {
      "cell_type": "markdown",
      "metadata": {
        "id": "Iv5PEwGzZA9-"
      },
      "source": [
        "### Consigna\n",
        "- Seleccionar un corpus de texto sobre el cual entrenar el modelo de lenguaje.\n",
        "- Realizar el pre-procesamiento adecuado para tokenizar el corpus, estructurar el dataset y separar entre datos de entrenamiento y validación.\n",
        "- Proponer arquitecturas de redes neuronales basadas en unidades recurrentes para implementar un modelo de lenguaje.\n",
        "- Con el o los modelos que consideren adecuados, generar nuevas secuencias a partir de secuencias de contexto con las estrategias de greedy search y beam search determístico y estocástico. En este último caso observar el efecto de la temperatura en la generación de secuencias.\n",
        "\n",
        "\n",
        "### Sugerencias\n",
        "- Durante el entrenamiento, guiarse por el descenso de la perplejidad en los datos de validación para finalizar el entrenamiento. Para ello se provee un callback.\n",
        "- Explorar utilizar SimpleRNN (celda de Elman), LSTM y GRU.\n",
        "- rmsprop es el optimizador recomendado para la buena convergencia. No obstante se pueden explorar otros.\n"
      ]
    },
    {
      "cell_type": "code",
      "execution_count": 3,
      "metadata": {
        "id": "Y-QdFbHZYj7C"
      },
      "outputs": [],
      "source": [
        "import random\n",
        "import io\n",
        "import pickle\n",
        "\n",
        "import numpy as np\n",
        "import pandas as pd\n",
        "import matplotlib.pyplot as plt\n",
        "from sklearn.model_selection import train_test_split\n",
        "\n",
        "from tensorflow import keras\n",
        "from tensorflow.keras import layers\n",
        "from keras.utils import to_categorical\n",
        "from keras.models import Sequential\n",
        "from keras.layers import Dense, LSTM, Embedding, Dropout\n",
        "from tensorflow.keras.losses import SparseCategoricalCrossentropy"
      ]
    },
    {
      "cell_type": "markdown",
      "metadata": {
        "id": "xTvXlEKQZdqx"
      },
      "source": [
        "### Datos\n",
        "Utilizaremos como dataset canciones de bandas de habla inglés."
      ]
    },
    {
      "cell_type": "code",
      "execution_count": 2,
      "metadata": {
        "id": "7amy6uUaBLVD"
      },
      "outputs": [],
      "source": [
        "# descargar de textos.info\n",
        "import urllib.request\n",
        "\n",
        "# Para leer y parsear el texto en HTML de wikipedia\n",
        "import bs4 as bs"
      ]
    },
    {
      "cell_type": "code",
      "execution_count": 3,
      "metadata": {
        "id": "6v_ickFwBJTy"
      },
      "outputs": [],
      "source": [
        "raw_html = urllib.request.urlopen('https://www.textos.info/julio-verne/la-vuelta-al-mundo-en-80-dias/ebook')\n",
        "raw_html = raw_html.read()\n",
        "\n",
        "# Parsear artículo, 'lxml' es el parser a utilizar\n",
        "article_html = bs.BeautifulSoup(raw_html, 'lxml')\n",
        "\n",
        "# Encontrar todos los párrafos del HTML (bajo el tag <p>)\n",
        "# y tenerlos disponible como lista\n",
        "article_paragraphs = article_html.find_all('p')\n",
        "\n",
        "article_text = ''\n",
        "\n",
        "for para in article_paragraphs:\n",
        "    article_text += para.text + ' '\n",
        "\n",
        "# pasar todo el texto a minúscula\n",
        "article_text = article_text.lower()"
      ]
    },
    {
      "cell_type": "code",
      "execution_count": 4,
      "metadata": {
        "id": "WBE0sSYuB-E6"
      },
      "outputs": [
        {
          "data": {
            "text/plain": [
              "' en el año 1872, la casa número 7 de saville-row, burlington gardens \\r\\n—donde murió sheridan en 1814— estaba habitada por phileas fogg, quien a\\r\\n pesar de que parecía haber tomado el partido de no hacer nada que \\r\\npudiese llamar la atención, era uno de los miembros más notables y \\r\\nsingulares del reformclub de londres. por consiguiente, phileas fogg, personaje enigmático y del cual sólo \\r\\nse sabía que era un hombre muy galante y de los más cumplidos gentlemen \\r\\nde la alta sociedad inglesa, sucedía a uno de los más grandes oradores \\r\\nque honran a inglaterra. decíase que se daba un aire a lo byron —su cabeza, se entiende, \\r\\nporque, en cuanto a los pies, no tenía defecto alguno—, pero a un byron \\r\\nde bigote y pastillas, a un byron impasible, que hubiera vivido mil años\\r\\n sin envejecer. phileas fogg, era inglés de pura cepa; pero quizás no había nacido en\\r\\n londres. jamás se le había visto en la bolsa ni en el banco, ni en \\r\\nninguno de los despachos mercantiles de la city. ni las dársenas '"
            ]
          },
          "execution_count": 4,
          "metadata": {},
          "output_type": "execute_result"
        }
      ],
      "source": [
        "# en article text se encuentra el texto de todo el libro\n",
        "article_text[:1000]"
      ]
    },
    {
      "cell_type": "markdown",
      "metadata": {
        "id": "cP1JdiOIKQWi"
      },
      "source": [
        "### Elegir el tamaño del contexto\n",
        "\n",
        "En este caso, como el modelo de lenguaje es por caracteres, todo un gran corpus\n",
        "de texto puede ser considerado un documento en sí mismo y el tamaño de contexto\n",
        "puede ser elegido con más libertad en comparación a un modelo de lenguaje tokenizado por palabras y dividido en documentos más acotados."
      ]
    },
    {
      "cell_type": "code",
      "execution_count": 5,
      "metadata": {
        "id": "wumBNwdjJM3j"
      },
      "outputs": [],
      "source": [
        "# seleccionamos el tamaño de contexto\n",
        "max_context_size = 100"
      ]
    },
    {
      "cell_type": "code",
      "execution_count": 6,
      "metadata": {
        "id": "m5FeTaGvbDbw"
      },
      "outputs": [],
      "source": [
        "# Usaremos las utilidades de procesamiento de textos y secuencias de Keras\n",
        "from tensorflow.keras.utils import pad_sequences # se utilizará para padding"
      ]
    },
    {
      "cell_type": "code",
      "execution_count": 7,
      "metadata": {
        "id": "573Cg5n7VhWw"
      },
      "outputs": [],
      "source": [
        "# en este caso el vocabulario es el conjunto único de caracteres que existe en todo el texto\n",
        "chars_vocab = set(article_text)"
      ]
    },
    {
      "cell_type": "code",
      "execution_count": 8,
      "metadata": {
        "id": "VwTK6xgLJd8q"
      },
      "outputs": [
        {
          "data": {
            "text/plain": [
              "68"
            ]
          },
          "execution_count": 8,
          "metadata": {},
          "output_type": "execute_result"
        }
      ],
      "source": [
        "# la longitud de vocabulario de caracteres es:\n",
        "len(chars_vocab)"
      ]
    },
    {
      "cell_type": "code",
      "execution_count": 9,
      "metadata": {
        "id": "2W0AeQjXV1Ou"
      },
      "outputs": [],
      "source": [
        "# Construimos los dicionarios que asignan índices a caracteres y viceversa.\n",
        "# El diccionario `char2idx` servirá como tokenizador.\n",
        "char2idx = {k: v for v,k in enumerate(chars_vocab)}\n",
        "idx2char = {v: k for k,v in char2idx.items()}"
      ]
    },
    {
      "cell_type": "markdown",
      "metadata": {
        "id": "2oIUjVU0LB0r"
      },
      "source": [
        "###  Tokenizar"
      ]
    },
    {
      "cell_type": "code",
      "execution_count": 10,
      "metadata": {
        "id": "h07G3srdJppo"
      },
      "outputs": [],
      "source": [
        "# tokenizamos el texto completo\n",
        "tokenized_text = [char2idx[ch] for ch in article_text]"
      ]
    },
    {
      "cell_type": "code",
      "execution_count": 11,
      "metadata": {
        "id": "PwGVSKOiJ5bj"
      },
      "outputs": [
        {
          "data": {
            "text/plain": [
              "[67,\n",
              " 20,\n",
              " 62,\n",
              " 67,\n",
              " 20,\n",
              " 28,\n",
              " 67,\n",
              " 38,\n",
              " 37,\n",
              " 45,\n",
              " 67,\n",
              " 8,\n",
              " 63,\n",
              " 2,\n",
              " 34,\n",
              " 59,\n",
              " 67,\n",
              " 28,\n",
              " 38,\n",
              " 67,\n",
              " 42,\n",
              " 38,\n",
              " 5,\n",
              " 38,\n",
              " 67,\n",
              " 62,\n",
              " 27,\n",
              " 14,\n",
              " 20,\n",
              " 15,\n",
              " 45,\n",
              " 67,\n",
              " 2,\n",
              " 67,\n",
              " 10,\n",
              " 20,\n",
              " 67,\n",
              " 5,\n",
              " 38,\n",
              " 61,\n",
              " 16,\n",
              " 28,\n",
              " 28,\n",
              " 20,\n",
              " 21,\n",
              " 15,\n",
              " 45,\n",
              " 3,\n",
              " 59,\n",
              " 67,\n",
              " 18,\n",
              " 52,\n",
              " 15,\n",
              " 28,\n",
              " 16,\n",
              " 62,\n",
              " 29,\n",
              " 39,\n",
              " 45,\n",
              " 62,\n",
              " 67,\n",
              " 29,\n",
              " 38,\n",
              " 15,\n",
              " 10,\n",
              " 20,\n",
              " 62,\n",
              " 5,\n",
              " 67,\n",
              " 53,\n",
              " 17,\n",
              " 22,\n",
              " 10,\n",
              " 45,\n",
              " 62,\n",
              " 10,\n",
              " 20,\n",
              " 67,\n",
              " 14,\n",
              " 52,\n",
              " 15,\n",
              " 16,\n",
              " 56,\n",
              " 67,\n",
              " 5,\n",
              " 4,\n",
              " 20,\n",
              " 15,\n",
              " 16,\n",
              " 10,\n",
              " 38,\n",
              " 62,\n",
              " 67,\n",
              " 20,\n",
              " 62,\n",
              " 67,\n",
              " 8,\n",
              " 63,\n",
              " 8,\n",
              " 0,\n",
              " 22,\n",
              " 67,\n",
              " 20,\n",
              " 5,\n",
              " 39,\n",
              " 38,\n",
              " 18,\n",
              " 38,\n",
              " 67,\n",
              " 4,\n",
              " 38,\n",
              " 18,\n",
              " 16,\n",
              " 39,\n",
              " 38,\n",
              " 10,\n",
              " 38,\n",
              " 67,\n",
              " 31,\n",
              " 45,\n",
              " 15,\n",
              " 67,\n",
              " 31,\n",
              " 4,\n",
              " 16,\n",
              " 28,\n",
              " 20,\n",
              " 38,\n",
              " 5,\n",
              " 67,\n",
              " 46,\n",
              " 45,\n",
              " 29,\n",
              " 29,\n",
              " 59,\n",
              " 67,\n",
              " 64,\n",
              " 52,\n",
              " 16,\n",
              " 20,\n",
              " 62,\n",
              " 67,\n",
              " 38,\n",
              " 53,\n",
              " 17,\n",
              " 67,\n",
              " 31,\n",
              " 20,\n",
              " 5,\n",
              " 38,\n",
              " 15,\n",
              " 67,\n",
              " 10,\n",
              " 20,\n",
              " 67,\n",
              " 64,\n",
              " 52,\n",
              " 20,\n",
              " 67,\n",
              " 31,\n",
              " 38,\n",
              " 15,\n",
              " 20,\n",
              " 42,\n",
              " 54,\n",
              " 38,\n",
              " 67,\n",
              " 4,\n",
              " 38,\n",
              " 18,\n",
              " 20,\n",
              " 15,\n",
              " 67,\n",
              " 39,\n",
              " 45,\n",
              " 14,\n",
              " 38,\n",
              " 10,\n",
              " 45,\n",
              " 67,\n",
              " 20,\n",
              " 28,\n",
              " 67,\n",
              " 31,\n",
              " 38,\n",
              " 15,\n",
              " 39,\n",
              " 16,\n",
              " 10,\n",
              " 45,\n",
              " 67,\n",
              " 10,\n",
              " 20,\n",
              " 67,\n",
              " 62,\n",
              " 45,\n",
              " 67,\n",
              " 4,\n",
              " 38,\n",
              " 42,\n",
              " 20,\n",
              " 15,\n",
              " 67,\n",
              " 62,\n",
              " 38,\n",
              " 10,\n",
              " 38,\n",
              " 67,\n",
              " 64,\n",
              " 52,\n",
              " 20,\n",
              " 67,\n",
              " 53,\n",
              " 17,\n",
              " 31,\n",
              " 52,\n",
              " 10,\n",
              " 16,\n",
              " 20,\n",
              " 5,\n",
              " 20,\n",
              " 67,\n",
              " 28,\n",
              " 28,\n",
              " 38,\n",
              " 14,\n",
              " 38,\n",
              " 15,\n",
              " 67,\n",
              " 28,\n",
              " 38,\n",
              " 67,\n",
              " 38,\n",
              " 39,\n",
              " 20,\n",
              " 62,\n",
              " 42,\n",
              " 16,\n",
              " 56,\n",
              " 62,\n",
              " 59,\n",
              " 67,\n",
              " 20,\n",
              " 15,\n",
              " 38,\n",
              " 67,\n",
              " 52,\n",
              " 62,\n",
              " 45,\n",
              " 67,\n",
              " 10,\n",
              " 20,\n",
              " 67,\n",
              " 28,\n",
              " 45,\n",
              " 5,\n",
              " 67,\n",
              " 14,\n",
              " 16,\n",
              " 20,\n",
              " 14,\n",
              " 18,\n",
              " 15,\n",
              " 45,\n",
              " 5,\n",
              " 67,\n",
              " 14,\n",
              " 44,\n",
              " 5,\n",
              " 67,\n",
              " 62,\n",
              " 45,\n",
              " 39,\n",
              " 38,\n",
              " 18,\n",
              " 28,\n",
              " 20,\n",
              " 5,\n",
              " 67,\n",
              " 6,\n",
              " 67,\n",
              " 53,\n",
              " 17,\n",
              " 5,\n",
              " 16,\n",
              " 62,\n",
              " 29,\n",
              " 52,\n",
              " 28,\n",
              " 38,\n",
              " 15,\n",
              " 20,\n",
              " 5,\n",
              " 67,\n",
              " 10,\n",
              " 20,\n",
              " 28,\n",
              " 67,\n",
              " 15,\n",
              " 20,\n",
              " 46,\n",
              " 45,\n",
              " 15,\n",
              " 14,\n",
              " 42,\n",
              " 28,\n",
              " 52,\n",
              " 18,\n",
              " 67,\n",
              " 10,\n",
              " 20,\n",
              " 67,\n",
              " 28,\n",
              " 45,\n",
              " 62,\n",
              " 10,\n",
              " 15,\n",
              " 20,\n",
              " 5,\n",
              " 32,\n",
              " 67,\n",
              " 31,\n",
              " 45,\n",
              " 15,\n",
              " 67,\n",
              " 42,\n",
              " 45,\n",
              " 62,\n",
              " 5,\n",
              " 16,\n",
              " 29,\n",
              " 52,\n",
              " 16,\n",
              " 20,\n",
              " 62,\n",
              " 39,\n",
              " 20,\n",
              " 59,\n",
              " 67,\n",
              " 31,\n",
              " 4,\n",
              " 16,\n",
              " 28,\n",
              " 20,\n",
              " 38,\n",
              " 5,\n",
              " 67,\n",
              " 46,\n",
              " 45,\n",
              " 29,\n",
              " 29,\n",
              " 59,\n",
              " 67,\n",
              " 31,\n",
              " 20,\n",
              " 15,\n",
              " 5,\n",
              " 45,\n",
              " 62,\n",
              " 38,\n",
              " 11,\n",
              " 20,\n",
              " 67,\n",
              " 20,\n",
              " 62,\n",
              " 16,\n",
              " 29,\n",
              " 14,\n",
              " 44,\n",
              " 39,\n",
              " 16,\n",
              " 42,\n",
              " 45,\n",
              " 67,\n",
              " 6,\n",
              " 67,\n",
              " 10,\n",
              " 20,\n",
              " 28,\n",
              " 67,\n",
              " 42,\n",
              " 52,\n",
              " 38,\n",
              " 28,\n",
              " 67,\n",
              " 5,\n",
              " 56,\n",
              " 28,\n",
              " 45,\n",
              " 67,\n",
              " 53,\n",
              " 17,\n",
              " 5,\n",
              " 20,\n",
              " 67,\n",
              " 5,\n",
              " 38,\n",
              " 18,\n",
              " 54,\n",
              " 38,\n",
              " 67,\n",
              " 64,\n",
              " 52,\n",
              " 20,\n",
              " 67,\n",
              " 20,\n",
              " 15,\n",
              " 38,\n",
              " 67,\n",
              " 52,\n",
              " 62,\n",
              " 67,\n",
              " 4,\n",
              " 45,\n",
              " 14,\n",
              " 18,\n",
              " 15,\n",
              " 20,\n",
              " 67,\n",
              " 14,\n",
              " 52,\n",
              " 6,\n",
              " 67,\n",
              " 29,\n",
              " 38,\n",
              " 28,\n",
              " 38,\n",
              " 62,\n",
              " 39,\n",
              " 20,\n",
              " 67,\n",
              " 6,\n",
              " 67,\n",
              " 10,\n",
              " 20,\n",
              " 67,\n",
              " 28,\n",
              " 45,\n",
              " 5,\n",
              " 67,\n",
              " 14,\n",
              " 44,\n",
              " 5,\n",
              " 67,\n",
              " 42,\n",
              " 52,\n",
              " 14,\n",
              " 31,\n",
              " 28,\n",
              " 16,\n",
              " 10,\n",
              " 45,\n",
              " 5,\n",
              " 67,\n",
              " 29,\n",
              " 20,\n",
              " 62,\n",
              " 39,\n",
              " 28,\n",
              " 20,\n",
              " 14,\n",
              " 20,\n",
              " 62,\n",
              " 67,\n",
              " 53,\n",
              " 17,\n",
              " 10,\n",
              " 20,\n",
              " 67,\n",
              " 28,\n",
              " 38,\n",
              " 67,\n",
              " 38,\n",
              " 28,\n",
              " 39,\n",
              " 38,\n",
              " 67,\n",
              " 5,\n",
              " 45,\n",
              " 42,\n",
              " 16,\n",
              " 20,\n",
              " 10,\n",
              " 38,\n",
              " 10,\n",
              " 67,\n",
              " 16,\n",
              " 62,\n",
              " 29,\n",
              " 28,\n",
              " 20,\n",
              " 5,\n",
              " 38,\n",
              " 59,\n",
              " 67,\n",
              " 5,\n",
              " 52,\n",
              " 42,\n",
              " 20,\n",
              " 10,\n",
              " 54,\n",
              " 38,\n",
              " 67,\n",
              " 38,\n",
              " 67,\n",
              " 52,\n",
              " 62,\n",
              " 45,\n",
              " 67,\n",
              " 10,\n",
              " 20,\n",
              " 67,\n",
              " 28,\n",
              " 45,\n",
              " 5,\n",
              " 67,\n",
              " 14,\n",
              " 44,\n",
              " 5,\n",
              " 67,\n",
              " 29,\n",
              " 15,\n",
              " 38,\n",
              " 62,\n",
              " 10,\n",
              " 20,\n",
              " 5,\n",
              " 67,\n",
              " 45,\n",
              " 15,\n",
              " 38,\n",
              " 10,\n",
              " 45,\n",
              " 15,\n",
              " 20,\n",
              " 5,\n",
              " 67,\n",
              " 53,\n",
              " 17,\n",
              " 64,\n",
              " 52,\n",
              " 20,\n",
              " 67,\n",
              " 4,\n",
              " 45,\n",
              " 62,\n",
              " 15,\n",
              " 38,\n",
              " 62,\n",
              " 67,\n",
              " 38,\n",
              " 67,\n",
              " 16,\n",
              " 62,\n",
              " 29,\n",
              " 28,\n",
              " 38,\n",
              " 39,\n",
              " 20,\n",
              " 15,\n",
              " 15,\n",
              " 38,\n",
              " 32,\n",
              " 67,\n",
              " 10,\n",
              " 20,\n",
              " 42,\n",
              " 54,\n",
              " 38,\n",
              " 5,\n",
              " 20,\n",
              " 67,\n",
              " 64,\n",
              " 52,\n",
              " 20,\n",
              " 67,\n",
              " 5,\n",
              " 20,\n",
              " 67,\n",
              " 10,\n",
              " 38,\n",
              " 18,\n",
              " 38,\n",
              " 67,\n",
              " 52,\n",
              " 62,\n",
              " 67,\n",
              " 38,\n",
              " 16,\n",
              " 15,\n",
              " 20,\n",
              " 67,\n",
              " 38,\n",
              " 67,\n",
              " 28,\n",
              " 45,\n",
              " 67,\n",
              " 18,\n",
              " 6,\n",
              " 15,\n",
              " 45,\n",
              " 62,\n",
              " 67,\n",
              " 22,\n",
              " 5,\n",
              " 52,\n",
              " 67,\n",
              " 42,\n",
              " 38,\n",
              " 18,\n",
              " 20,\n",
              " 40,\n",
              " 38,\n",
              " 59,\n",
              " 67,\n",
              " 5,\n",
              " 20,\n",
              " 67,\n",
              " 20,\n",
              " 62,\n",
              " 39,\n",
              " 16,\n",
              " 20,\n",
              " 62,\n",
              " 10,\n",
              " 20,\n",
              " 59,\n",
              " 67,\n",
              " 53,\n",
              " 17,\n",
              " 31,\n",
              " 45,\n",
              " 15,\n",
              " 64,\n",
              " 52,\n",
              " 20,\n",
              " 59,\n",
              " 67,\n",
              " 20,\n",
              " 62,\n",
              " 67,\n",
              " 42,\n",
              " 52,\n",
              " 38,\n",
              " 62,\n",
              " 39,\n",
              " 45,\n",
              " 67,\n",
              " 38,\n",
              " 67,\n",
              " 28,\n",
              " 45,\n",
              " 5,\n",
              " 67,\n",
              " 31,\n",
              " 16,\n",
              " 20,\n",
              " 5,\n",
              " 59,\n",
              " 67,\n",
              " 62,\n",
              " 45,\n",
              " 67,\n",
              " 39,\n",
              " 20,\n",
              " 62,\n",
              " 54,\n",
              " 38,\n",
              " 67,\n",
              " 10,\n",
              " 20,\n",
              " 46,\n",
              " 20,\n",
              " 42,\n",
              " 39,\n",
              " 45,\n",
              " 67,\n",
              " 38,\n",
              " 28,\n",
              " 29,\n",
              " 52,\n",
              " 62,\n",
              " 45,\n",
              " 22,\n",
              " 59,\n",
              " 67,\n",
              " 31,\n",
              " 20,\n",
              " 15,\n",
              " 45,\n",
              " 67,\n",
              " 38,\n",
              " 67,\n",
              " 52,\n",
              " 62,\n",
              " 67,\n",
              " 18,\n",
              " 6,\n",
              " 15,\n",
              " 45,\n",
              " 62,\n",
              " 67,\n",
              " 53,\n",
              " 17,\n",
              " 10,\n",
              " 20,\n",
              " 67,\n",
              " 18,\n",
              " 16,\n",
              " 29,\n",
              " 45,\n",
              " 39,\n",
              " 20,\n",
              " 67,\n",
              " 6,\n",
              " 67,\n",
              " 31,\n",
              " 38,\n",
              " 5,\n",
              " 39,\n",
              " 16,\n",
              " 28,\n",
              " 28,\n",
              " 38,\n",
              " 5,\n",
              " 59,\n",
              " 67,\n",
              " 38,\n",
              " 67,\n",
              " 52,\n",
              " 62,\n",
              " 67,\n",
              " 18,\n",
              " 6,\n",
              " 15,\n",
              " 45,\n",
              " 62,\n",
              " 67,\n",
              " 16,\n",
              " 14,\n",
              " 31,\n",
              " 38,\n",
              " 5,\n",
              " 16,\n",
              " 18,\n",
              " 28,\n",
              " 20,\n",
              " 59,\n",
              " 67,\n",
              " 64,\n",
              " 52,\n",
              " 20,\n",
              " 67,\n",
              " 4,\n",
              " 52,\n",
              " 18,\n",
              " 16,\n",
              " 20,\n",
              " 15,\n",
              " 38,\n",
              " 67,\n",
              " 61,\n",
              " 16,\n",
              " 61,\n",
              " 16,\n",
              " 10,\n",
              " 45,\n",
              " 67,\n",
              " 14,\n",
              " 16,\n",
              " 28,\n",
              " 67,\n",
              " 38,\n",
              " 37,\n",
              " 45,\n",
              " 5,\n",
              " 53,\n",
              " 17,\n",
              " 67,\n",
              " 5,\n",
              " 16,\n",
              " 62,\n",
              " 67,\n",
              " 20,\n",
              " 62,\n",
              " 61,\n",
              " 20,\n",
              " 11,\n",
              " 20,\n",
              " 42,\n",
              " 20,\n",
              " 15,\n",
              " 32,\n",
              " 67,\n",
              " 31,\n",
              " 4,\n",
              " 16,\n",
              " 28,\n",
              " 20,\n",
              " 38,\n",
              " 5,\n",
              " 67,\n",
              " 46,\n",
              " 45,\n",
              " 29,\n",
              " 29,\n",
              " 59,\n",
              " 67,\n",
              " 20,\n",
              " 15,\n",
              " 38,\n",
              " 67,\n",
              " 16,\n",
              " 62,\n",
              " 29,\n",
              " 28,\n",
              " 55,\n",
              " 5,\n",
              " 67,\n",
              " 10,\n",
              " 20,\n",
              " 67,\n",
              " 31,\n",
              " 52,\n",
              " 15,\n",
              " 38,\n",
              " 67,\n",
              " 42,\n",
              " 20,\n",
              " 31,\n",
              " 38,\n",
              " 19,\n",
              " 67,\n",
              " 31,\n",
              " 20,\n",
              " 15,\n",
              " 45,\n",
              " 67,\n",
              " 64,\n",
              " 52,\n",
              " 16,\n",
              " 40,\n",
              " 44,\n",
              " 5,\n",
              " 67,\n",
              " 62,\n",
              " 45,\n",
              " 67,\n",
              " 4,\n",
              " 38,\n",
              " 18,\n",
              " 54,\n",
              " 38,\n",
              " 67,\n",
              " 62,\n",
              " 38,\n",
              " 42,\n",
              " 16,\n",
              " 10,\n",
              " 45,\n",
              " 67,\n",
              " 20,\n",
              " 62,\n",
              " 53,\n",
              " 17,\n",
              " 67,\n",
              " 28,\n",
              " 45,\n",
              " 62,\n",
              " 10,\n",
              " 15,\n",
              " 20,\n",
              " 5,\n",
              " 32,\n",
              " 67,\n",
              " 11,\n",
              " 38,\n",
              " 14,\n",
              " 44,\n",
              " 5,\n",
              " 67,\n",
              " 5,\n",
              " 20,\n",
              " 67,\n",
              " 28,\n",
              " 20,\n",
              " 67,\n",
              " 4,\n",
              " 38,\n",
              " 18,\n",
              " 54,\n",
              " 38,\n",
              " 67,\n",
              " 61,\n",
              " 16,\n",
              " 5,\n",
              " 39,\n",
              " 45,\n",
              " 67,\n",
              " 20,\n",
              " 62,\n",
              " 67,\n",
              " 28,\n",
              " 38,\n",
              " 67,\n",
              " 18,\n",
              " 45,\n",
              " 28,\n",
              " 5,\n",
              " 38,\n",
              " 67,\n",
              " 62,\n",
              " 16,\n",
              " 67,\n",
              " 20,\n",
              " 62,\n",
              " 67,\n",
              " 20,\n",
              " 28,\n",
              " 67,\n",
              " 18,\n",
              " 38,\n",
              " 62,\n",
              " 42,\n",
              " 45,\n",
              " 59,\n",
              " 67,\n",
              " 62,\n",
              " 16,\n",
              " 67,\n",
              " 20,\n",
              " 62,\n",
              " 67,\n",
              " 53,\n",
              " 17,\n",
              " 62,\n",
              " 16,\n",
              " 62,\n",
              " 29,\n",
              " 52,\n",
              " 62,\n",
              " 45,\n",
              " 67,\n",
              " 10,\n",
              " 20,\n",
              " 67,\n",
              " 28,\n",
              " 45,\n",
              " 5,\n",
              " 67,\n",
              " 10,\n",
              " 20,\n",
              " 5,\n",
              " 31,\n",
              " 38,\n",
              " 42,\n",
              " 4,\n",
              " 45,\n",
              " 5,\n",
              " 67,\n",
              " 14,\n",
              " 20,\n",
              " 15,\n",
              " 42,\n",
              " 38,\n",
              " 62,\n",
              " 39,\n",
              " 16,\n",
              " 28,\n",
              " 20,\n",
              " 5,\n",
              " 67,\n",
              " 10,\n",
              " 20,\n",
              " 67,\n",
              " 28,\n",
              " 38,\n",
              " 67,\n",
              " 42,\n",
              " 16,\n",
              " 39,\n",
              " 6,\n",
              " 32,\n",
              " 67,\n",
              " 62,\n",
              " 16,\n",
              " 67,\n",
              " 28,\n",
              " 38,\n",
              " 5,\n",
              " 67,\n",
              " 10,\n",
              " 44,\n",
              " 15,\n",
              " 5,\n",
              " 20,\n",
              " 62,\n",
              " 38,\n",
              " 5,\n",
              " 67]"
            ]
          },
          "execution_count": 11,
          "metadata": {},
          "output_type": "execute_result"
        }
      ],
      "source": [
        "tokenized_text[:1000]"
      ]
    },
    {
      "cell_type": "markdown",
      "metadata": {
        "id": "pfpYcaypKcI9"
      },
      "source": [
        "### Organizando y estructurando el dataset"
      ]
    },
    {
      "cell_type": "code",
      "execution_count": 12,
      "metadata": {
        "id": "WSSmg9jtKP0T"
      },
      "outputs": [],
      "source": [
        "# separaremos el dataset entre entrenamiento y validación.\n",
        "# `p_val` será la proporción del corpus que se reservará para validación\n",
        "# `num_val` es la cantidad de secuencias de tamaño `max_context_size` que se usará en validación\n",
        "p_val = 0.1\n",
        "num_val = int(np.ceil(len(tokenized_text)*p_val/max_context_size))"
      ]
    },
    {
      "cell_type": "code",
      "execution_count": 13,
      "metadata": {
        "id": "b7dCpGrdKll0"
      },
      "outputs": [],
      "source": [
        "# separamos la porción de texto utilizada en entrenamiento de la de validación.\n",
        "train_text = tokenized_text[:-num_val*max_context_size]\n",
        "val_text = tokenized_text[-num_val*max_context_size:]"
      ]
    },
    {
      "cell_type": "code",
      "execution_count": 14,
      "metadata": {
        "id": "NmxQdxl8LRCg"
      },
      "outputs": [],
      "source": [
        "tokenized_sentences_val = [val_text[init*max_context_size:init*(max_context_size+1)] for init in range(num_val)]"
      ]
    },
    {
      "cell_type": "code",
      "execution_count": 15,
      "metadata": {
        "id": "_gyFT9koLqDm"
      },
      "outputs": [],
      "source": [
        "tokenized_sentences_train = [train_text[init:init+max_context_size] for init in range(len(train_text)-max_context_size+1)]"
      ]
    },
    {
      "cell_type": "code",
      "execution_count": 16,
      "metadata": {
        "id": "oVNqmmLRodT0"
      },
      "outputs": [],
      "source": [
        "X = np.array(tokenized_sentences_train[:-1])\n",
        "y = np.array(tokenized_sentences_train[1:])"
      ]
    },
    {
      "cell_type": "markdown",
      "metadata": {
        "id": "Vken7O4ETsAJ"
      },
      "source": [
        "Nótese que estamos estructurando el problema de aprendizaje como *many-to-many*:\n",
        "\n",
        "Entrada: secuencia de tokens [$x_0$, $x_1$, ..., $x_N$]\n",
        "\n",
        "Target: secuencia de tokens [$x_1$, $x_2$, ..., $x_{N+1}$]\n",
        "\n",
        "De manera que la red tiene que aprender que su salida deben ser los tokens desplazados en una posición y un nuevo token predicho (el N+1).\n",
        "\n",
        "La ventaja de estructurar el aprendizaje de esta manera es que para cada token de target se propaga una señal de gradiente por el grafo de cómputo recurrente, que es mejor que estructurar el problema como *many-to-one* en donde sólo una señal de gradiente se propaga."
      ]
    },
    {
      "cell_type": "markdown",
      "metadata": {
        "id": "l3iPTx-UJl6r"
      },
      "source": [
        "En este punto tenemos en la variable `tokenized_sentences` los versos tokenizados. Vamos a quedarnos con un conjunto de validación que utilizaremos para medir la calidad de la generación de secuencias con la métrica de Perplejidad."
      ]
    },
    {
      "cell_type": "code",
      "execution_count": 17,
      "metadata": {
        "id": "KFAyA4zCWE-5"
      },
      "outputs": [
        {
          "data": {
            "text/plain": [
              "(359671, 100)"
            ]
          },
          "execution_count": 17,
          "metadata": {},
          "output_type": "execute_result"
        }
      ],
      "source": [
        "X.shape"
      ]
    },
    {
      "cell_type": "code",
      "execution_count": 18,
      "metadata": {
        "id": "qcKRl70HFTzG"
      },
      "outputs": [
        {
          "data": {
            "text/plain": [
              "array([67, 20, 62, 67, 20, 28, 67, 38, 37, 45])"
            ]
          },
          "execution_count": 18,
          "metadata": {},
          "output_type": "execute_result"
        }
      ],
      "source": [
        "X[0,:10]"
      ]
    },
    {
      "cell_type": "code",
      "execution_count": 19,
      "metadata": {
        "id": "TVpLCKSZFXZO"
      },
      "outputs": [
        {
          "data": {
            "text/plain": [
              "array([20, 62, 67, 20, 28, 67, 38, 37, 45, 67])"
            ]
          },
          "execution_count": 19,
          "metadata": {},
          "output_type": "execute_result"
        }
      ],
      "source": [
        "y[0,:10]"
      ]
    },
    {
      "cell_type": "code",
      "execution_count": 21,
      "metadata": {
        "id": "wOFCR-KqbW1N"
      },
      "outputs": [],
      "source": [
        "vocab_size = len(chars_vocab)"
      ]
    },
    {
      "cell_type": "markdown",
      "metadata": {
        "id": "tnnjdAQ5UAEJ"
      },
      "source": [
        "# Definiendo el modelo"
      ]
    },
    {
      "cell_type": "code",
      "execution_count": 4,
      "metadata": {
        "id": "rkMCZvmhrQz4"
      },
      "outputs": [],
      "source": [
        "from keras.layers import Input, TimeDistributed, CategoryEncoding, SimpleRNN, Dense\n",
        "from keras.models import Model, Sequential"
      ]
    },
    {
      "cell_type": "markdown",
      "metadata": {
        "id": "wgz7VKwTUbj6"
      },
      "source": [
        "El modelo que se propone como ejemplo consume los índices de los tokens y los transforma en vectores OHE (en este caso no entrenamos una capa de embedding para caracteres). Esa transformación se logra combinando las capas `CategoryEncoding` que transforma a índices a vectores OHE y `TimeDistributed` que aplica la capa a lo largo de la dimensión \"temporal\" de la secuencia."
      ]
    },
    {
      "cell_type": "code",
      "execution_count": 23,
      "metadata": {
        "id": "Zd2OkfQYs2Q7"
      },
      "outputs": [
        {
          "name": "stderr",
          "output_type": "stream",
          "text": [
            "C:\\Users\\Zeus\\AppData\\Roaming\\Python\\Python311\\site-packages\\keras\\src\\layers\\core\\wrapper.py:27: UserWarning: Do not pass an `input_shape`/`input_dim` argument to a layer. When using Sequential models, prefer using an `Input(shape)` object as the first layer in the model instead.\n",
            "  super().__init__(**kwargs)\n"
          ]
        },
        {
          "data": {
            "text/html": [
              "<pre style=\"white-space:pre;overflow-x:auto;line-height:normal;font-family:Menlo,'DejaVu Sans Mono',consolas,'Courier New',monospace\"><span style=\"font-weight: bold\">Model: \"sequential\"</span>\n",
              "</pre>\n"
            ],
            "text/plain": [
              "\u001b[1mModel: \"sequential\"\u001b[0m\n"
            ]
          },
          "metadata": {},
          "output_type": "display_data"
        },
        {
          "data": {
            "text/html": [
              "<pre style=\"white-space:pre;overflow-x:auto;line-height:normal;font-family:Menlo,'DejaVu Sans Mono',consolas,'Courier New',monospace\">┏━━━━━━━━━━━━━━━━━━━━━━━━━━━━━━━━━┳━━━━━━━━━━━━━━━━━━━━━━━━┳━━━━━━━━━━━━━━━┓\n",
              "┃<span style=\"font-weight: bold\"> Layer (type)                    </span>┃<span style=\"font-weight: bold\"> Output Shape           </span>┃<span style=\"font-weight: bold\">       Param # </span>┃\n",
              "┡━━━━━━━━━━━━━━━━━━━━━━━━━━━━━━━━━╇━━━━━━━━━━━━━━━━━━━━━━━━╇━━━━━━━━━━━━━━━┩\n",
              "│ time_distributed                │ (<span style=\"color: #00d7ff; text-decoration-color: #00d7ff\">None</span>, <span style=\"color: #00d7ff; text-decoration-color: #00d7ff\">None</span>, <span style=\"color: #00af00; text-decoration-color: #00af00\">68</span>)       │             <span style=\"color: #00af00; text-decoration-color: #00af00\">0</span> │\n",
              "│ (<span style=\"color: #0087ff; text-decoration-color: #0087ff\">TimeDistributed</span>)               │                        │               │\n",
              "├─────────────────────────────────┼────────────────────────┼───────────────┤\n",
              "│ simple_rnn (<span style=\"color: #0087ff; text-decoration-color: #0087ff\">SimpleRNN</span>)          │ (<span style=\"color: #00d7ff; text-decoration-color: #00d7ff\">None</span>, <span style=\"color: #00d7ff; text-decoration-color: #00d7ff\">None</span>, <span style=\"color: #00af00; text-decoration-color: #00af00\">200</span>)      │        <span style=\"color: #00af00; text-decoration-color: #00af00\">53,800</span> │\n",
              "├─────────────────────────────────┼────────────────────────┼───────────────┤\n",
              "│ dense (<span style=\"color: #0087ff; text-decoration-color: #0087ff\">Dense</span>)                   │ (<span style=\"color: #00d7ff; text-decoration-color: #00d7ff\">None</span>, <span style=\"color: #00d7ff; text-decoration-color: #00d7ff\">None</span>, <span style=\"color: #00af00; text-decoration-color: #00af00\">68</span>)       │        <span style=\"color: #00af00; text-decoration-color: #00af00\">13,668</span> │\n",
              "└─────────────────────────────────┴────────────────────────┴───────────────┘\n",
              "</pre>\n"
            ],
            "text/plain": [
              "┏━━━━━━━━━━━━━━━━━━━━━━━━━━━━━━━━━┳━━━━━━━━━━━━━━━━━━━━━━━━┳━━━━━━━━━━━━━━━┓\n",
              "┃\u001b[1m \u001b[0m\u001b[1mLayer (type)                   \u001b[0m\u001b[1m \u001b[0m┃\u001b[1m \u001b[0m\u001b[1mOutput Shape          \u001b[0m\u001b[1m \u001b[0m┃\u001b[1m \u001b[0m\u001b[1m      Param #\u001b[0m\u001b[1m \u001b[0m┃\n",
              "┡━━━━━━━━━━━━━━━━━━━━━━━━━━━━━━━━━╇━━━━━━━━━━━━━━━━━━━━━━━━╇━━━━━━━━━━━━━━━┩\n",
              "│ time_distributed                │ (\u001b[38;5;45mNone\u001b[0m, \u001b[38;5;45mNone\u001b[0m, \u001b[38;5;34m68\u001b[0m)       │             \u001b[38;5;34m0\u001b[0m │\n",
              "│ (\u001b[38;5;33mTimeDistributed\u001b[0m)               │                        │               │\n",
              "├─────────────────────────────────┼────────────────────────┼───────────────┤\n",
              "│ simple_rnn (\u001b[38;5;33mSimpleRNN\u001b[0m)          │ (\u001b[38;5;45mNone\u001b[0m, \u001b[38;5;45mNone\u001b[0m, \u001b[38;5;34m200\u001b[0m)      │        \u001b[38;5;34m53,800\u001b[0m │\n",
              "├─────────────────────────────────┼────────────────────────┼───────────────┤\n",
              "│ dense (\u001b[38;5;33mDense\u001b[0m)                   │ (\u001b[38;5;45mNone\u001b[0m, \u001b[38;5;45mNone\u001b[0m, \u001b[38;5;34m68\u001b[0m)       │        \u001b[38;5;34m13,668\u001b[0m │\n",
              "└─────────────────────────────────┴────────────────────────┴───────────────┘\n"
            ]
          },
          "metadata": {},
          "output_type": "display_data"
        },
        {
          "data": {
            "text/html": [
              "<pre style=\"white-space:pre;overflow-x:auto;line-height:normal;font-family:Menlo,'DejaVu Sans Mono',consolas,'Courier New',monospace\"><span style=\"font-weight: bold\"> Total params: </span><span style=\"color: #00af00; text-decoration-color: #00af00\">67,468</span> (263.55 KB)\n",
              "</pre>\n"
            ],
            "text/plain": [
              "\u001b[1m Total params: \u001b[0m\u001b[38;5;34m67,468\u001b[0m (263.55 KB)\n"
            ]
          },
          "metadata": {},
          "output_type": "display_data"
        },
        {
          "data": {
            "text/html": [
              "<pre style=\"white-space:pre;overflow-x:auto;line-height:normal;font-family:Menlo,'DejaVu Sans Mono',consolas,'Courier New',monospace\"><span style=\"font-weight: bold\"> Trainable params: </span><span style=\"color: #00af00; text-decoration-color: #00af00\">67,468</span> (263.55 KB)\n",
              "</pre>\n"
            ],
            "text/plain": [
              "\u001b[1m Trainable params: \u001b[0m\u001b[38;5;34m67,468\u001b[0m (263.55 KB)\n"
            ]
          },
          "metadata": {},
          "output_type": "display_data"
        },
        {
          "data": {
            "text/html": [
              "<pre style=\"white-space:pre;overflow-x:auto;line-height:normal;font-family:Menlo,'DejaVu Sans Mono',consolas,'Courier New',monospace\"><span style=\"font-weight: bold\"> Non-trainable params: </span><span style=\"color: #00af00; text-decoration-color: #00af00\">0</span> (0.00 B)\n",
              "</pre>\n"
            ],
            "text/plain": [
              "\u001b[1m Non-trainable params: \u001b[0m\u001b[38;5;34m0\u001b[0m (0.00 B)\n"
            ]
          },
          "metadata": {},
          "output_type": "display_data"
        }
      ],
      "source": [
        "model = Sequential()\n",
        "\n",
        "model.add(TimeDistributed(CategoryEncoding(num_tokens=vocab_size, output_mode = \"one_hot\"),input_shape=(None,1)))\n",
        "model.add(SimpleRNN(200, return_sequences=True, dropout=0.1, recurrent_dropout=0.1 ))\n",
        "model.add(Dense(vocab_size, activation='softmax'))\n",
        "model.compile(loss='sparse_categorical_crossentropy', optimizer='rmsprop')\n",
        "\n",
        "model.summary()"
      ]
    },
    {
      "cell_type": "markdown",
      "metadata": {
        "id": "GmJWNyxQwfCE"
      },
      "source": [
        "\n",
        "### Definir el modelo"
      ]
    },
    {
      "cell_type": "markdown",
      "metadata": {
        "id": "YWK3z85sQfUe"
      },
      "source": [
        "Dado que por el momento no hay implementaciones adecuadas de la perplejidad que puedan operar en tiempo de entrenamiento, armaremos un Callback *ad-hoc* que la calcule en cada epoch.\n",
        "\n",
        "**Nota**: un Callback es una rutina gatillada por algún evento, son muy útiles para relevar datos en diferentes momentos del desarrollo del modelo. En este caso queremos hacer un cálculo cada vez que termina una epoch de entrenamiento."
      ]
    },
    {
      "cell_type": "code",
      "execution_count": 5,
      "metadata": {
        "id": "zUHX3r5JD-MG"
      },
      "outputs": [],
      "source": [
        "class PplCallback(keras.callbacks.Callback):\n",
        "\n",
        "    '''\n",
        "    Este callback es una solución ad-hoc para calcular al final de cada epoch de\n",
        "    entrenamiento la métrica de Perplejidad sobre un conjunto de datos de validación.\n",
        "    La perplejidad es una métrica cuantitativa para evaluar la calidad de la generación de secuencias.\n",
        "    Además implementa la finalización del entrenamiento (Early Stopping)\n",
        "    si la perplejidad no mejora después de `patience` epochs.\n",
        "    '''\n",
        "\n",
        "    def __init__(self, val_data, history_ppl,patience=5):\n",
        "      # El callback lo inicializamos con secuencias de validación sobre las cuales\n",
        "      # mediremos la perplejidad\n",
        "      self.val_data = val_data\n",
        "\n",
        "      self.target = []\n",
        "      self.padded = []\n",
        "\n",
        "      count = 0\n",
        "      self.info = []\n",
        "      self.min_score = np.inf\n",
        "      self.patience_counter = 0\n",
        "      self.patience = patience\n",
        "\n",
        "      # nos movemos en todas las secuencias de los datos de validación\n",
        "      for seq in self.val_data:\n",
        "\n",
        "        len_seq = len(seq)\n",
        "        # armamos todas las subsecuencias\n",
        "        subseq = [seq[:i] for i in range(1,len_seq)]\n",
        "        self.target.extend([seq[i] for i in range(1,len_seq)])\n",
        "\n",
        "        if len(subseq)!=0:\n",
        "\n",
        "          self.padded.append(pad_sequences(subseq, maxlen=max_context_size, padding='pre'))\n",
        "\n",
        "          self.info.append((count,count+len_seq))\n",
        "          count += len_seq\n",
        "\n",
        "      self.padded = np.vstack(self.padded)\n",
        "\n",
        "\n",
        "    def on_epoch_end(self, epoch, logs=None):\n",
        "\n",
        "        # en `scores` iremos guardando la perplejidad de cada secuencia\n",
        "        scores = []\n",
        "\n",
        "        predictions = self.model.predict(self.padded,verbose=0)\n",
        "\n",
        "        # para cada secuencia de validación\n",
        "        for start,end in self.info:\n",
        "\n",
        "          # en `probs` iremos guardando las probabilidades de los términos target\n",
        "          probs = [predictions[idx_seq,-1,idx_vocab] for idx_seq, idx_vocab in zip(range(start,end),self.target[start:end])]\n",
        "\n",
        "          # calculamos la perplejidad por medio de logaritmos\n",
        "          scores.append(np.exp(-np.sum(np.log(probs))/(end-start)))\n",
        "\n",
        "        # promediamos todos los scores e imprimimos el valor promedio\n",
        "        current_score = np.mean(scores)\n",
        "        history_ppl.append(current_score)\n",
        "        print(f'\\n mean perplexity: {current_score} \\n')\n",
        "\n",
        "        # chequeamos si tenemos que detener el entrenamiento\n",
        "        if current_score < self.min_score:\n",
        "          self.min_score = current_score\n",
        "          self.model.save(\"my_model_LSTM_GRU.keras\")\n",
        "          print(\"Saved new model!\")\n",
        "          self.patience_counter = 0\n",
        "        else:\n",
        "          self.patience_counter += 1\n",
        "          if self.patience_counter == self.patience:\n",
        "            print(\"Stopping training...\")\n",
        "            self.model.stop_training = True\n"
      ]
    },
    {
      "cell_type": "markdown",
      "metadata": {
        "id": "8HBZIwR0gruA"
      },
      "source": [
        "### Entrenamiento"
      ]
    },
    {
      "cell_type": "code",
      "execution_count": 27,
      "metadata": {
        "id": "oQq1PHDkxDvN"
      },
      "outputs": [
        {
          "name": "stdout",
          "output_type": "stream",
          "text": [
            "Epoch 1/20\n",
            "\u001b[1m1405/1405\u001b[0m \u001b[32m━━━━━━━━━━━━━━━━━━━━\u001b[0m\u001b[37m\u001b[0m \u001b[1m0s\u001b[0m 95ms/step - loss: 1.9319\n",
            " mean perplexity: 5.463329971548727 \n",
            "\n",
            "Saved new model!\n",
            "\u001b[1m1405/1405\u001b[0m \u001b[32m━━━━━━━━━━━━━━━━━━━━\u001b[0m\u001b[37m\u001b[0m \u001b[1m159s\u001b[0m 113ms/step - loss: 1.9319\n",
            "Epoch 2/20\n",
            "\u001b[1m1405/1405\u001b[0m \u001b[32m━━━━━━━━━━━━━━━━━━━━\u001b[0m\u001b[37m\u001b[0m \u001b[1m0s\u001b[0m 101ms/step - loss: 1.8244\n",
            " mean perplexity: 5.1776457288549915 \n",
            "\n",
            "Saved new model!\n",
            "\u001b[1m1405/1405\u001b[0m \u001b[32m━━━━━━━━━━━━━━━━━━━━\u001b[0m\u001b[37m\u001b[0m \u001b[1m161s\u001b[0m 114ms/step - loss: 1.8244\n",
            "Epoch 3/20\n",
            "\u001b[1m1405/1405\u001b[0m \u001b[32m━━━━━━━━━━━━━━━━━━━━\u001b[0m\u001b[37m\u001b[0m \u001b[1m0s\u001b[0m 98ms/step - loss: 1.7775\n",
            " mean perplexity: 5.029675203562252 \n",
            "\n",
            "Saved new model!\n",
            "\u001b[1m1405/1405\u001b[0m \u001b[32m━━━━━━━━━━━━━━━━━━━━\u001b[0m\u001b[37m\u001b[0m \u001b[1m158s\u001b[0m 113ms/step - loss: 1.7775\n",
            "Epoch 4/20\n",
            "\u001b[1m1405/1405\u001b[0m \u001b[32m━━━━━━━━━━━━━━━━━━━━\u001b[0m\u001b[37m\u001b[0m \u001b[1m0s\u001b[0m 100ms/step - loss: 1.7509\n",
            " mean perplexity: 5.021168272170228 \n",
            "\n",
            "Saved new model!\n",
            "\u001b[1m1405/1405\u001b[0m \u001b[32m━━━━━━━━━━━━━━━━━━━━\u001b[0m\u001b[37m\u001b[0m \u001b[1m160s\u001b[0m 114ms/step - loss: 1.7508\n",
            "Epoch 5/20\n",
            "\u001b[1m1405/1405\u001b[0m \u001b[32m━━━━━━━━━━━━━━━━━━━━\u001b[0m\u001b[37m\u001b[0m \u001b[1m0s\u001b[0m 93ms/step - loss: 1.7326\n",
            " mean perplexity: 4.907666872095143 \n",
            "\n",
            "Saved new model!\n",
            "\u001b[1m1405/1405\u001b[0m \u001b[32m━━━━━━━━━━━━━━━━━━━━\u001b[0m\u001b[37m\u001b[0m \u001b[1m150s\u001b[0m 107ms/step - loss: 1.7326\n",
            "Epoch 6/20\n",
            "\u001b[1m1405/1405\u001b[0m \u001b[32m━━━━━━━━━━━━━━━━━━━━\u001b[0m\u001b[37m\u001b[0m \u001b[1m0s\u001b[0m 94ms/step - loss: 1.7208\n",
            " mean perplexity: 4.85724476312436 \n",
            "\n",
            "Saved new model!\n",
            "\u001b[1m1405/1405\u001b[0m \u001b[32m━━━━━━━━━━━━━━━━━━━━\u001b[0m\u001b[37m\u001b[0m \u001b[1m150s\u001b[0m 107ms/step - loss: 1.7208\n",
            "Epoch 7/20\n",
            "\u001b[1m1405/1405\u001b[0m \u001b[32m━━━━━━━━━━━━━━━━━━━━\u001b[0m\u001b[37m\u001b[0m \u001b[1m0s\u001b[0m 92ms/step - loss: 1.7105\n",
            " mean perplexity: 4.856291073425613 \n",
            "\n",
            "Saved new model!\n",
            "\u001b[1m1405/1405\u001b[0m \u001b[32m━━━━━━━━━━━━━━━━━━━━\u001b[0m\u001b[37m\u001b[0m \u001b[1m149s\u001b[0m 106ms/step - loss: 1.7105\n",
            "Epoch 8/20\n",
            "\u001b[1m1405/1405\u001b[0m \u001b[32m━━━━━━━━━━━━━━━━━━━━\u001b[0m\u001b[37m\u001b[0m \u001b[1m0s\u001b[0m 93ms/step - loss: 1.7018\n",
            " mean perplexity: 4.892712582094841 \n",
            "\n",
            "\u001b[1m1405/1405\u001b[0m \u001b[32m━━━━━━━━━━━━━━━━━━━━\u001b[0m\u001b[37m\u001b[0m \u001b[1m149s\u001b[0m 106ms/step - loss: 1.7018\n",
            "Epoch 9/20\n",
            "\u001b[1m1405/1405\u001b[0m \u001b[32m━━━━━━━━━━━━━━━━━━━━\u001b[0m\u001b[37m\u001b[0m \u001b[1m0s\u001b[0m 86ms/step - loss: 1.6952\n",
            " mean perplexity: 4.7915101664366295 \n",
            "\n",
            "Saved new model!\n",
            "\u001b[1m1405/1405\u001b[0m \u001b[32m━━━━━━━━━━━━━━━━━━━━\u001b[0m\u001b[37m\u001b[0m \u001b[1m138s\u001b[0m 98ms/step - loss: 1.6952\n",
            "Epoch 10/20\n",
            "\u001b[1m1405/1405\u001b[0m \u001b[32m━━━━━━━━━━━━━━━━━━━━\u001b[0m\u001b[37m\u001b[0m \u001b[1m0s\u001b[0m 85ms/step - loss: 1.6896\n",
            " mean perplexity: 4.8084051445700275 \n",
            "\n",
            "\u001b[1m1405/1405\u001b[0m \u001b[32m━━━━━━━━━━━━━━━━━━━━\u001b[0m\u001b[37m\u001b[0m \u001b[1m137s\u001b[0m 97ms/step - loss: 1.6896\n",
            "Epoch 11/20\n",
            "\u001b[1m1405/1405\u001b[0m \u001b[32m━━━━━━━━━━━━━━━━━━━━\u001b[0m\u001b[37m\u001b[0m \u001b[1m0s\u001b[0m 85ms/step - loss: 1.6845\n",
            " mean perplexity: 4.7691206474492605 \n",
            "\n",
            "Saved new model!\n",
            "\u001b[1m1405/1405\u001b[0m \u001b[32m━━━━━━━━━━━━━━━━━━━━\u001b[0m\u001b[37m\u001b[0m \u001b[1m137s\u001b[0m 97ms/step - loss: 1.6845\n",
            "Epoch 12/20\n",
            "\u001b[1m1405/1405\u001b[0m \u001b[32m━━━━━━━━━━━━━━━━━━━━\u001b[0m\u001b[37m\u001b[0m \u001b[1m0s\u001b[0m 86ms/step - loss: 1.6812\n",
            " mean perplexity: 4.8359813741576945 \n",
            "\n",
            "\u001b[1m1405/1405\u001b[0m \u001b[32m━━━━━━━━━━━━━━━━━━━━\u001b[0m\u001b[37m\u001b[0m \u001b[1m137s\u001b[0m 98ms/step - loss: 1.6812\n",
            "Epoch 13/20\n",
            "\u001b[1m1405/1405\u001b[0m \u001b[32m━━━━━━━━━━━━━━━━━━━━\u001b[0m\u001b[37m\u001b[0m \u001b[1m0s\u001b[0m 85ms/step - loss: 1.6766\n",
            " mean perplexity: 4.816493629616156 \n",
            "\n",
            "\u001b[1m1405/1405\u001b[0m \u001b[32m━━━━━━━━━━━━━━━━━━━━\u001b[0m\u001b[37m\u001b[0m \u001b[1m137s\u001b[0m 97ms/step - loss: 1.6766\n",
            "Epoch 14/20\n",
            "\u001b[1m1405/1405\u001b[0m \u001b[32m━━━━━━━━━━━━━━━━━━━━\u001b[0m\u001b[37m\u001b[0m \u001b[1m0s\u001b[0m 87ms/step - loss: 1.6738\n",
            " mean perplexity: 4.858484049757704 \n",
            "\n",
            "\u001b[1m1405/1405\u001b[0m \u001b[32m━━━━━━━━━━━━━━━━━━━━\u001b[0m\u001b[37m\u001b[0m \u001b[1m139s\u001b[0m 99ms/step - loss: 1.6738\n",
            "Epoch 15/20\n",
            "\u001b[1m1405/1405\u001b[0m \u001b[32m━━━━━━━━━━━━━━━━━━━━\u001b[0m\u001b[37m\u001b[0m \u001b[1m0s\u001b[0m 85ms/step - loss: 1.6707\n",
            " mean perplexity: 4.935968759270602 \n",
            "\n",
            "\u001b[1m1405/1405\u001b[0m \u001b[32m━━━━━━━━━━━━━━━━━━━━\u001b[0m\u001b[37m\u001b[0m \u001b[1m136s\u001b[0m 97ms/step - loss: 1.6707\n",
            "Epoch 16/20\n",
            "\u001b[1m1405/1405\u001b[0m \u001b[32m━━━━━━━━━━━━━━━━━━━━\u001b[0m\u001b[37m\u001b[0m \u001b[1m0s\u001b[0m 86ms/step - loss: 1.6681\n",
            " mean perplexity: 4.938852574695049 \n",
            "\n",
            "Stopping training...\n",
            "\u001b[1m1405/1405\u001b[0m \u001b[32m━━━━━━━━━━━━━━━━━━━━\u001b[0m\u001b[37m\u001b[0m \u001b[1m137s\u001b[0m 97ms/step - loss: 1.6681\n"
          ]
        }
      ],
      "source": [
        "# fiteamos, nótese el agregado del callback con su inicialización. El batch_size lo podemos seleccionar a mano\n",
        "# en general, lo mejor es escoger el batch más grande posible que minimice el tiempo de cada época.\n",
        "# En la variable `history_ppl` se guardarán los valores de perplejidad para cada época.\n",
        "history_ppl = []\n",
        "hist = model.fit(X, y, epochs=20, callbacks=[PplCallback(tokenized_sentences_val,history_ppl)], batch_size=256)"
      ]
    },
    {
      "cell_type": "code",
      "execution_count": 28,
      "metadata": {
        "id": "K30JHB3Dv-mx"
      },
      "outputs": [
        {
          "name": "stderr",
          "output_type": "stream",
          "text": [
            "c:\\ProgramData\\anaconda3\\envs\\CUDA_env\\Lib\\site-packages\\seaborn\\_oldcore.py:1119: FutureWarning: use_inf_as_na option is deprecated and will be removed in a future version. Convert inf values to NaN before operating instead.\n",
            "  with pd.option_context('mode.use_inf_as_na', True):\n",
            "c:\\ProgramData\\anaconda3\\envs\\CUDA_env\\Lib\\site-packages\\seaborn\\_oldcore.py:1119: FutureWarning: use_inf_as_na option is deprecated and will be removed in a future version. Convert inf values to NaN before operating instead.\n",
            "  with pd.option_context('mode.use_inf_as_na', True):\n"
          ]
        },
        {
          "data": {
            "image/png": "[encoded data removed]",
            "text/plain": [
              "<Figure size 640x480 with 1 Axes>"
            ]
          },
          "metadata": {},
          "output_type": "display_data"
        }
      ],
      "source": [
        "import matplotlib.pyplot as plt\n",
        "import seaborn as sns\n",
        "\n",
        "# Entrenamiento\n",
        "epoch_count = range(1, len(history_ppl) + 1)\n",
        "sns.lineplot(x=epoch_count,  y=history_ppl)\n",
        "plt.show()"
      ]
    },
    {
      "cell_type": "code",
      "execution_count": 30,
      "metadata": {
        "id": "Rhy5hZN38qfO"
      },
      "outputs": [],
      "source": [
        "# Cargamos el mejor modelo guardado del entrenamiento para hacer inferencia\n",
        "model = keras.models.load_model('my_model.keras')"
      ]
    },
    {
      "cell_type": "markdown",
      "metadata": {
        "id": "KN6Fg_BsxJe6"
      },
      "source": [
        "\n",
        "### Predicción del próximo caracter"
      ]
    },
    {
      "cell_type": "code",
      "execution_count": 32,
      "metadata": {
        "id": "IBvKHFPmzpy2"
      },
      "outputs": [],
      "source": [
        "# Se puede usar gradio para probar el modelo\n",
        "# Gradio es una herramienta muy útil para crear interfaces para ensayar modelos\n",
        "# https://gradio.app/\n",
        "\n",
        "!pip install -q gradio"
      ]
    },
    {
      "cell_type": "code",
      "execution_count": 34,
      "metadata": {
        "id": "HNyBykvhzs7-"
      },
      "outputs": [
        {
          "name": "stdout",
          "output_type": "stream",
          "text": [
            "Running on local URL:  http://127.0.0.1:7860\n",
            "\n",
            "To create a public link, set `share=True` in `launch()`.\n"
          ]
        },
        {
          "data": {
            "text/html": [
              "<div><iframe src=\"http://127.0.0.1:7860/\" width=\"100%\" height=\"500\" allow=\"autoplay; camera; microphone; clipboard-read; clipboard-write;\" frameborder=\"0\" allowfullscreen></iframe></div>"
            ],
            "text/plain": [
              "<IPython.core.display.HTML object>"
            ]
          },
          "metadata": {},
          "output_type": "display_data"
        },
        {
          "name": "stdout",
          "output_type": "stream",
          "text": [
            "\u001b[1m1/1\u001b[0m \u001b[32m━━━━━━━━━━━━━━━━━━━━\u001b[0m\u001b[37m\u001b[0m \u001b[1m1s\u001b[0m 764ms/step\n",
            "Keyboard interruption in main thread... closing server.\n"
          ]
        },
        {
          "data": {
            "text/plain": []
          },
          "execution_count": 34,
          "metadata": {},
          "output_type": "execute_result"
        }
      ],
      "source": [
        "import gradio as gr\n",
        "\n",
        "def model_response(human_text):\n",
        "\n",
        "    # Encodeamos\n",
        "    encoded = [char2idx[ch] for ch in human_text.lower() ]\n",
        "    # Si tienen distinto largo\n",
        "    encoded = pad_sequences([encoded], maxlen=max_context_size, padding='pre')\n",
        "\n",
        "    # Predicción softmax\n",
        "    y_hat = np.argmax(model.predict(encoded)[0,-1,:])\n",
        "\n",
        "\n",
        "    # Debemos buscar en el vocabulario el caracter\n",
        "    # que corresopnde al indice (y_hat) predicho por le modelo\n",
        "    out_word = ''\n",
        "    out_word = idx2char[y_hat]\n",
        "\n",
        "    # Agrego la palabra a la frase predicha\n",
        "    return human_text + out_word\n",
        "\n",
        "iface = gr.Interface(\n",
        "    fn=model_response,\n",
        "    inputs=[\"textbox\"],\n",
        "    outputs=\"text\")\n",
        "\n",
        "iface.launch(debug=True)"
      ]
    },
    {
      "cell_type": "markdown",
      "metadata": {
        "id": "mCeMWWupxN1-"
      },
      "source": [
        "### Generación de secuencias"
      ]
    },
    {
      "cell_type": "code",
      "execution_count": 49,
      "metadata": {
        "id": "bwbS_pfhxvB3"
      },
      "outputs": [],
      "source": [
        "def generate_seq(model, seed_text, max_length, n_words):\n",
        "    \"\"\"\n",
        "        Exec model sequence prediction\n",
        "\n",
        "        Args:\n",
        "            model (keras): modelo entrenado\n",
        "            seed_text (string): texto de entrada (input_seq)\n",
        "            max_length (int): máxima longitud de la sequencia de entrada\n",
        "            n_words (int): números de caracteres a agregar a la sequencia de entrada\n",
        "        returns:\n",
        "            output_text (string): sentencia con las \"n_words\" agregadas\n",
        "    \"\"\"\n",
        "    output_text = seed_text\n",
        "\t# generate a fixed number of words\n",
        "    for _ in range(n_words):\n",
        "\t\t# Encodeamos\n",
        "        encoded = [char2idx[ch] for ch in output_text.lower() ]\n",
        "\t\t# Si tienen distinto largo\n",
        "        encoded = pad_sequences([encoded], maxlen=max_length, padding='pre')\n",
        "\n",
        "\t\t# Predicción softmax\n",
        "        y_hat = np.argmax(model.predict(encoded,verbose=0)[0,-1,:])\n",
        "\t\t# Vamos concatenando las predicciones\n",
        "        out_word = ''\n",
        "\n",
        "        out_word = idx2char[y_hat]\n",
        "\n",
        "\t\t# Agrego las palabras a la frase predicha\n",
        "        output_text += out_word\n",
        "    return output_text"
      ]
    },
    {
      "cell_type": "code",
      "execution_count": 36,
      "metadata": {
        "id": "JoFqRC5pxzqS"
      },
      "outputs": [
        {
          "data": {
            "text/plain": [
              "'habia una vez en cuando el capitán de la ca'"
            ]
          },
          "execution_count": 36,
          "metadata": {},
          "output_type": "execute_result"
        }
      ],
      "source": [
        "input_text='habia una vez'\n",
        "\n",
        "generate_seq(model, input_text, max_length=max_context_size, n_words=30)"
      ]
    },
    {
      "cell_type": "markdown",
      "metadata": {
        "id": "drJ6xn5qW1Hl"
      },
      "source": [
        "###  Beam search y muestreo aleatorio"
      ]
    },
    {
      "cell_type": "code",
      "execution_count": 51,
      "metadata": {
        "id": "_vovn9XZW1Hl"
      },
      "outputs": [],
      "source": [
        "# funcionalidades para hacer encoding y decoding\n",
        "\n",
        "def encode(text,max_length=max_context_size):\n",
        "\n",
        "    encoded = [char2idx[ch] for ch in text]\n",
        "    encoded = pad_sequences([encoded], maxlen=max_length, padding='pre')\n",
        "\n",
        "    return encoded\n",
        "\n",
        "def decode(seq):\n",
        "    return ''.join([idx2char[ch] for ch in seq])"
      ]
    },
    {
      "cell_type": "code",
      "execution_count": 39,
      "metadata": {
        "id": "I_lZiQwkW1Hl"
      },
      "outputs": [],
      "source": [
        "from scipy.special import softmax\n",
        "\n",
        "# función que selecciona candidatos para el beam search\n",
        "def select_candidates(pred,num_beams,vocab_size,history_probs,history_tokens,temp,mode):\n",
        "\n",
        "  # colectar todas las probabilidades para la siguiente búsqueda\n",
        "  pred_large = []\n",
        "\n",
        "  for idx,pp in enumerate(pred):\n",
        "    pred_large.extend(np.log(pp+1E-10)+history_probs[idx])\n",
        "\n",
        "  pred_large = np.array(pred_large)\n",
        "\n",
        "  # criterio de selección\n",
        "  if mode == 'det':\n",
        "    idx_select = np.argsort(pred_large)[::-1][:num_beams] # beam search determinista\n",
        "  elif mode == 'sto':\n",
        "    idx_select = np.random.choice(np.arange(pred_large.shape[0]), num_beams, p=softmax(pred_large/temp)) # beam search con muestreo aleatorio\n",
        "  else:\n",
        "    raise ValueError(f'Wrong selection mode. {mode} was given. det and sto are supported.')\n",
        "\n",
        "  # traducir a índices de token en el vocabulario\n",
        "  new_history_tokens = np.concatenate((np.array(history_tokens)[idx_select//vocab_size],\n",
        "                        np.array([idx_select%vocab_size]).T),\n",
        "                      axis=1)\n",
        "\n",
        "  # devolver el producto de las probabilidades (log) y la secuencia de tokens seleccionados\n",
        "  return pred_large[idx_select.astype(int)], new_history_tokens.astype(int)\n",
        "\n",
        "\n",
        "def beam_search(model,num_beams,num_words,input,temp=1,mode='det'):\n",
        "\n",
        "    # first iteration\n",
        "\n",
        "    # encode\n",
        "    encoded = encode(input)\n",
        "\n",
        "    # first prediction\n",
        "    y_hat = model.predict(encoded,verbose=0)[0,-1,:]\n",
        "\n",
        "    # get vocabulary size\n",
        "    vocab_size = y_hat.shape[0]\n",
        "\n",
        "    # initialize history\n",
        "    history_probs = [0]*num_beams\n",
        "    history_tokens = [encoded[0]]*num_beams\n",
        "\n",
        "    # select num_beams candidates\n",
        "    history_probs, history_tokens = select_candidates([y_hat],\n",
        "                                        num_beams,\n",
        "                                        vocab_size,\n",
        "                                        history_probs,\n",
        "                                        history_tokens,\n",
        "                                        temp,\n",
        "                                        mode)\n",
        "\n",
        "    # beam search loop\n",
        "    for i in range(num_words-1):\n",
        "\n",
        "      preds = []\n",
        "\n",
        "      for hist in history_tokens:\n",
        "\n",
        "        # actualizar secuencia de tokens\n",
        "        input_update = np.array([hist[i+1:]]).copy()\n",
        "\n",
        "        # predicción\n",
        "        y_hat = model.predict(input_update,verbose=0)[0,-1,:]\n",
        "\n",
        "        preds.append(y_hat)\n",
        "\n",
        "      history_probs, history_tokens = select_candidates(preds,\n",
        "                                                        num_beams,\n",
        "                                                        vocab_size,\n",
        "                                                        history_probs,\n",
        "                                                        history_tokens,\n",
        "                                                        temp,\n",
        "                                                        mode)\n",
        "\n",
        "    return history_tokens[:,-(len(input)+num_words):]"
      ]
    },
    {
      "cell_type": "code",
      "execution_count": 40,
      "metadata": {
        "id": "GeLqAoOYW1Hm"
      },
      "outputs": [],
      "source": [
        "# predicción con beam search\n",
        "salidas = beam_search(model,num_beams=10,num_words=20,input=\"habia una vez\")"
      ]
    },
    {
      "cell_type": "code",
      "execution_count": 41,
      "metadata": {
        "id": "P8HQoLhw-NYg"
      },
      "outputs": [
        {
          "data": {
            "text/plain": [
              "array([ 4, 38, 18, 16, 38, 67, 52, 62, 38, 67, 61, 20, 40, 67, 20, 62, 39,\n",
              "       15, 20, 67, 28, 38, 67, 42, 45, 14, 31, 38, 37, 20, 15, 45,  5])"
            ]
          },
          "execution_count": 41,
          "metadata": {},
          "output_type": "execute_result"
        }
      ],
      "source": [
        "salidas[0]"
      ]
    },
    {
      "cell_type": "code",
      "execution_count": 42,
      "metadata": {
        "id": "2S3_I3S1W1Hm"
      },
      "outputs": [
        {
          "data": {
            "text/plain": [
              "'habia una vez entre la compañeros'"
            ]
          },
          "execution_count": 42,
          "metadata": {},
          "output_type": "execute_result"
        }
      ],
      "source": [
        "# veamos las salidas\n",
        "decode(salidas[0])"
      ]
    },
    {
      "cell_type": "markdown",
      "metadata": {},
      "source": [
        "#### --------------------------------Desafio 3----------------------------------"
      ]
    },
    {
      "cell_type": "markdown",
      "metadata": {
        "id": "Q_LlqmtEW1Hn"
      },
      "source": [
        "Corpus de texto\n",
        "    Utilizaremos la obra el retrato de Dorian Gray de Oscar Wilde tomado del sitio recomendado www.texto.info"
      ]
    },
    {
      "cell_type": "code",
      "execution_count": 6,
      "metadata": {},
      "outputs": [],
      "source": [
        "import urllib.request\n",
        "import re"
      ]
    },
    {
      "cell_type": "code",
      "execution_count": 37,
      "metadata": {},
      "outputs": [
        {
          "name": "stdout",
          "output_type": "stream",
          "text": [
            "Archivo PDF descargado exitosamente.\n"
          ]
        }
      ],
      "source": [
        "url = \"https://www.textos.info/oscar-wilde/el-retrato-de-dorian-gray/pdf\"\n",
        "urllib.request.urlretrieve(url, \"el-retrato-de-dorian-gray.pdf\")\n",
        "print(\"Archivo PDF descargado exitosamente.\")"
      ]
    },
    {
      "cell_type": "code",
      "execution_count": 38,
      "metadata": {},
      "outputs": [
        {
          "name": "stdout",
          "output_type": "stream",
          "text": [
            "Archivo convertido a TXT almacenado en el-retrato-de-dorian-gray.txt\n"
          ]
        }
      ],
      "source": [
        "#convertir archivo pfd a texto\n",
        "import fitz\n",
        "def pdf_to_txt(pdf_path, txt_path):\n",
        "    pdf_document = fitz.open(pdf_path)\n",
        "    text = \"\"\n",
        "    for page in pdf_document:\n",
        "        text += page.get_text()\n",
        "    with open(txt_path, \"w\", encoding=\"utf-8\") as txt_file:\n",
        "        txt_file.write(text)\n",
        "\n",
        "    print(f\"Archivo convertido a TXT almacenado en {txt_path}\")\n",
        "pdf_to_txt(\"el-retrato-de-dorian-gray.pdf\", \"el-retrato-de-dorian-gray.txt\")  # se genera nuevo archivo modificado con la limpieza y normalizacion del texto"
      ]
    },
    {
      "cell_type": "code",
      "execution_count": 7,
      "metadata": {},
      "outputs": [],
      "source": [
        "# Leer el archivo de texto\n",
        "with open(\"el-retrato-de-dorian-gray.txt\", \"r\", encoding=\"utf-8\") as file:\n",
        "    text = file.read()\n",
        "# Normalizacion de  texto a minusculas, eliminacion de caracterias diferentes a alfabeticos\n",
        "text = text.lower()\n",
        "text = re.sub(r'[^a-záéíóúüñ\\s]', '', text)\n",
        "text = re.sub(r'[!?]', '', text)  \n",
        "text = re.sub(r' +', ' ', text)\n",
        "archivo=open(\"el-retrato-de-dorian-gray_mod.txt\", \"w\", encoding=\"utf-8\") \n",
        "archivo.write(text)\n",
        "archivo.close()"
      ]
    },
    {
      "cell_type": "code",
      "execution_count": null,
      "metadata": {},
      "outputs": [],
      "source": [
        "# Mostrar el texto extraído (opcional)\n",
        "print(text[:1000])  # Muestra los primeros 1000 caracteres"
      ]
    },
    {
      "cell_type": "code",
      "execution_count": 8,
      "metadata": {},
      "outputs": [
        {
          "data": {
            "text/html": [
              "<div>\n",
              "<style scoped>\n",
              "    .dataframe tbody tr th:only-of-type {\n",
              "        vertical-align: middle;\n",
              "    }\n",
              "\n",
              "    .dataframe tbody tr th {\n",
              "        vertical-align: top;\n",
              "    }\n",
              "\n",
              "    .dataframe thead th {\n",
              "        text-align: right;\n",
              "    }\n",
              "</style>\n",
              "<table border=\"1\" class=\"dataframe\">\n",
              "  <thead>\n",
              "    <tr style=\"text-align: right;\">\n",
              "      <th></th>\n",
              "      <th>el retrato de dorian gray</th>\n",
              "    </tr>\n",
              "  </thead>\n",
              "  <tbody>\n",
              "    <tr>\n",
              "      <th>0</th>\n",
              "      <td>oscar wilde</td>\n",
              "    </tr>\n",
              "    <tr>\n",
              "      <th>1</th>\n",
              "      <td>textosinfo</td>\n",
              "    </tr>\n",
              "    <tr>\n",
              "      <th>2</th>\n",
              "      <td>biblioteca digital abierta</td>\n",
              "    </tr>\n",
              "    <tr>\n",
              "      <th>3</th>\n",
              "      <td>texto núm</td>\n",
              "    </tr>\n",
              "    <tr>\n",
              "      <th>4</th>\n",
              "      <td>título el retrato de dorian gray</td>\n",
              "    </tr>\n",
              "    <tr>\n",
              "      <th>5</th>\n",
              "      <td>autor oscar wilde</td>\n",
              "    </tr>\n",
              "    <tr>\n",
              "      <th>6</th>\n",
              "      <td>etiquetas novela</td>\n",
              "    </tr>\n",
              "    <tr>\n",
              "      <th>7</th>\n",
              "      <td>editor edu robsy</td>\n",
              "    </tr>\n",
              "    <tr>\n",
              "      <th>8</th>\n",
              "      <td>fecha de creación de mayo de</td>\n",
              "    </tr>\n",
              "    <tr>\n",
              "      <th>9</th>\n",
              "      <td>fecha de modificación de noviembre de</td>\n",
              "    </tr>\n",
              "    <tr>\n",
              "      <th>10</th>\n",
              "      <td>edita textosinfo</td>\n",
              "    </tr>\n",
              "    <tr>\n",
              "      <th>11</th>\n",
              "      <td>maison carrée</td>\n",
              "    </tr>\n",
              "    <tr>\n",
              "      <th>12</th>\n",
              "      <td>c des ramal</td>\n",
              "    </tr>\n",
              "    <tr>\n",
              "      <th>13</th>\n",
              "      <td>alayor menorca</td>\n",
              "    </tr>\n",
              "    <tr>\n",
              "      <th>14</th>\n",
              "      <td>islas baleares</td>\n",
              "    </tr>\n",
              "  </tbody>\n",
              "</table>\n",
              "</div>"
            ],
            "text/plain": [
              "                el retrato de dorian gray\n",
              "0                             oscar wilde\n",
              "1                              textosinfo\n",
              "2              biblioteca digital abierta\n",
              "3                               texto núm\n",
              "4        título el retrato de dorian gray\n",
              "5                       autor oscar wilde\n",
              "6                        etiquetas novela\n",
              "7                        editor edu robsy\n",
              "8            fecha de creación de mayo de\n",
              "9   fecha de modificación de noviembre de\n",
              "10                       edita textosinfo\n",
              "11                          maison carrée\n",
              "12                            c des ramal\n",
              "13                         alayor menorca\n",
              "14                         islas baleares"
            ]
          },
          "execution_count": 8,
          "metadata": {},
          "output_type": "execute_result"
        }
      ],
      "source": [
        "# Armar el dataset \n",
        "df = pd.read_fwf('el-retrato-de-dorian-gray_mod.txt')\n",
        "df.head(15)"
      ]
    },
    {
      "cell_type": "code",
      "execution_count": 9,
      "metadata": {},
      "outputs": [],
      "source": [
        "# seleccionamos el tamaño de contexto\n",
        "max_context_size = 100"
      ]
    },
    {
      "cell_type": "code",
      "execution_count": 10,
      "metadata": {},
      "outputs": [],
      "source": [
        "# Usaremos las utilidades de procesamiento de textos y secuencias de Keras\n",
        "from tensorflow.keras.utils import pad_sequences # se utilizará para padding"
      ]
    },
    {
      "cell_type": "code",
      "execution_count": 11,
      "metadata": {},
      "outputs": [],
      "source": [
        "# en este caso el vocabulario es el conjunto único de caracteres que existe en todo el texto\n",
        "chars_vocab = set(text)"
      ]
    },
    {
      "cell_type": "code",
      "execution_count": 12,
      "metadata": {},
      "outputs": [
        {
          "data": {
            "text/plain": [
              "35"
            ]
          },
          "execution_count": 12,
          "metadata": {},
          "output_type": "execute_result"
        }
      ],
      "source": [
        "# la longitud de vocabulario de caracteres es:\n",
        "len(chars_vocab)"
      ]
    },
    {
      "cell_type": "code",
      "execution_count": 13,
      "metadata": {},
      "outputs": [],
      "source": [
        "# Construimos los dicionarios que asignan índices a caracteres y viceversa.\n",
        "# El diccionario `char2idx` servirá como tokenizador.\n",
        "char2idx = {k: v for v,k in enumerate(chars_vocab)}\n",
        "idx2char = {v: k for k,v in char2idx.items()}"
      ]
    },
    {
      "cell_type": "markdown",
      "metadata": {},
      "source": [
        "###  Tokenizar"
      ]
    },
    {
      "cell_type": "code",
      "execution_count": 14,
      "metadata": {},
      "outputs": [],
      "source": [
        "# tokenizamos el texto completo\n",
        "tokenized_text = [char2idx[ch] for ch in text]"
      ]
    },
    {
      "cell_type": "code",
      "execution_count": 15,
      "metadata": {},
      "outputs": [
        {
          "data": {
            "text/plain": [
              "[0,\n",
              " 18,\n",
              " 16,\n",
              " 26,\n",
              " 2,\n",
              " 18,\n",
              " 12,\n",
              " 2,\n",
              " 22,\n",
              " 12,\n",
              " 27,\n",
              " 26,\n",
              " 30,\n",
              " 18,\n",
              " 26,\n",
              " 30,\n",
              " 27,\n",
              " 2,\n",
              " 13,\n",
              " 22,\n",
              " 9,\n",
              " 26,\n",
              " 14,\n",
              " 2,\n",
              " 22,\n",
              " 34,\n",
              " 0,\n",
              " 27,\n",
              " 17,\n",
              " 8,\n",
              " 22,\n",
              " 2,\n",
              " 26,\n",
              " 33,\n",
              " 13,\n",
              " 16,\n",
              " 30,\n",
              " 18,\n",
              " 0,\n",
              " 12,\n",
              " 18,\n",
              " 24,\n",
              " 12,\n",
              " 27,\n",
              " 17,\n",
              " 13,\n",
              " 9,\n",
              " 23,\n",
              " 27,\n",
              " 0,\n",
              " 19,\n",
              " 13,\n",
              " 19,\n",
              " 16,\n",
              " 13,\n",
              " 27,\n",
              " 12,\n",
              " 18,\n",
              " 8,\n",
              " 22,\n",
              " 26,\n",
              " 30,\n",
              " 13,\n",
              " 14,\n",
              " 13,\n",
              " 12,\n",
              " 22,\n",
              " 16,\n",
              " 26,\n",
              " 22,\n",
              " 19,\n",
              " 13,\n",
              " 18,\n",
              " 2,\n",
              " 12,\n",
              " 22,\n",
              " 0,\n",
              " 0,\n",
              " 12,\n",
              " 18,\n",
              " 24,\n",
              " 12,\n",
              " 27,\n",
              " 26,\n",
              " 9,\n",
              " 25,\n",
              " 21,\n",
              " 26,\n",
              " 0,\n",
              " 12,\n",
              " 7,\n",
              " 12,\n",
              " 28,\n",
              " 16,\n",
              " 27,\n",
              " 26,\n",
              " 18,\n",
              " 16,\n",
              " 26,\n",
              " 2,\n",
              " 18,\n",
              " 12,\n",
              " 2,\n",
              " 22,\n",
              " 12,\n",
              " 27,\n",
              " 26,\n",
              " 30,\n",
              " 18,\n",
              " 26,\n",
              " 30,\n",
              " 27,\n",
              " 2,\n",
              " 13,\n",
              " 22,\n",
              " 9,\n",
              " 26,\n",
              " 14,\n",
              " 2,\n",
              " 22,\n",
              " 34,\n",
              " 0,\n",
              " 22,\n",
              " 28,\n",
              " 12,\n",
              " 27,\n",
              " 2,\n",
              " 26,\n",
              " 27,\n",
              " 17,\n",
              " 8,\n",
              " 22,\n",
              " 2,\n",
              " 26,\n",
              " 33,\n",
              " 13,\n",
              " 16,\n",
              " 30,\n",
              " 18,\n",
              " 0,\n",
              " 18,\n",
              " 12,\n",
              " 13,\n",
              " 32,\n",
              " 28,\n",
              " 18,\n",
              " 12,\n",
              " 22,\n",
              " 17,\n",
              " 26,\n",
              " 9,\n",
              " 27,\n",
              " 31,\n",
              " 18,\n",
              " 16,\n",
              " 22,\n",
              " 0,\n",
              " 18,\n",
              " 30,\n",
              " 13,\n",
              " 12,\n",
              " 27,\n",
              " 2,\n",
              " 26,\n",
              " 18,\n",
              " 30,\n",
              " 28,\n",
              " 26,\n",
              " 2,\n",
              " 27,\n",
              " 19,\n",
              " 17,\n",
              " 34,\n",
              " 0,\n",
              " 23,\n",
              " 18,\n",
              " 8,\n",
              " 4,\n",
              " 22,\n",
              " 26,\n",
              " 30,\n",
              " 18,\n",
              " 26,\n",
              " 8,\n",
              " 2,\n",
              " 18,\n",
              " 22,\n",
              " 8,\n",
              " 13,\n",
              " 20,\n",
              " 9,\n",
              " 26,\n",
              " 30,\n",
              " 18,\n",
              " 26,\n",
              " 21,\n",
              " 22,\n",
              " 34,\n",
              " 27,\n",
              " 26,\n",
              " 30,\n",
              " 18,\n",
              " 26,\n",
              " 0,\n",
              " 23,\n",
              " 18,\n",
              " 8,\n",
              " 4,\n",
              " 22,\n",
              " 26,\n",
              " 30,\n",
              " 18,\n",
              " 26,\n",
              " 21,\n",
              " 27,\n",
              " 30,\n",
              " 13,\n",
              " 23,\n",
              " 13,\n",
              " 8,\n",
              " 22,\n",
              " 8,\n",
              " 13,\n",
              " 20,\n",
              " 9,\n",
              " 26,\n",
              " 30,\n",
              " 18,\n",
              " 26,\n",
              " 9,\n",
              " 27,\n",
              " 31,\n",
              " 13,\n",
              " 18,\n",
              " 21,\n",
              " 19,\n",
              " 2,\n",
              " 18,\n",
              " 26,\n",
              " 30,\n",
              " 18,\n",
              " 26,\n",
              " 0,\n",
              " 18,\n",
              " 30,\n",
              " 13,\n",
              " 12,\n",
              " 22,\n",
              " 26,\n",
              " 12,\n",
              " 18,\n",
              " 24,\n",
              " 12,\n",
              " 27,\n",
              " 17,\n",
              " 13,\n",
              " 9,\n",
              " 23,\n",
              " 27,\n",
              " 0,\n",
              " 21,\n",
              " 22,\n",
              " 13,\n",
              " 17,\n",
              " 27,\n",
              " 9,\n",
              " 26,\n",
              " 8,\n",
              " 22,\n",
              " 2,\n",
              " 2,\n",
              " 5,\n",
              " 18,\n",
              " 0,\n",
              " 8,\n",
              " 26,\n",
              " 30,\n",
              " 18,\n",
              " 17,\n",
              " 26,\n",
              " 2,\n",
              " 22,\n",
              " 21,\n",
              " 22,\n",
              " 16,\n",
              " 26,\n",
              " 0,\n",
              " 26,\n",
              " 22,\n",
              " 16,\n",
              " 22,\n",
              " 34,\n",
              " 27,\n",
              " 2,\n",
              " 26,\n",
              " 21,\n",
              " 18,\n",
              " 9,\n",
              " 27,\n",
              " 2,\n",
              " 8,\n",
              " 22,\n",
              " 0,\n",
              " 13,\n",
              " 17,\n",
              " 16,\n",
              " 22,\n",
              " 17,\n",
              " 26,\n",
              " 19,\n",
              " 22,\n",
              " 16,\n",
              " 18,\n",
              " 22,\n",
              " 2,\n",
              " 18,\n",
              " 17,\n",
              " 0,\n",
              " 18,\n",
              " 17,\n",
              " 6,\n",
              " 22,\n",
              " 10,\n",
              " 22,\n",
              " 0,\n",
              " 21,\n",
              " 15,\n",
              " 17,\n",
              " 26,\n",
              " 12,\n",
              " 18,\n",
              " 24,\n",
              " 12,\n",
              " 27,\n",
              " 17,\n",
              " 26,\n",
              " 30,\n",
              " 13,\n",
              " 17,\n",
              " 6,\n",
              " 27,\n",
              " 9,\n",
              " 13,\n",
              " 19,\n",
              " 16,\n",
              " 18,\n",
              " 17,\n",
              " 26,\n",
              " 18,\n",
              " 9,\n",
              " 26,\n",
              " 4,\n",
              " 12,\n",
              " 12,\n",
              " 6,\n",
              " 33,\n",
              " 33,\n",
              " 33,\n",
              " 12,\n",
              " 18,\n",
              " 24,\n",
              " 12,\n",
              " 27,\n",
              " 17,\n",
              " 13,\n",
              " 9,\n",
              " 23,\n",
              " 27,\n",
              " 0,\n",
              " 0,\n",
              " 6,\n",
              " 2,\n",
              " 18,\n",
              " 23,\n",
              " 22,\n",
              " 8,\n",
              " 13,\n",
              " 27,\n",
              " 0,\n",
              " 18,\n",
              " 16,\n",
              " 26,\n",
              " 22,\n",
              " 2,\n",
              " 12,\n",
              " 13,\n",
              " 17,\n",
              " 12,\n",
              " 22,\n",
              " 26,\n",
              " 18,\n",
              " 17,\n",
              " 26,\n",
              " 8,\n",
              " 2,\n",
              " 18,\n",
              " 22,\n",
              " 30,\n",
              " 27,\n",
              " 2,\n",
              " 26,\n",
              " 30,\n",
              " 18,\n",
              " 26,\n",
              " 19,\n",
              " 18,\n",
              " 16,\n",
              " 16,\n",
              " 18,\n",
              " 11,\n",
              " 22,\n",
              " 0,\n",
              " 2,\n",
              " 18,\n",
              " 31,\n",
              " 18,\n",
              " 16,\n",
              " 22,\n",
              " 2,\n",
              " 26,\n",
              " 18,\n",
              " 16,\n",
              " 26,\n",
              " 22,\n",
              " 2,\n",
              " 12,\n",
              " 18,\n",
              " 26,\n",
              " 34,\n",
              " 26,\n",
              " 27,\n",
              " 8,\n",
              " 28,\n",
              " 16,\n",
              " 12,\n",
              " 22,\n",
              " 2,\n",
              " 26,\n",
              " 22,\n",
              " 16,\n",
              " 26,\n",
              " 22,\n",
              " 2,\n",
              " 12,\n",
              " 13,\n",
              " 17,\n",
              " 12,\n",
              " 22,\n",
              " 26,\n",
              " 18,\n",
              " 17,\n",
              " 26,\n",
              " 16,\n",
              " 22,\n",
              " 26,\n",
              " 21,\n",
              " 18,\n",
              " 12,\n",
              " 22,\n",
              " 26,\n",
              " 30,\n",
              " 18,\n",
              " 16,\n",
              " 26,\n",
              " 22,\n",
              " 2,\n",
              " 12,\n",
              " 18,\n",
              " 0,\n",
              " 18,\n",
              " 16,\n",
              " 26,\n",
              " 8,\n",
              " 2,\n",
              " 7,\n",
              " 12,\n",
              " 13,\n",
              " 8,\n",
              " 27,\n",
              " 26,\n",
              " 18,\n",
              " 17,\n",
              " 26,\n",
              " 32,\n",
              " 28,\n",
              " 13,\n",
              " 18,\n",
              " 9,\n",
              " 26,\n",
              " 6,\n",
              " 28,\n",
              " 18,\n",
              " 30,\n",
              " 18,\n",
              " 26,\n",
              " 12,\n",
              " 2,\n",
              " 22,\n",
              " 30,\n",
              " 28,\n",
              " 8,\n",
              " 13,\n",
              " 2,\n",
              " 26,\n",
              " 30,\n",
              " 18,\n",
              " 26,\n",
              " 21,\n",
              " 22,\n",
              " 9,\n",
              " 18,\n",
              " 2,\n",
              " 22,\n",
              " 26,\n",
              " 30,\n",
              " 13,\n",
              " 17,\n",
              " 12,\n",
              " 13,\n",
              " 9,\n",
              " 12,\n",
              " 22,\n",
              " 26,\n",
              " 27,\n",
              " 26,\n",
              " 8,\n",
              " 27,\n",
              " 9,\n",
              " 26,\n",
              " 9,\n",
              " 28,\n",
              " 18,\n",
              " 31,\n",
              " 27,\n",
              " 17,\n",
              " 26,\n",
              " 0,\n",
              " 21,\n",
              " 22,\n",
              " 12,\n",
              " 18,\n",
              " 2,\n",
              " 13,\n",
              " 22,\n",
              " 16,\n",
              " 18,\n",
              " 17,\n",
              " 26,\n",
              " 17,\n",
              " 28,\n",
              " 26,\n",
              " 13,\n",
              " 21,\n",
              " 6,\n",
              " 2,\n",
              " 18,\n",
              " 17,\n",
              " 13,\n",
              " 20,\n",
              " 9,\n",
              " 26,\n",
              " 30,\n",
              " 18,\n",
              " 26,\n",
              " 16,\n",
              " 22,\n",
              " 26,\n",
              " 19,\n",
              " 18,\n",
              " 16,\n",
              " 16,\n",
              " 18,\n",
              " 11,\n",
              " 22,\n",
              " 26,\n",
              " 16,\n",
              " 22,\n",
              " 26,\n",
              " 23,\n",
              " 27,\n",
              " 2,\n",
              " 21,\n",
              " 22,\n",
              " 26,\n",
              " 21,\n",
              " 15,\n",
              " 17,\n",
              " 26,\n",
              " 18,\n",
              " 16,\n",
              " 18,\n",
              " 31,\n",
              " 22,\n",
              " 30,\n",
              " 22,\n",
              " 26,\n",
              " 30,\n",
              " 18,\n",
              " 26,\n",
              " 16,\n",
              " 22,\n",
              " 26,\n",
              " 8,\n",
              " 2,\n",
              " 7,\n",
              " 12,\n",
              " 13,\n",
              " 8,\n",
              " 22,\n",
              " 26,\n",
              " 34,\n",
              " 26,\n",
              " 0,\n",
              " 12,\n",
              " 22,\n",
              " 21,\n",
              " 19,\n",
              " 13,\n",
              " 5,\n",
              " 9,\n",
              " 26,\n",
              " 16,\n",
              " 22,\n",
              " 26,\n",
              " 21,\n",
              " 15,\n",
              " 17,\n",
              " 26,\n",
              " 2,\n",
              " 22,\n",
              " 17,\n",
              " 12,\n",
              " 2,\n",
              " 18,\n",
              " 2,\n",
              " 22,\n",
              " 26,\n",
              " 18,\n",
              " 17,\n",
              " 26,\n",
              " 28,\n",
              " 9,\n",
              " 22,\n",
              " 26,\n",
              " 21,\n",
              " 27,\n",
              " 30,\n",
              " 22,\n",
              " 16,\n",
              " 13,\n",
              " 30,\n",
              " 22,\n",
              " 30,\n",
              " 26,\n",
              " 30,\n",
              " 18,\n",
              " 26,\n",
              " 22,\n",
              " 28,\n",
              " 12,\n",
              " 27,\n",
              " 19,\n",
              " 13,\n",
              " 27,\n",
              " 14,\n",
              " 2,\n",
              " 22,\n",
              " 23,\n",
              " 7,\n",
              " 22,\n",
              " 0,\n",
              " 32,\n",
              " 28,\n",
              " 13,\n",
              " 18,\n",
              " 9,\n",
              " 18,\n",
              " 17,\n",
              " 26,\n",
              " 30,\n",
              " 18,\n",
              " 17,\n",
              " 8,\n",
              " 28,\n",
              " 19,\n",
              " 2,\n",
              " 18,\n",
              " 9,\n",
              " 26,\n",
              " 17,\n",
              " 13,\n",
              " 14,\n",
              " 9,\n",
              " 13,\n",
              " 23,\n",
              " 13,\n",
              " 8,\n",
              " 22,\n",
              " 30,\n",
              " 27,\n",
              " 17,\n",
              " 26,\n",
              " 2,\n",
              " 28,\n",
              " 13,\n",
              " 9,\n",
              " 18,\n",
              " 17,\n",
              " 26,\n",
              " 18,\n",
              " 9,\n",
              " 26,\n",
              " 8,\n",
              " 27,\n",
              " 17,\n",
              " 22,\n",
              " 17,\n",
              " 26,\n",
              " 4,\n",
              " 18,\n",
              " 2,\n",
              " 21,\n",
              " 27,\n",
              " 17,\n",
              " 22,\n",
              " 17,\n",
              " 26,\n",
              " 18,\n",
              " 17,\n",
              " 12,\n",
              " 15,\n",
              " 9,\n",
              " 26,\n",
              " 0,\n",
              " 8,\n",
              " 27,\n",
              " 2,\n",
              " 2,\n",
              " 27,\n",
              " 21,\n",
              " 6,\n",
              " 13,\n",
              " 30,\n",
              " 27,\n",
              " 17,\n",
              " 26,\n",
              " 17,\n",
              " 13,\n",
              " 9,\n",
              " 26,\n",
              " 17,\n",
              " 18,\n",
              " 2,\n",
              " 26,\n",
              " 18,\n",
              " 16,\n",
              " 18,\n",
              " 14,\n",
              " 22,\n",
              " 9,\n",
              " 12,\n",
              " 18,\n",
              " 17,\n",
              " 26,\n",
              " 16,\n",
              " 27,\n",
              " 26,\n",
              " 32,\n",
              " 28,\n",
              " 18,\n",
              " 26,\n",
              " 18,\n",
              " 17,\n",
              " 26,\n",
              " 28,\n",
              " 9,\n",
              " 26,\n",
              " 30,\n",
              " 18,\n",
              " 23,\n",
              " 18,\n",
              " 8,\n",
              " 12,\n",
              " 27,\n",
              " 26,\n",
              " 32,\n",
              " 28,\n",
              " 13,\n",
              " 18,\n",
              " 9,\n",
              " 18,\n",
              " 17,\n",
              " 26,\n",
              " 18,\n",
              " 9,\n",
              " 8,\n",
              " 28,\n",
              " 18,\n",
              " 9,\n",
              " 12,\n",
              " 2,\n",
              " 22,\n",
              " 9,\n",
              " 26,\n",
              " 0,\n",
              " 17,\n",
              " 13,\n",
              " 14,\n",
              " 9,\n",
              " 13,\n",
              " 23,\n",
              " 13,\n",
              " 8,\n",
              " 22,\n",
              " 30,\n",
              " 27,\n",
              " 17,\n",
              " 26,\n",
              " 19,\n",
              " 18,\n",
              " 16,\n",
              " 16,\n",
              " 27,\n",
              " 17,\n",
              " 26,\n",
              " 18,\n",
              " 9,\n",
              " 26,\n",
              " 8,\n",
              " 27,\n",
              " 17,\n",
              " 22,\n",
              " 17,\n",
              " 26,\n",
              " 4,\n",
              " 18,\n",
              " 2,\n",
              " 21,\n",
              " 27,\n",
              " 17,\n",
              " 22,\n",
              " 17,\n",
              " 26,\n",
              " 17,\n",
              " 27,\n",
              " 9,\n",
              " 26,\n",
              " 18,\n",
              " 17,\n",
              " 6,\n",
              " 7,\n",
              " 2,\n",
              " 13,\n",
              " 12,\n",
              " 28,\n",
              " 17,\n",
              " 26,\n",
              " 8,\n",
              " 28,\n",
              " 16,\n",
              " 12,\n",
              " 13,\n",
              " 31,\n",
              " 22,\n",
              " 30,\n",
              " 27,\n",
              " 17,\n",
              " 26,\n",
              " 6,\n",
              " 22,\n",
              " 2,\n",
              " 22,\n",
              " 26,\n",
              " 18,\n",
              " 16,\n",
              " 16,\n",
              " 27,\n",
              " 17,\n",
              " 26,\n",
              " 0,\n",
              " 4,\n",
              " 22,\n",
              " 34,\n",
              " 26,\n",
              " 18,\n",
              " 17,\n",
              " 6,\n",
              " 18,\n",
              " 2,\n",
              " 22,\n",
              " 9,\n",
              " 11,\n",
              " 22,\n",
              " 0,\n",
              " 17,\n",
              " 27,\n",
              " 9,\n",
              " 26,\n",
              " 16,\n",
              " 27,\n",
              " 17,\n",
              " 26,\n",
              " 18,\n",
              " 16,\n",
              " 18,\n",
              " 14,\n",
              " 13,\n",
              " 30,\n",
              " 27,\n",
              " 17,\n",
              " 26,\n",
              " 34,\n",
              " 26,\n",
              " 18,\n",
              " 9,\n",
              " 26,\n",
              " 17,\n",
              " 28,\n",
              " 26,\n",
              " 8,\n",
              " 22,\n",
              " 17,\n",
              " 27,\n",
              " 26,\n",
              " 16,\n",
              " 22,\n",
              " 17,\n",
              " 26,\n",
              " 8,\n",
              " 27,\n",
              " 17,\n",
              " 22,\n",
              " 17,\n",
              " 26,\n",
              " 4,\n",
              " 18,\n",
              " 2,\n",
              " 21,\n",
              " 27,\n",
              " 17,\n",
              " 22,\n",
              " 17,\n",
              " 26,\n",
              " 17,\n",
              " 20,\n",
              " 16,\n",
              " 27,\n",
              " 26,\n",
              " 17,\n",
              " 13,\n",
              " 14,\n",
              " 9,\n",
              " 13,\n",
              " 23,\n",
              " 13,\n",
              " 8,\n",
              " 22,\n",
              " 9,\n",
              " 26,\n",
              " 19,\n",
              " 18,\n",
              " 16,\n",
              " 16,\n",
              " 18,\n",
              " 11,\n",
              " 22,\n",
              " 0,\n",
              " 9,\n",
              " 27,\n",
              " 26,\n",
              " 18,\n",
              " 24,\n",
              " 13,\n",
              " 17,\n",
              " 12,\n",
              " 18,\n",
              " 9,\n",
              " 26,\n",
              " 16,\n",
              " 13,\n",
              " 19,\n",
              " 2,\n",
              " 27,\n",
              " 17,\n",
              " 26,\n",
              " 21,\n",
              " 27,\n",
              " 2,\n",
              " 22,\n",
              " 16,\n",
              " 18,\n",
              " 17,\n",
              " 26,\n",
              " 27,\n",
              " 26,\n",
              " 13,\n",
              " 9,\n",
              " 21,\n",
              " 27,\n",
              " 2]"
            ]
          },
          "execution_count": 15,
          "metadata": {},
          "output_type": "execute_result"
        }
      ],
      "source": [
        "tokenized_text[:1000]"
      ]
    },
    {
      "cell_type": "markdown",
      "metadata": {},
      "source": [
        "### Organizando y estructurando el dataset"
      ]
    },
    {
      "cell_type": "code",
      "execution_count": 16,
      "metadata": {},
      "outputs": [],
      "source": [
        "# separaremos el dataset entre entrenamiento y validación.\n",
        "# `p_val` será la proporción del corpus que se reservará para validación\n",
        "# `num_val` es la cantidad de secuencias de tamaño `max_context_size` que se usará en validación\n",
        "p_val = 0.1\n",
        "num_val = int(np.ceil(len(tokenized_text)*p_val/max_context_size))"
      ]
    },
    {
      "cell_type": "code",
      "execution_count": 17,
      "metadata": {},
      "outputs": [],
      "source": [
        "# separamos la porción de texto utilizada en entrenamiento de la de validación.\n",
        "train_text = tokenized_text[:-num_val*max_context_size]\n",
        "val_text = tokenized_text[-num_val*max_context_size:]"
      ]
    },
    {
      "cell_type": "code",
      "execution_count": 18,
      "metadata": {},
      "outputs": [],
      "source": [
        "tokenized_sentences_val = [val_text[init*max_context_size:init*(max_context_size+1)] for init in range(num_val)]"
      ]
    },
    {
      "cell_type": "code",
      "execution_count": 19,
      "metadata": {},
      "outputs": [],
      "source": [
        "tokenized_sentences_train = [train_text[init:init+max_context_size] for init in range(len(train_text)-max_context_size+1)]"
      ]
    },
    {
      "cell_type": "code",
      "execution_count": 20,
      "metadata": {},
      "outputs": [],
      "source": [
        "X = np.array(tokenized_sentences_train[:-1])\n",
        "y = np.array(tokenized_sentences_train[1:])"
      ]
    },
    {
      "cell_type": "code",
      "execution_count": 21,
      "metadata": {},
      "outputs": [
        {
          "data": {
            "text/plain": [
              "(402795, 100)"
            ]
          },
          "execution_count": 21,
          "metadata": {},
          "output_type": "execute_result"
        }
      ],
      "source": [
        "X.shape"
      ]
    },
    {
      "cell_type": "code",
      "execution_count": 22,
      "metadata": {},
      "outputs": [
        {
          "data": {
            "text/plain": [
              "array([ 0, 18, 16, 26,  2, 18, 12,  2, 22, 12])"
            ]
          },
          "execution_count": 22,
          "metadata": {},
          "output_type": "execute_result"
        }
      ],
      "source": [
        "X[0,:10]"
      ]
    },
    {
      "cell_type": "code",
      "execution_count": 23,
      "metadata": {},
      "outputs": [
        {
          "data": {
            "text/plain": [
              "array([18, 16, 26,  2, 18, 12,  2, 22, 12, 27])"
            ]
          },
          "execution_count": 23,
          "metadata": {},
          "output_type": "execute_result"
        }
      ],
      "source": [
        "y[0,:10]"
      ]
    },
    {
      "cell_type": "code",
      "execution_count": 24,
      "metadata": {},
      "outputs": [],
      "source": [
        "vocab_size = len(chars_vocab)"
      ]
    },
    {
      "cell_type": "code",
      "execution_count": 25,
      "metadata": {},
      "outputs": [
        {
          "name": "stdout",
          "output_type": "stream",
          "text": [
            "35\n"
          ]
        }
      ],
      "source": [
        "print(vocab_size)"
      ]
    },
    {
      "cell_type": "markdown",
      "metadata": {},
      "source": [
        "# Definiendo el modelo"
      ]
    },
    {
      "cell_type": "code",
      "execution_count": 63,
      "metadata": {},
      "outputs": [],
      "source": [
        "from keras.layers import Input, TimeDistributed, CategoryEncoding, SimpleRNN, Dense\n",
        "from keras.models import Model, Sequential"
      ]
    },
    {
      "cell_type": "code",
      "execution_count": 64,
      "metadata": {},
      "outputs": [
        {
          "name": "stderr",
          "output_type": "stream",
          "text": [
            "C:\\Users\\Zeus\\AppData\\Roaming\\Python\\Python311\\site-packages\\keras\\src\\layers\\core\\wrapper.py:27: UserWarning: Do not pass an `input_shape`/`input_dim` argument to a layer. When using Sequential models, prefer using an `Input(shape)` object as the first layer in the model instead.\n",
            "  super().__init__(**kwargs)\n"
          ]
        },
        {
          "data": {
            "text/html": [
              "<pre style=\"white-space:pre;overflow-x:auto;line-height:normal;font-family:Menlo,'DejaVu Sans Mono',consolas,'Courier New',monospace\"><span style=\"font-weight: bold\">Model: \"sequential_1\"</span>\n",
              "</pre>\n"
            ],
            "text/plain": [
              "\u001b[1mModel: \"sequential_1\"\u001b[0m\n"
            ]
          },
          "metadata": {},
          "output_type": "display_data"
        },
        {
          "data": {
            "text/html": [
              "<pre style=\"white-space:pre;overflow-x:auto;line-height:normal;font-family:Menlo,'DejaVu Sans Mono',consolas,'Courier New',monospace\">┏━━━━━━━━━━━━━━━━━━━━━━━━━━━━━━━━━┳━━━━━━━━━━━━━━━━━━━━━━━━┳━━━━━━━━━━━━━━━┓\n",
              "┃<span style=\"font-weight: bold\"> Layer (type)                    </span>┃<span style=\"font-weight: bold\"> Output Shape           </span>┃<span style=\"font-weight: bold\">       Param # </span>┃\n",
              "┡━━━━━━━━━━━━━━━━━━━━━━━━━━━━━━━━━╇━━━━━━━━━━━━━━━━━━━━━━━━╇━━━━━━━━━━━━━━━┩\n",
              "│ time_distributed_1              │ (<span style=\"color: #00d7ff; text-decoration-color: #00d7ff\">None</span>, <span style=\"color: #00d7ff; text-decoration-color: #00d7ff\">None</span>, <span style=\"color: #00af00; text-decoration-color: #00af00\">35</span>)       │             <span style=\"color: #00af00; text-decoration-color: #00af00\">0</span> │\n",
              "│ (<span style=\"color: #0087ff; text-decoration-color: #0087ff\">TimeDistributed</span>)               │                        │               │\n",
              "├─────────────────────────────────┼────────────────────────┼───────────────┤\n",
              "│ simple_rnn_1 (<span style=\"color: #0087ff; text-decoration-color: #0087ff\">SimpleRNN</span>)        │ (<span style=\"color: #00d7ff; text-decoration-color: #00d7ff\">None</span>, <span style=\"color: #00d7ff; text-decoration-color: #00d7ff\">None</span>, <span style=\"color: #00af00; text-decoration-color: #00af00\">200</span>)      │        <span style=\"color: #00af00; text-decoration-color: #00af00\">47,200</span> │\n",
              "├─────────────────────────────────┼────────────────────────┼───────────────┤\n",
              "│ dense_1 (<span style=\"color: #0087ff; text-decoration-color: #0087ff\">Dense</span>)                 │ (<span style=\"color: #00d7ff; text-decoration-color: #00d7ff\">None</span>, <span style=\"color: #00d7ff; text-decoration-color: #00d7ff\">None</span>, <span style=\"color: #00af00; text-decoration-color: #00af00\">35</span>)       │         <span style=\"color: #00af00; text-decoration-color: #00af00\">7,035</span> │\n",
              "└─────────────────────────────────┴────────────────────────┴───────────────┘\n",
              "</pre>\n"
            ],
            "text/plain": [
              "┏━━━━━━━━━━━━━━━━━━━━━━━━━━━━━━━━━┳━━━━━━━━━━━━━━━━━━━━━━━━┳━━━━━━━━━━━━━━━┓\n",
              "┃\u001b[1m \u001b[0m\u001b[1mLayer (type)                   \u001b[0m\u001b[1m \u001b[0m┃\u001b[1m \u001b[0m\u001b[1mOutput Shape          \u001b[0m\u001b[1m \u001b[0m┃\u001b[1m \u001b[0m\u001b[1m      Param #\u001b[0m\u001b[1m \u001b[0m┃\n",
              "┡━━━━━━━━━━━━━━━━━━━━━━━━━━━━━━━━━╇━━━━━━━━━━━━━━━━━━━━━━━━╇━━━━━━━━━━━━━━━┩\n",
              "│ time_distributed_1              │ (\u001b[38;5;45mNone\u001b[0m, \u001b[38;5;45mNone\u001b[0m, \u001b[38;5;34m35\u001b[0m)       │             \u001b[38;5;34m0\u001b[0m │\n",
              "│ (\u001b[38;5;33mTimeDistributed\u001b[0m)               │                        │               │\n",
              "├─────────────────────────────────┼────────────────────────┼───────────────┤\n",
              "│ simple_rnn_1 (\u001b[38;5;33mSimpleRNN\u001b[0m)        │ (\u001b[38;5;45mNone\u001b[0m, \u001b[38;5;45mNone\u001b[0m, \u001b[38;5;34m200\u001b[0m)      │        \u001b[38;5;34m47,200\u001b[0m │\n",
              "├─────────────────────────────────┼────────────────────────┼───────────────┤\n",
              "│ dense_1 (\u001b[38;5;33mDense\u001b[0m)                 │ (\u001b[38;5;45mNone\u001b[0m, \u001b[38;5;45mNone\u001b[0m, \u001b[38;5;34m35\u001b[0m)       │         \u001b[38;5;34m7,035\u001b[0m │\n",
              "└─────────────────────────────────┴────────────────────────┴───────────────┘\n"
            ]
          },
          "metadata": {},
          "output_type": "display_data"
        },
        {
          "data": {
            "text/html": [
              "<pre style=\"white-space:pre;overflow-x:auto;line-height:normal;font-family:Menlo,'DejaVu Sans Mono',consolas,'Courier New',monospace\"><span style=\"font-weight: bold\"> Total params: </span><span style=\"color: #00af00; text-decoration-color: #00af00\">54,235</span> (211.86 KB)\n",
              "</pre>\n"
            ],
            "text/plain": [
              "\u001b[1m Total params: \u001b[0m\u001b[38;5;34m54,235\u001b[0m (211.86 KB)\n"
            ]
          },
          "metadata": {},
          "output_type": "display_data"
        },
        {
          "data": {
            "text/html": [
              "<pre style=\"white-space:pre;overflow-x:auto;line-height:normal;font-family:Menlo,'DejaVu Sans Mono',consolas,'Courier New',monospace\"><span style=\"font-weight: bold\"> Trainable params: </span><span style=\"color: #00af00; text-decoration-color: #00af00\">54,235</span> (211.86 KB)\n",
              "</pre>\n"
            ],
            "text/plain": [
              "\u001b[1m Trainable params: \u001b[0m\u001b[38;5;34m54,235\u001b[0m (211.86 KB)\n"
            ]
          },
          "metadata": {},
          "output_type": "display_data"
        },
        {
          "data": {
            "text/html": [
              "<pre style=\"white-space:pre;overflow-x:auto;line-height:normal;font-family:Menlo,'DejaVu Sans Mono',consolas,'Courier New',monospace\"><span style=\"font-weight: bold\"> Non-trainable params: </span><span style=\"color: #00af00; text-decoration-color: #00af00\">0</span> (0.00 B)\n",
              "</pre>\n"
            ],
            "text/plain": [
              "\u001b[1m Non-trainable params: \u001b[0m\u001b[38;5;34m0\u001b[0m (0.00 B)\n"
            ]
          },
          "metadata": {},
          "output_type": "display_data"
        }
      ],
      "source": [
        "model = Sequential()\n",
        "\n",
        "model.add(TimeDistributed(CategoryEncoding(num_tokens=vocab_size, output_mode = \"one_hot\"),input_shape=(None,1)))\n",
        "model.add(SimpleRNN(200, return_sequences=True, dropout=0.1, recurrent_dropout=0.1 ))\n",
        "model.add(Dense(vocab_size, activation='softmax'))\n",
        "model.compile(loss='sparse_categorical_crossentropy', optimizer='rmsprop')\n",
        "\n",
        "model.summary()"
      ]
    },
    {
      "cell_type": "markdown",
      "metadata": {},
      "source": [
        "### Entrenamiento"
      ]
    },
    {
      "cell_type": "code",
      "execution_count": 65,
      "metadata": {},
      "outputs": [
        {
          "name": "stdout",
          "output_type": "stream",
          "text": [
            "Epoch 1/20\n",
            "\u001b[1m1574/1574\u001b[0m \u001b[32m━━━━━━━━━━━━━━━━━━━━\u001b[0m\u001b[37m\u001b[0m \u001b[1m0s\u001b[0m 90ms/step - loss: 2.3010\n",
            " mean perplexity: 6.162499363421203 \n",
            "\n",
            "Saved new model!\n",
            "\u001b[1m1574/1574\u001b[0m \u001b[32m━━━━━━━━━━━━━━━━━━━━\u001b[0m\u001b[37m\u001b[0m \u001b[1m174s\u001b[0m 109ms/step - loss: 2.3009\n",
            "Epoch 2/20\n",
            "\u001b[1m1574/1574\u001b[0m \u001b[32m━━━━━━━━━━━━━━━━━━━━\u001b[0m\u001b[37m\u001b[0m \u001b[1m0s\u001b[0m 98ms/step - loss: 1.8776\n",
            " mean perplexity: 5.347742486443803 \n",
            "\n",
            "Saved new model!\n",
            "\u001b[1m1574/1574\u001b[0m \u001b[32m━━━━━━━━━━━━━━━━━━━━\u001b[0m\u001b[37m\u001b[0m \u001b[1m180s\u001b[0m 115ms/step - loss: 1.8776\n",
            "Epoch 3/20\n",
            "\u001b[1m1573/1574\u001b[0m \u001b[32m━━━━━━━━━━━━━━━━━━━\u001b[0m\u001b[37m━\u001b[0m \u001b[1m0s\u001b[0m 98ms/step - loss: 1.7856\n",
            " mean perplexity: 5.120424526846933 \n",
            "\n",
            "Saved new model!\n",
            "\u001b[1m1574/1574\u001b[0m \u001b[32m━━━━━━━━━━━━━━━━━━━━\u001b[0m\u001b[37m\u001b[0m \u001b[1m179s\u001b[0m 114ms/step - loss: 1.7856\n",
            "Epoch 4/20\n",
            "\u001b[1m1573/1574\u001b[0m \u001b[32m━━━━━━━━━━━━━━━━━━━\u001b[0m\u001b[37m━\u001b[0m \u001b[1m0s\u001b[0m 96ms/step - loss: 1.7468\n",
            " mean perplexity: 5.0332245323196245 \n",
            "\n",
            "Saved new model!\n",
            "\u001b[1m1574/1574\u001b[0m \u001b[32m━━━━━━━━━━━━━━━━━━━━\u001b[0m\u001b[37m\u001b[0m \u001b[1m174s\u001b[0m 111ms/step - loss: 1.7468\n",
            "Epoch 5/20\n",
            "\u001b[1m1573/1574\u001b[0m \u001b[32m━━━━━━━━━━━━━━━━━━━\u001b[0m\u001b[37m━\u001b[0m \u001b[1m0s\u001b[0m 90ms/step - loss: 1.7236\n",
            " mean perplexity: 4.919021250629871 \n",
            "\n",
            "Saved new model!\n",
            "\u001b[1m1574/1574\u001b[0m \u001b[32m━━━━━━━━━━━━━━━━━━━━\u001b[0m\u001b[37m\u001b[0m \u001b[1m166s\u001b[0m 106ms/step - loss: 1.7236\n",
            "Epoch 6/20\n",
            "\u001b[1m1573/1574\u001b[0m \u001b[32m━━━━━━━━━━━━━━━━━━━\u001b[0m\u001b[37m━\u001b[0m \u001b[1m0s\u001b[0m 91ms/step - loss: 1.7098\n",
            " mean perplexity: 4.85507941090565 \n",
            "\n",
            "Saved new model!\n",
            "\u001b[1m1574/1574\u001b[0m \u001b[32m━━━━━━━━━━━━━━━━━━━━\u001b[0m\u001b[37m\u001b[0m \u001b[1m166s\u001b[0m 106ms/step - loss: 1.7098\n",
            "Epoch 7/20\n",
            "\u001b[1m1573/1574\u001b[0m \u001b[32m━━━━━━━━━━━━━━━━━━━\u001b[0m\u001b[37m━\u001b[0m \u001b[1m0s\u001b[0m 91ms/step - loss: 1.6988\n",
            " mean perplexity: 4.8048324520680135 \n",
            "\n",
            "Saved new model!\n",
            "\u001b[1m1574/1574\u001b[0m \u001b[32m━━━━━━━━━━━━━━━━━━━━\u001b[0m\u001b[37m\u001b[0m \u001b[1m167s\u001b[0m 106ms/step - loss: 1.6988\n",
            "Epoch 8/20\n",
            "\u001b[1m1573/1574\u001b[0m \u001b[32m━━━━━━━━━━━━━━━━━━━\u001b[0m\u001b[37m━\u001b[0m \u001b[1m0s\u001b[0m 100ms/step - loss: 1.6913\n",
            " mean perplexity: 4.763723923802463 \n",
            "\n",
            "Saved new model!\n",
            "\u001b[1m1574/1574\u001b[0m \u001b[32m━━━━━━━━━━━━━━━━━━━━\u001b[0m\u001b[37m\u001b[0m \u001b[1m181s\u001b[0m 115ms/step - loss: 1.6913\n",
            "Epoch 9/20\n",
            "\u001b[1m1573/1574\u001b[0m \u001b[32m━━━━━━━━━━━━━━━━━━━\u001b[0m\u001b[37m━\u001b[0m \u001b[1m0s\u001b[0m 100ms/step - loss: 1.6849\n",
            " mean perplexity: 4.754571302186865 \n",
            "\n",
            "Saved new model!\n",
            "\u001b[1m1574/1574\u001b[0m \u001b[32m━━━━━━━━━━━━━━━━━━━━\u001b[0m\u001b[37m\u001b[0m \u001b[1m180s\u001b[0m 115ms/step - loss: 1.6849\n",
            "Epoch 10/20\n",
            "\u001b[1m1573/1574\u001b[0m \u001b[32m━━━━━━━━━━━━━━━━━━━\u001b[0m\u001b[37m━\u001b[0m \u001b[1m0s\u001b[0m 93ms/step - loss: 1.6795\n",
            " mean perplexity: 4.784268874411339 \n",
            "\n",
            "\u001b[1m1574/1574\u001b[0m \u001b[32m━━━━━━━━━━━━━━━━━━━━\u001b[0m\u001b[37m\u001b[0m \u001b[1m170s\u001b[0m 108ms/step - loss: 1.6795\n",
            "Epoch 11/20\n",
            "\u001b[1m1573/1574\u001b[0m \u001b[32m━━━━━━━━━━━━━━━━━━━\u001b[0m\u001b[37m━\u001b[0m \u001b[1m0s\u001b[0m 96ms/step - loss: 1.6753\n",
            " mean perplexity: 4.726774746563644 \n",
            "\n",
            "Saved new model!\n",
            "\u001b[1m1574/1574\u001b[0m \u001b[32m━━━━━━━━━━━━━━━━━━━━\u001b[0m\u001b[37m\u001b[0m \u001b[1m177s\u001b[0m 112ms/step - loss: 1.6753\n",
            "Epoch 12/20\n",
            "\u001b[1m1573/1574\u001b[0m \u001b[32m━━━━━━━━━━━━━━━━━━━\u001b[0m\u001b[37m━\u001b[0m \u001b[1m0s\u001b[0m 94ms/step - loss: 1.6721\n",
            " mean perplexity: 4.701702772272258 \n",
            "\n",
            "Saved new model!\n",
            "\u001b[1m1574/1574\u001b[0m \u001b[32m━━━━━━━━━━━━━━━━━━━━\u001b[0m\u001b[37m\u001b[0m \u001b[1m172s\u001b[0m 109ms/step - loss: 1.6721\n",
            "Epoch 13/20\n",
            "\u001b[1m1574/1574\u001b[0m \u001b[32m━━━━━━━━━━━━━━━━━━━━\u001b[0m\u001b[37m\u001b[0m \u001b[1m0s\u001b[0m 94ms/step - loss: 1.6689\n",
            " mean perplexity: 4.707923069379682 \n",
            "\n",
            "\u001b[1m1574/1574\u001b[0m \u001b[32m━━━━━━━━━━━━━━━━━━━━\u001b[0m\u001b[37m\u001b[0m \u001b[1m170s\u001b[0m 108ms/step - loss: 1.6689\n",
            "Epoch 14/20\n",
            "\u001b[1m1574/1574\u001b[0m \u001b[32m━━━━━━━━━━━━━━━━━━━━\u001b[0m\u001b[37m\u001b[0m \u001b[1m0s\u001b[0m 94ms/step - loss: 1.6659\n",
            " mean perplexity: 4.716271637332152 \n",
            "\n",
            "\u001b[1m1574/1574\u001b[0m \u001b[32m━━━━━━━━━━━━━━━━━━━━\u001b[0m\u001b[37m\u001b[0m \u001b[1m170s\u001b[0m 108ms/step - loss: 1.6659\n",
            "Epoch 15/20\n",
            "\u001b[1m1573/1574\u001b[0m \u001b[32m━━━━━━━━━━━━━━━━━━━\u001b[0m\u001b[37m━\u001b[0m \u001b[1m0s\u001b[0m 90ms/step - loss: 1.6633\n",
            " mean perplexity: 4.703218084229428 \n",
            "\n",
            "\u001b[1m1574/1574\u001b[0m \u001b[32m━━━━━━━━━━━━━━━━━━━━\u001b[0m\u001b[37m\u001b[0m \u001b[1m162s\u001b[0m 103ms/step - loss: 1.6633\n",
            "Epoch 16/20\n",
            "\u001b[1m1573/1574\u001b[0m \u001b[32m━━━━━━━━━━━━━━━━━━━\u001b[0m\u001b[37m━\u001b[0m \u001b[1m0s\u001b[0m 94ms/step - loss: 1.6611\n",
            " mean perplexity: 4.7267428073695115 \n",
            "\n",
            "\u001b[1m1574/1574\u001b[0m \u001b[32m━━━━━━━━━━━━━━━━━━━━\u001b[0m\u001b[37m\u001b[0m \u001b[1m175s\u001b[0m 111ms/step - loss: 1.6611\n",
            "Epoch 17/20\n",
            "\u001b[1m1573/1574\u001b[0m \u001b[32m━━━━━━━━━━━━━━━━━━━\u001b[0m\u001b[37m━\u001b[0m \u001b[1m0s\u001b[0m 99ms/step - loss: 1.6595\n",
            " mean perplexity: 4.7672623411359165 \n",
            "\n",
            "Stopping training...\n",
            "\u001b[1m1574/1574\u001b[0m \u001b[32m━━━━━━━━━━━━━━━━━━━━\u001b[0m\u001b[37m\u001b[0m \u001b[1m181s\u001b[0m 115ms/step - loss: 1.6595\n"
          ]
        }
      ],
      "source": [
        "# fiteamos, nótese el agregado del callback con su inicialización. El batch_size lo podemos seleccionar a mano\n",
        "# en general, lo mejor es escoger el batch más grande posible que minimice el tiempo de cada época.\n",
        "# En la variable `history_ppl` se guardarán los valores de perplejidad para cada época.\n",
        "history_ppl = []\n",
        "hist = model.fit(X, y, epochs=20, callbacks=[PplCallback(tokenized_sentences_val,history_ppl)], batch_size=256)"
      ]
    },
    {
      "cell_type": "code",
      "execution_count": 66,
      "metadata": {},
      "outputs": [
        {
          "name": "stderr",
          "output_type": "stream",
          "text": [
            "c:\\ProgramData\\anaconda3\\envs\\CUDA_env\\Lib\\site-packages\\seaborn\\_oldcore.py:1119: FutureWarning: use_inf_as_na option is deprecated and will be removed in a future version. Convert inf values to NaN before operating instead.\n",
            "  with pd.option_context('mode.use_inf_as_na', True):\n",
            "c:\\ProgramData\\anaconda3\\envs\\CUDA_env\\Lib\\site-packages\\seaborn\\_oldcore.py:1119: FutureWarning: use_inf_as_na option is deprecated and will be removed in a future version. Convert inf values to NaN before operating instead.\n",
            "  with pd.option_context('mode.use_inf_as_na', True):\n"
          ]
        },
        {
          "data": {
            "image/png": "[encoded data removed]",
            "text/plain": [
              "<Figure size 640x480 with 1 Axes>"
            ]
          },
          "metadata": {},
          "output_type": "display_data"
        }
      ],
      "source": [
        "import matplotlib.pyplot as plt\n",
        "import seaborn as sns\n",
        "\n",
        "# Entrenamiento\n",
        "epoch_count = range(1, len(history_ppl) + 1)\n",
        "sns.lineplot(x=epoch_count,  y=history_ppl)\n",
        "plt.show()"
      ]
    },
    {
      "cell_type": "code",
      "execution_count": 68,
      "metadata": {},
      "outputs": [],
      "source": [
        "model = keras.models.load_model('my_model.keras')"
      ]
    },
    {
      "cell_type": "markdown",
      "metadata": {},
      "source": [
        "\n",
        "### Predicción del próximo caracter"
      ]
    },
    {
      "cell_type": "code",
      "execution_count": 70,
      "metadata": {},
      "outputs": [],
      "source": [
        "# Se puede usar gradio para probar el modelo\n",
        "# Gradio es una herramienta muy útil para crear interfaces para ensayar modelos\n",
        "# https://gradio.app/\n",
        "\n",
        "!pip install -q gradio"
      ]
    },
    {
      "cell_type": "code",
      "execution_count": 38,
      "metadata": {},
      "outputs": [
        {
          "name": "stderr",
          "output_type": "stream",
          "text": [
            "C:\\Users\\Zeus\\AppData\\Roaming\\Python\\Python310\\site-packages\\tqdm\\auto.py:21: TqdmWarning: IProgress not found. Please update jupyter and ipywidgets. See https://ipywidgets.readthedocs.io/en/stable/user_install.html\n",
            "  from .autonotebook import tqdm as notebook_tqdm\n"
          ]
        },
        {
          "name": "stdout",
          "output_type": "stream",
          "text": [
            "Running on local URL:  http://127.0.0.1:7860\n",
            "\n",
            "To create a public link, set `share=True` in `launch()`.\n"
          ]
        },
        {
          "data": {
            "text/html": [
              "<div><iframe src=\"http://127.0.0.1:7860/\" width=\"100%\" height=\"500\" allow=\"autoplay; camera; microphone; clipboard-read; clipboard-write;\" frameborder=\"0\" allowfullscreen></iframe></div>"
            ],
            "text/plain": [
              "<IPython.core.display.HTML object>"
            ]
          },
          "metadata": {},
          "output_type": "display_data"
        },
        {
          "name": "stdout",
          "output_type": "stream",
          "text": [
            "Keyboard interruption in main thread... closing server.\n"
          ]
        },
        {
          "data": {
            "text/plain": []
          },
          "execution_count": 38,
          "metadata": {},
          "output_type": "execute_result"
        }
      ],
      "source": [
        "import gradio as gr\n",
        "\n",
        "def model_response(human_text):\n",
        "\n",
        "    # Encodeamos\n",
        "    encoded = [char2idx[ch] for ch in human_text.lower() ]\n",
        "    # Si tienen distinto largo\n",
        "    encoded = pad_sequences([encoded], maxlen=max_context_size, padding='pre')\n",
        "\n",
        "    # Predicción softmax\n",
        "    y_hat = np.argmax(model.predict(encoded)[0,-1,:])\n",
        "\n",
        "\n",
        "    # Debemos buscar en el vocabulario el caracter\n",
        "    # que corresopnde al indice (y_hat) predicho por le modelo\n",
        "    out_word = ''\n",
        "    out_word = idx2char[y_hat]\n",
        "\n",
        "    # Agrego la palabra a la frase predicha\n",
        "    return human_text + out_word\n",
        "\n",
        "iface = gr.Interface(\n",
        "    fn=model_response,\n",
        "    inputs=[\"textbox\"],\n",
        "    outputs=\"text\")\n",
        "\n",
        "iface.launch(debug=True)"
      ]
    },
    {
      "cell_type": "markdown",
      "metadata": {},
      "source": [
        "### Generación de secuencias"
      ]
    },
    {
      "cell_type": "code",
      "execution_count": 41,
      "metadata": {},
      "outputs": [],
      "source": [
        "def generate_seq(model, seed_text, max_length, n_words):\n",
        "    \"\"\"\n",
        "        Exec model sequence prediction\n",
        "\n",
        "        Args:\n",
        "            model (keras): modelo entrenado\n",
        "            seed_text (string): texto de entrada (input_seq)\n",
        "            max_length (int): máxima longitud de la sequencia de entrada\n",
        "            n_words (int): números de caracteres a agregar a la sequencia de entrada\n",
        "        returns:\n",
        "            output_text (string): sentencia con las \"n_words\" agregadas\n",
        "    \"\"\"\n",
        "    output_text = seed_text\n",
        "\t# generate a fixed number of words\n",
        "    for _ in range(n_words):\n",
        "\t\t# Encodeamos\n",
        "        encoded = [char2idx[ch] for ch in output_text.lower() ]\n",
        "\t\t# Si tienen distinto largo\n",
        "        encoded = pad_sequences([encoded], maxlen=max_length, padding='pre')\n",
        "\n",
        "\t\t# Predicción softmax\n",
        "        y_hat = np.argmax(model.predict(encoded,verbose=0)[0,-1,:])\n",
        "\t\t# Vamos concatenando las predicciones\n",
        "        out_word = ''\n",
        "\n",
        "        out_word = idx2char[y_hat]\n",
        "\n",
        "\t\t# Agrego las palabras a la frase predicha\n",
        "        output_text += out_word\n",
        "    return output_text"
      ]
    },
    {
      "cell_type": "code",
      "execution_count": 93,
      "metadata": {},
      "outputs": [
        {
          "data": {
            "text/plain": [
              "'Dorian gray se alegría de la mesa de'"
            ]
          },
          "execution_count": 93,
          "metadata": {},
          "output_type": "execute_result"
        }
      ],
      "source": [
        "input_text='Dorian'\n",
        "\n",
        "generate_seq(model, input_text, max_length=max_context_size, n_words=30)"
      ]
    },
    {
      "cell_type": "code",
      "execution_count": 73,
      "metadata": {},
      "outputs": [
        {
          "data": {
            "text/plain": [
              "'No es demasiado lo que es una mano de la mesa de la '"
            ]
          },
          "execution_count": 73,
          "metadata": {},
          "output_type": "execute_result"
        }
      ],
      "source": [
        "input_text='No es demasiado lo que'\n",
        "\n",
        "generate_seq(model, input_text, max_length=max_context_size, n_words=30)"
      ]
    },
    {
      "cell_type": "code",
      "execution_count": 90,
      "metadata": {},
      "outputs": [
        {
          "data": {
            "text/plain": [
              "'un pobre desgraciado tiene se había algo que es una mano'"
            ]
          },
          "execution_count": 90,
          "metadata": {},
          "output_type": "execute_result"
        }
      ],
      "source": [
        "input_text='un pobre desgraciado tiene'\n",
        "\n",
        "generate_seq(model, input_text, max_length=max_context_size, n_words=30)"
      ]
    },
    {
      "cell_type": "markdown",
      "metadata": {},
      "source": [
        "Se puede obervar que genera palabras que particularmente estan correctas, incluso agrupando palabras hacen mucho sentido y en otros casos se pierde un poco el contexto como el segundo y tercer ejemplo"
      ]
    },
    {
      "cell_type": "markdown",
      "metadata": {},
      "source": [
        "Beam search y muestreo aleatorio"
      ]
    },
    {
      "cell_type": "code",
      "execution_count": 94,
      "metadata": {},
      "outputs": [],
      "source": [
        "def encode(text,max_length=max_context_size):\n",
        "\n",
        "    encoded = [char2idx[ch] for ch in text]\n",
        "    encoded = pad_sequences([encoded], maxlen=max_length, padding='pre')\n",
        "\n",
        "    return encoded\n",
        "\n",
        "def decode(seq):\n",
        "    return ''.join([idx2char[ch] for ch in seq])"
      ]
    },
    {
      "cell_type": "code",
      "execution_count": 47,
      "metadata": {},
      "outputs": [],
      "source": [
        "from scipy.special import softmax\n",
        "\n",
        "def select_candidates(pred,num_beams,vocab_size,history_probs,history_tokens,temp,mode):\n",
        "\n",
        "  pred_large = []\n",
        "\n",
        "  for idx,pp in enumerate(pred):\n",
        "    pred_large.extend(np.log(pp+1E-10)+history_probs[idx])\n",
        "\n",
        "  pred_large = np.array(pred_large)\n",
        "\n",
        "  if mode == 'det':\n",
        "    idx_select = np.argsort(pred_large)[::-1][:num_beams] # beam search determinista\n",
        "  elif mode == 'sto':\n",
        "    idx_select = np.random.choice(np.arange(pred_large.shape[0]), num_beams, p=softmax(pred_large/temp)) # beam search con muestreo aleatorio\n",
        "  else:\n",
        "    raise ValueError(f'Wrong selection mode. {mode} was given. det and sto are supported.')\n",
        "\n",
        "  new_history_tokens = np.concatenate((np.array(history_tokens)[idx_select//vocab_size],\n",
        "                        np.array([idx_select%vocab_size]).T),\n",
        "                      axis=1)\n",
        "\n",
        "  return pred_large[idx_select.astype(int)], new_history_tokens.astype(int)\n",
        "\n",
        "\n",
        "def beam_search(model,num_beams,num_words,input,temp=1,mode='det'):\n",
        "\n",
        "    encoded = encode(input)\n",
        "\n",
        "  \n",
        "    y_hat = model.predict(encoded,verbose=0)[0,-1,:]\n",
        "\n",
        "    vocab_size = y_hat.shape[0]\n",
        "\n",
        "    history_probs = [0]*num_beams\n",
        "    history_tokens = [encoded[0]]*num_beams\n",
        "\n",
        "    history_probs, history_tokens = select_candidates([y_hat],\n",
        "                                        num_beams,\n",
        "                                        vocab_size,\n",
        "                                        history_probs,\n",
        "                                        history_tokens,\n",
        "                                        temp,\n",
        "                                        mode)\n",
        "\n",
        "    for i in range(num_words-1):\n",
        "\n",
        "      preds = []\n",
        "\n",
        "      for hist in history_tokens:\n",
        "\n",
        "        input_update = np.array([hist[i+1:]]).copy()\n",
        "\n",
        "        y_hat = model.predict(input_update,verbose=0)[0,-1,:]\n",
        "\n",
        "        preds.append(y_hat)\n",
        "\n",
        "      history_probs, history_tokens = select_candidates(preds,\n",
        "                                                        num_beams,\n",
        "                                                        vocab_size,\n",
        "                                                        history_probs,\n",
        "                                                        history_tokens,\n",
        "                                                        temp,\n",
        "                                                        mode)\n",
        "\n",
        "    return history_tokens"
      ]
    },
    {
      "cell_type": "code",
      "execution_count": 97,
      "metadata": {},
      "outputs": [],
      "source": [
        "# predicción con beam search\n",
        "salidas = beam_search(model,num_beams=10,num_words=20,input=\"el intenso perfume\")"
      ]
    },
    {
      "cell_type": "code",
      "execution_count": 98,
      "metadata": {},
      "outputs": [
        {
          "data": {
            "text/plain": [
              "array([ 0,  0,  0,  0,  0,  0,  0,  0,  0,  0,  0,  0,  0,  0,  0,  0,  0,\n",
              "        0,  0,  0,  0,  0,  0,  0,  0,  0,  0,  0,  0,  0,  0,  0,  0,  0,\n",
              "        0,  0,  0,  0,  0,  0,  0,  0,  0,  0,  0,  0,  0,  0,  0,  0,  0,\n",
              "        0,  0,  0,  0,  0,  0,  0,  0,  0,  0,  0,  0,  0,  0,  0,  0,  0,\n",
              "        0,  0,  0,  0,  0,  0,  0,  0,  0,  0,  0,  0,  0,  0, 11, 13, 34,\n",
              "        7, 32, 19, 11, 32,  2, 23, 34, 15, 11,  8, 24, 27,  6, 11, 32, 19,\n",
              "       11, 34, 13, 23, 34, 33, 27, 11, 34,  2, 11, 34,  3, 18, 10, 28, 18,\n",
              "       34])"
            ]
          },
          "execution_count": 98,
          "metadata": {},
          "output_type": "execute_result"
        }
      ],
      "source": [
        "salidas[0]"
      ]
    },
    {
      "cell_type": "code",
      "execution_count": 99,
      "metadata": {},
      "outputs": [
        {
          "data": {
            "text/plain": [
              "'wwwwwwwwwwwwwwwwwwwwwwwwwwwwwwwwwwwwwwwwwwwwwwwwwwwwwwwwwwwwwwwwwwwwwwwwwwwwwwwwwwel intenso perfumente lo que se había '"
            ]
          },
          "execution_count": 99,
          "metadata": {},
          "output_type": "execute_result"
        }
      ],
      "source": [
        "decode(salidas[0])"
      ]
    },
    {
      "cell_type": "code",
      "execution_count": 101,
      "metadata": {},
      "outputs": [],
      "source": [
        "salidas = beam_search(model,num_beams=10,num_words=20,input=\"el pintor se mordio\")"
      ]
    },
    {
      "cell_type": "code",
      "execution_count": 102,
      "metadata": {},
      "outputs": [
        {
          "data": {
            "text/plain": [
              "array([ 0,  0,  0,  0,  0,  0,  0,  0,  0,  0,  0,  0,  0,  0,  0,  0,  0,\n",
              "        0,  0,  0,  0,  0,  0,  0,  0,  0,  0,  0,  0,  0,  0,  0,  0,  0,\n",
              "        0,  0,  0,  0,  0,  0,  0,  0,  0,  0,  0,  0,  0,  0,  0,  0,  0,\n",
              "        0,  0,  0,  0,  0,  0,  0,  0,  0,  0,  0,  0,  0,  0,  0,  0,  0,\n",
              "        0,  0,  0,  0,  0,  0,  0,  0,  0,  0,  0,  0,  0, 11, 13, 34, 15,\n",
              "        7, 32, 19, 23,  8, 34,  2, 11, 34,  6, 23,  8,  4,  7, 23, 34, 13,\n",
              "       23, 34, 33, 27, 11, 34,  3, 18, 10, 28, 18, 34, 11, 32, 34, 11, 13,\n",
              "       34])"
            ]
          },
          "execution_count": 102,
          "metadata": {},
          "output_type": "execute_result"
        }
      ],
      "source": [
        "salidas[0]"
      ]
    },
    {
      "cell_type": "code",
      "execution_count": 103,
      "metadata": {},
      "outputs": [
        {
          "data": {
            "text/plain": [
              "'wwwwwwwwwwwwwwwwwwwwwwwwwwwwwwwwwwwwwwwwwwwwwwwwwwwwwwwwwwwwwwwwwwwwwwwwwwwwwwwwwel pintor se mordio lo que había en el '"
            ]
          },
          "execution_count": 103,
          "metadata": {},
          "output_type": "execute_result"
        }
      ],
      "source": [
        "decode(salidas[0])"
      ]
    },
    {
      "cell_type": "code",
      "execution_count": 104,
      "metadata": {},
      "outputs": [],
      "source": [
        "salidas = beam_search(model,num_beams=10,num_words=20,input=\"la horrible noche\")"
      ]
    },
    {
      "cell_type": "code",
      "execution_count": 105,
      "metadata": {},
      "outputs": [
        {
          "data": {
            "text/plain": [
              "array([ 0,  0,  0,  0,  0,  0,  0,  0,  0,  0,  0,  0,  0,  0,  0,  0,  0,\n",
              "        0,  0,  0,  0,  0,  0,  0,  0,  0,  0,  0,  0,  0,  0,  0,  0,  0,\n",
              "        0,  0,  0,  0,  0,  0,  0,  0,  0,  0,  0,  0,  0,  0,  0,  0,  0,\n",
              "        0,  0,  0,  0,  0,  0,  0,  0,  0,  0,  0,  0,  0,  0,  0,  0,  0,\n",
              "        0,  0,  0,  0,  0,  0,  0,  0,  0,  0,  0,  0,  0,  0,  0, 13, 18,\n",
              "       34,  3, 23,  8,  8,  7, 10, 13, 11, 34, 32, 23, 21,  3, 11, 34, 13,\n",
              "       23, 34, 33, 27, 11, 34,  3, 18, 10, 28, 18, 34, 11, 32, 34, 11, 13,\n",
              "       34])"
            ]
          },
          "execution_count": 105,
          "metadata": {},
          "output_type": "execute_result"
        }
      ],
      "source": [
        "salidas[0]"
      ]
    },
    {
      "cell_type": "code",
      "execution_count": 106,
      "metadata": {},
      "outputs": [
        {
          "data": {
            "text/plain": [
              "'wwwwwwwwwwwwwwwwwwwwwwwwwwwwwwwwwwwwwwwwwwwwwwwwwwwwwwwwwwwwwwwwwwwwwwwwwwwwwwwwwwwla horrible noche lo que había en el '"
            ]
          },
          "execution_count": 106,
          "metadata": {},
          "output_type": "execute_result"
        }
      ],
      "source": [
        "decode(salidas[0])"
      ]
    },
    {
      "cell_type": "code",
      "execution_count": 107,
      "metadata": {},
      "outputs": [],
      "source": [
        "salidas = beam_search(model,num_beams=10,num_words=20,input=\"el frescor del aire\")"
      ]
    },
    {
      "cell_type": "code",
      "execution_count": 108,
      "metadata": {},
      "outputs": [
        {
          "data": {
            "text/plain": [
              "array([ 0,  0,  0,  0,  0,  0,  0,  0,  0,  0,  0,  0,  0,  0,  0,  0,  0,\n",
              "        0,  0,  0,  0,  0,  0,  0,  0,  0,  0,  0,  0,  0,  0,  0,  0,  0,\n",
              "        0,  0,  0,  0,  0,  0,  0,  0,  0,  0,  0,  0,  0,  0,  0,  0,  0,\n",
              "        0,  0,  0,  0,  0,  0,  0,  0,  0,  0,  0,  0,  0,  0,  0,  0,  0,\n",
              "        0,  0,  0,  0,  0,  0,  0,  0,  0,  0,  0,  0,  0, 11, 13, 34, 24,\n",
              "        8, 11,  2, 21, 23,  8, 34,  4, 11, 13, 34, 18,  7,  8, 11, 34,  4,\n",
              "       11, 34, 13, 23,  2, 34, 23,  5, 23,  2, 34,  4, 11, 34, 27, 32, 18,\n",
              "       34])"
            ]
          },
          "execution_count": 108,
          "metadata": {},
          "output_type": "execute_result"
        }
      ],
      "source": [
        "salidas[0]"
      ]
    },
    {
      "cell_type": "code",
      "execution_count": 109,
      "metadata": {},
      "outputs": [
        {
          "data": {
            "text/plain": [
              "'wwwwwwwwwwwwwwwwwwwwwwwwwwwwwwwwwwwwwwwwwwwwwwwwwwwwwwwwwwwwwwwwwwwwwwwwwwwwwwwwwel frescor del aire de los ojos de una '"
            ]
          },
          "execution_count": 109,
          "metadata": {},
          "output_type": "execute_result"
        }
      ],
      "source": [
        "decode(salidas[0])"
      ]
    },
    {
      "cell_type": "markdown",
      "metadata": {},
      "source": [
        "Modelo LSTM"
      ]
    },
    {
      "cell_type": "code",
      "execution_count": 110,
      "metadata": {},
      "outputs": [
        {
          "name": "stderr",
          "output_type": "stream",
          "text": [
            "C:\\Users\\Zeus\\AppData\\Roaming\\Python\\Python311\\site-packages\\keras\\src\\layers\\core\\wrapper.py:27: UserWarning: Do not pass an `input_shape`/`input_dim` argument to a layer. When using Sequential models, prefer using an `Input(shape)` object as the first layer in the model instead.\n",
            "  super().__init__(**kwargs)\n"
          ]
        },
        {
          "data": {
            "text/html": [
              "<pre style=\"white-space:pre;overflow-x:auto;line-height:normal;font-family:Menlo,'DejaVu Sans Mono',consolas,'Courier New',monospace\"><span style=\"font-weight: bold\">Model: \"sequential_2\"</span>\n",
              "</pre>\n"
            ],
            "text/plain": [
              "\u001b[1mModel: \"sequential_2\"\u001b[0m\n"
            ]
          },
          "metadata": {},
          "output_type": "display_data"
        },
        {
          "data": {
            "text/html": [
              "<pre style=\"white-space:pre;overflow-x:auto;line-height:normal;font-family:Menlo,'DejaVu Sans Mono',consolas,'Courier New',monospace\">┏━━━━━━━━━━━━━━━━━━━━━━━━━━━━━━━━━┳━━━━━━━━━━━━━━━━━━━━━━━━┳━━━━━━━━━━━━━━━┓\n",
              "┃<span style=\"font-weight: bold\"> Layer (type)                    </span>┃<span style=\"font-weight: bold\"> Output Shape           </span>┃<span style=\"font-weight: bold\">       Param # </span>┃\n",
              "┡━━━━━━━━━━━━━━━━━━━━━━━━━━━━━━━━━╇━━━━━━━━━━━━━━━━━━━━━━━━╇━━━━━━━━━━━━━━━┩\n",
              "│ time_distributed_2              │ (<span style=\"color: #00d7ff; text-decoration-color: #00d7ff\">None</span>, <span style=\"color: #00d7ff; text-decoration-color: #00d7ff\">None</span>, <span style=\"color: #00af00; text-decoration-color: #00af00\">35</span>)       │             <span style=\"color: #00af00; text-decoration-color: #00af00\">0</span> │\n",
              "│ (<span style=\"color: #0087ff; text-decoration-color: #0087ff\">TimeDistributed</span>)               │                        │               │\n",
              "├─────────────────────────────────┼────────────────────────┼───────────────┤\n",
              "│ lstm (<span style=\"color: #0087ff; text-decoration-color: #0087ff\">LSTM</span>)                     │ (<span style=\"color: #00d7ff; text-decoration-color: #00d7ff\">None</span>, <span style=\"color: #00d7ff; text-decoration-color: #00d7ff\">None</span>, <span style=\"color: #00af00; text-decoration-color: #00af00\">200</span>)      │       <span style=\"color: #00af00; text-decoration-color: #00af00\">188,800</span> │\n",
              "├─────────────────────────────────┼────────────────────────┼───────────────┤\n",
              "│ dense_2 (<span style=\"color: #0087ff; text-decoration-color: #0087ff\">Dense</span>)                 │ (<span style=\"color: #00d7ff; text-decoration-color: #00d7ff\">None</span>, <span style=\"color: #00d7ff; text-decoration-color: #00d7ff\">None</span>, <span style=\"color: #00af00; text-decoration-color: #00af00\">35</span>)       │         <span style=\"color: #00af00; text-decoration-color: #00af00\">7,035</span> │\n",
              "└─────────────────────────────────┴────────────────────────┴───────────────┘\n",
              "</pre>\n"
            ],
            "text/plain": [
              "┏━━━━━━━━━━━━━━━━━━━━━━━━━━━━━━━━━┳━━━━━━━━━━━━━━━━━━━━━━━━┳━━━━━━━━━━━━━━━┓\n",
              "┃\u001b[1m \u001b[0m\u001b[1mLayer (type)                   \u001b[0m\u001b[1m \u001b[0m┃\u001b[1m \u001b[0m\u001b[1mOutput Shape          \u001b[0m\u001b[1m \u001b[0m┃\u001b[1m \u001b[0m\u001b[1m      Param #\u001b[0m\u001b[1m \u001b[0m┃\n",
              "┡━━━━━━━━━━━━━━━━━━━━━━━━━━━━━━━━━╇━━━━━━━━━━━━━━━━━━━━━━━━╇━━━━━━━━━━━━━━━┩\n",
              "│ time_distributed_2              │ (\u001b[38;5;45mNone\u001b[0m, \u001b[38;5;45mNone\u001b[0m, \u001b[38;5;34m35\u001b[0m)       │             \u001b[38;5;34m0\u001b[0m │\n",
              "│ (\u001b[38;5;33mTimeDistributed\u001b[0m)               │                        │               │\n",
              "├─────────────────────────────────┼────────────────────────┼───────────────┤\n",
              "│ lstm (\u001b[38;5;33mLSTM\u001b[0m)                     │ (\u001b[38;5;45mNone\u001b[0m, \u001b[38;5;45mNone\u001b[0m, \u001b[38;5;34m200\u001b[0m)      │       \u001b[38;5;34m188,800\u001b[0m │\n",
              "├─────────────────────────────────┼────────────────────────┼───────────────┤\n",
              "│ dense_2 (\u001b[38;5;33mDense\u001b[0m)                 │ (\u001b[38;5;45mNone\u001b[0m, \u001b[38;5;45mNone\u001b[0m, \u001b[38;5;34m35\u001b[0m)       │         \u001b[38;5;34m7,035\u001b[0m │\n",
              "└─────────────────────────────────┴────────────────────────┴───────────────┘\n"
            ]
          },
          "metadata": {},
          "output_type": "display_data"
        },
        {
          "data": {
            "text/html": [
              "<pre style=\"white-space:pre;overflow-x:auto;line-height:normal;font-family:Menlo,'DejaVu Sans Mono',consolas,'Courier New',monospace\"><span style=\"font-weight: bold\"> Total params: </span><span style=\"color: #00af00; text-decoration-color: #00af00\">195,835</span> (764.98 KB)\n",
              "</pre>\n"
            ],
            "text/plain": [
              "\u001b[1m Total params: \u001b[0m\u001b[38;5;34m195,835\u001b[0m (764.98 KB)\n"
            ]
          },
          "metadata": {},
          "output_type": "display_data"
        },
        {
          "data": {
            "text/html": [
              "<pre style=\"white-space:pre;overflow-x:auto;line-height:normal;font-family:Menlo,'DejaVu Sans Mono',consolas,'Courier New',monospace\"><span style=\"font-weight: bold\"> Trainable params: </span><span style=\"color: #00af00; text-decoration-color: #00af00\">195,835</span> (764.98 KB)\n",
              "</pre>\n"
            ],
            "text/plain": [
              "\u001b[1m Trainable params: \u001b[0m\u001b[38;5;34m195,835\u001b[0m (764.98 KB)\n"
            ]
          },
          "metadata": {},
          "output_type": "display_data"
        },
        {
          "data": {
            "text/html": [
              "<pre style=\"white-space:pre;overflow-x:auto;line-height:normal;font-family:Menlo,'DejaVu Sans Mono',consolas,'Courier New',monospace\"><span style=\"font-weight: bold\"> Non-trainable params: </span><span style=\"color: #00af00; text-decoration-color: #00af00\">0</span> (0.00 B)\n",
              "</pre>\n"
            ],
            "text/plain": [
              "\u001b[1m Non-trainable params: \u001b[0m\u001b[38;5;34m0\u001b[0m (0.00 B)\n"
            ]
          },
          "metadata": {},
          "output_type": "display_data"
        }
      ],
      "source": [
        "# Definir el modelo\n",
        "from tensorflow.keras.optimizers import RMSprop\n",
        "model_lstm = Sequential()\n",
        "\n",
        "# Añadir capas\n",
        "model_lstm.add(TimeDistributed(CategoryEncoding(num_tokens=vocab_size, output_mode=\"one_hot\"), input_shape=(None, 1)))\n",
        "model_lstm.add(LSTM(200, return_sequences=True, dropout=0.1, recurrent_dropout=0.1))\n",
        "model_lstm.add(Dense(vocab_size, activation='softmax'))\n",
        "\n",
        "# Compilar el modelo con una learning rate específica\n",
        "optimizer = RMSprop(learning_rate=0.0001)  # Aquí puedes ajustar la learning rate según lo necesites\n",
        "model_lstm.compile(loss='sparse_categorical_crossentropy', optimizer=optimizer)\n",
        "\n",
        "# Compilar el modelo\n",
        "#model_lstm.compile(loss='sparse_categorical_crossentropy', optimizer='rmsprop')\n",
        "\n",
        "# Mostrar el resumen del modelo\n",
        "model_lstm.summary()"
      ]
    },
    {
      "cell_type": "markdown",
      "metadata": {},
      "source": [
        "Entrenamiento"
      ]
    },
    {
      "cell_type": "code",
      "execution_count": 126,
      "metadata": {},
      "outputs": [
        {
          "name": "stdout",
          "output_type": "stream",
          "text": [
            "Epoch 1/20\n",
            "\u001b[1m1574/1574\u001b[0m \u001b[32m━━━━━━━━━━━━━━━━━━━━\u001b[0m\u001b[37m\u001b[0m \u001b[1m0s\u001b[0m 263ms/step - loss: 1.9008\n",
            " mean perplexity: 5.989467553101445 \n",
            "\n",
            "Saved new model!\n",
            "\u001b[1m1574/1574\u001b[0m \u001b[32m━━━━━━━━━━━━━━━━━━━━\u001b[0m\u001b[37m\u001b[0m \u001b[1m482s\u001b[0m 306ms/step - loss: 1.9008\n",
            "Epoch 2/20\n",
            "\u001b[1m1574/1574\u001b[0m \u001b[32m━━━━━━━━━━━━━━━━━━━━\u001b[0m\u001b[37m\u001b[0m \u001b[1m0s\u001b[0m 311ms/step - loss: 1.8952\n",
            " mean perplexity: 5.938593419501447 \n",
            "\n",
            "Saved new model!\n",
            "\u001b[1m1574/1574\u001b[0m \u001b[32m━━━━━━━━━━━━━━━━━━━━\u001b[0m\u001b[37m\u001b[0m \u001b[1m562s\u001b[0m 357ms/step - loss: 1.8952\n",
            "Epoch 3/20\n",
            "\u001b[1m1574/1574\u001b[0m \u001b[32m━━━━━━━━━━━━━━━━━━━━\u001b[0m\u001b[37m\u001b[0m \u001b[1m0s\u001b[0m 312ms/step - loss: 1.8874\n",
            " mean perplexity: 5.910723155166846 \n",
            "\n",
            "Saved new model!\n",
            "\u001b[1m1574/1574\u001b[0m \u001b[32m━━━━━━━━━━━━━━━━━━━━\u001b[0m\u001b[37m\u001b[0m \u001b[1m562s\u001b[0m 357ms/step - loss: 1.8874\n",
            "Epoch 4/20\n",
            "\u001b[1m1574/1574\u001b[0m \u001b[32m━━━━━━━━━━━━━━━━━━━━\u001b[0m\u001b[37m\u001b[0m \u001b[1m0s\u001b[0m 294ms/step - loss: 1.8813\n",
            " mean perplexity: 5.882962394670156 \n",
            "\n",
            "Saved new model!\n",
            "\u001b[1m1574/1574\u001b[0m \u001b[32m━━━━━━━━━━━━━━━━━━━━\u001b[0m\u001b[37m\u001b[0m \u001b[1m532s\u001b[0m 338ms/step - loss: 1.8813\n",
            "Epoch 5/20\n",
            "\u001b[1m1574/1574\u001b[0m \u001b[32m━━━━━━━━━━━━━━━━━━━━\u001b[0m\u001b[37m\u001b[0m \u001b[1m0s\u001b[0m 304ms/step - loss: 1.8756\n",
            " mean perplexity: 5.85397756899752 \n",
            "\n",
            "Saved new model!\n",
            "\u001b[1m1574/1574\u001b[0m \u001b[32m━━━━━━━━━━━━━━━━━━━━\u001b[0m\u001b[37m\u001b[0m \u001b[1m548s\u001b[0m 348ms/step - loss: 1.8756\n",
            "Epoch 6/20\n",
            "\u001b[1m1574/1574\u001b[0m \u001b[32m━━━━━━━━━━━━━━━━━━━━\u001b[0m\u001b[37m\u001b[0m \u001b[1m0s\u001b[0m 313ms/step - loss: 1.8703\n",
            " mean perplexity: 5.8260085145876275 \n",
            "\n",
            "Saved new model!\n",
            "\u001b[1m1574/1574\u001b[0m \u001b[32m━━━━━━━━━━━━━━━━━━━━\u001b[0m\u001b[37m\u001b[0m \u001b[1m565s\u001b[0m 359ms/step - loss: 1.8703\n",
            "Epoch 7/20\n",
            "\u001b[1m1574/1574\u001b[0m \u001b[32m━━━━━━━━━━━━━━━━━━━━\u001b[0m\u001b[37m\u001b[0m \u001b[1m0s\u001b[0m 310ms/step - loss: 1.8644\n",
            " mean perplexity: 5.814748700939054 \n",
            "\n",
            "Saved new model!\n",
            "\u001b[1m1574/1574\u001b[0m \u001b[32m━━━━━━━━━━━━━━━━━━━━\u001b[0m\u001b[37m\u001b[0m \u001b[1m559s\u001b[0m 355ms/step - loss: 1.8644\n",
            "Epoch 8/20\n",
            "\u001b[1m1574/1574\u001b[0m \u001b[32m━━━━━━━━━━━━━━━━━━━━\u001b[0m\u001b[37m\u001b[0m \u001b[1m0s\u001b[0m 298ms/step - loss: 1.8589\n",
            " mean perplexity: 5.7819666332361574 \n",
            "\n",
            "Saved new model!\n",
            "\u001b[1m1574/1574\u001b[0m \u001b[32m━━━━━━━━━━━━━━━━━━━━\u001b[0m\u001b[37m\u001b[0m \u001b[1m540s\u001b[0m 343ms/step - loss: 1.8589\n",
            "Epoch 9/20\n",
            "\u001b[1m1574/1574\u001b[0m \u001b[32m━━━━━━━━━━━━━━━━━━━━\u001b[0m\u001b[37m\u001b[0m \u001b[1m0s\u001b[0m 288ms/step - loss: 1.8532\n",
            " mean perplexity: 5.755290362159974 \n",
            "\n",
            "Saved new model!\n",
            "\u001b[1m1574/1574\u001b[0m \u001b[32m━━━━━━━━━━━━━━━━━━━━\u001b[0m\u001b[37m\u001b[0m \u001b[1m523s\u001b[0m 333ms/step - loss: 1.8532\n",
            "Epoch 10/20\n",
            "\u001b[1m1574/1574\u001b[0m \u001b[32m━━━━━━━━━━━━━━━━━━━━\u001b[0m\u001b[37m\u001b[0m \u001b[1m0s\u001b[0m 290ms/step - loss: 1.8474\n",
            " mean perplexity: 5.727830942796681 \n",
            "\n",
            "Saved new model!\n",
            "\u001b[1m1574/1574\u001b[0m \u001b[32m━━━━━━━━━━━━━━━━━━━━\u001b[0m\u001b[37m\u001b[0m \u001b[1m525s\u001b[0m 334ms/step - loss: 1.8474\n",
            "Epoch 11/20\n",
            "\u001b[1m1574/1574\u001b[0m \u001b[32m━━━━━━━━━━━━━━━━━━━━\u001b[0m\u001b[37m\u001b[0m \u001b[1m0s\u001b[0m 321ms/step - loss: 1.8413\n",
            " mean perplexity: 5.770941887060072 \n",
            "\n",
            "\u001b[1m1574/1574\u001b[0m \u001b[32m━━━━━━━━━━━━━━━━━━━━\u001b[0m\u001b[37m\u001b[0m \u001b[1m590s\u001b[0m 375ms/step - loss: 1.8413\n",
            "Epoch 12/20\n",
            "\u001b[1m1574/1574\u001b[0m \u001b[32m━━━━━━━━━━━━━━━━━━━━\u001b[0m\u001b[37m\u001b[0m \u001b[1m0s\u001b[0m 338ms/step - loss: 1.8360\n",
            " mean perplexity: 5.849337534855649 \n",
            "\n",
            "\u001b[1m1574/1574\u001b[0m \u001b[32m━━━━━━━━━━━━━━━━━━━━\u001b[0m\u001b[37m\u001b[0m \u001b[1m604s\u001b[0m 383ms/step - loss: 1.8360\n",
            "Epoch 13/20\n",
            "\u001b[1m1574/1574\u001b[0m \u001b[32m━━━━━━━━━━━━━━━━━━━━\u001b[0m\u001b[37m\u001b[0m \u001b[1m0s\u001b[0m 289ms/step - loss: 1.8304\n",
            " mean perplexity: 5.8426129935054805 \n",
            "\n",
            "\u001b[1m1574/1574\u001b[0m \u001b[32m━━━━━━━━━━━━━━━━━━━━\u001b[0m\u001b[37m\u001b[0m \u001b[1m523s\u001b[0m 332ms/step - loss: 1.8304\n",
            "Epoch 14/20\n",
            "\u001b[1m1574/1574\u001b[0m \u001b[32m━━━━━━━━━━━━━━━━━━━━\u001b[0m\u001b[37m\u001b[0m \u001b[1m0s\u001b[0m 284ms/step - loss: 1.8253\n",
            " mean perplexity: 5.857730410864291 \n",
            "\n",
            "\u001b[1m1574/1574\u001b[0m \u001b[32m━━━━━━━━━━━━━━━━━━━━\u001b[0m\u001b[37m\u001b[0m \u001b[1m515s\u001b[0m 327ms/step - loss: 1.8253\n",
            "Epoch 15/20\n",
            "\u001b[1m1574/1574\u001b[0m \u001b[32m━━━━━━━━━━━━━━━━━━━━\u001b[0m\u001b[37m\u001b[0m \u001b[1m0s\u001b[0m 286ms/step - loss: 1.8201\n",
            " mean perplexity: 5.841529078259371 \n",
            "\n",
            "Stopping training...\n",
            "\u001b[1m1574/1574\u001b[0m \u001b[32m━━━━━━━━━━━━━━━━━━━━\u001b[0m\u001b[37m\u001b[0m \u001b[1m518s\u001b[0m 329ms/step - loss: 1.8201\n"
          ]
        }
      ],
      "source": [
        "history_ppl = []\n",
        "hist = model_lstm.fit(X, y, epochs=20, callbacks=[PplCallback(tokenized_sentences_val,history_ppl)], batch_size=256)"
      ]
    },
    {
      "cell_type": "code",
      "execution_count": 127,
      "metadata": {},
      "outputs": [
        {
          "name": "stderr",
          "output_type": "stream",
          "text": [
            "c:\\ProgramData\\anaconda3\\envs\\CUDA_env\\Lib\\site-packages\\seaborn\\_oldcore.py:1119: FutureWarning: use_inf_as_na option is deprecated and will be removed in a future version. Convert inf values to NaN before operating instead.\n",
            "  with pd.option_context('mode.use_inf_as_na', True):\n",
            "c:\\ProgramData\\anaconda3\\envs\\CUDA_env\\Lib\\site-packages\\seaborn\\_oldcore.py:1119: FutureWarning: use_inf_as_na option is deprecated and will be removed in a future version. Convert inf values to NaN before operating instead.\n",
            "  with pd.option_context('mode.use_inf_as_na', True):\n"
          ]
        },
        {
          "data": {
            "image/png": "[encoded data removed]",
            "text/plain": [
              "<Figure size 640x480 with 1 Axes>"
            ]
          },
          "metadata": {},
          "output_type": "display_data"
        }
      ],
      "source": [
        "# Entrenamiento\n",
        "epoch_count = range(1, len(history_ppl) + 1)\n",
        "sns.lineplot(x=epoch_count,  y=history_ppl)\n",
        "plt.show()"
      ]
    },
    {
      "cell_type": "code",
      "execution_count": 128,
      "metadata": {},
      "outputs": [],
      "source": [
        "model = keras.models.load_model('my_model_LSTM_CHAR.keras')"
      ]
    },
    {
      "cell_type": "code",
      "execution_count": 129,
      "metadata": {},
      "outputs": [
        {
          "name": "stdout",
          "output_type": "stream",
          "text": [
            "Running on local URL:  http://127.0.0.1:7860\n",
            "\n",
            "To create a public link, set `share=True` in `launch()`.\n"
          ]
        },
        {
          "data": {
            "text/html": [
              "<div><iframe src=\"http://127.0.0.1:7860/\" width=\"100%\" height=\"500\" allow=\"autoplay; camera; microphone; clipboard-read; clipboard-write;\" frameborder=\"0\" allowfullscreen></iframe></div>"
            ],
            "text/plain": [
              "<IPython.core.display.HTML object>"
            ]
          },
          "metadata": {},
          "output_type": "display_data"
        },
        {
          "name": "stdout",
          "output_type": "stream",
          "text": [
            "\u001b[1m1/1\u001b[0m \u001b[32m━━━━━━━━━━━━━━━━━━━━\u001b[0m\u001b[37m\u001b[0m \u001b[1m1s\u001b[0m 902ms/step\n",
            "\u001b[1m1/1\u001b[0m \u001b[32m━━━━━━━━━━━━━━━━━━━━\u001b[0m\u001b[37m\u001b[0m \u001b[1m0s\u001b[0m 21ms/step\n",
            "\u001b[1m1/1\u001b[0m \u001b[32m━━━━━━━━━━━━━━━━━━━━\u001b[0m\u001b[37m\u001b[0m \u001b[1m0s\u001b[0m 19ms/step\n",
            "\u001b[1m1/1\u001b[0m \u001b[32m━━━━━━━━━━━━━━━━━━━━\u001b[0m\u001b[37m\u001b[0m \u001b[1m0s\u001b[0m 18ms/step\n",
            "\u001b[1m1/1\u001b[0m \u001b[32m━━━━━━━━━━━━━━━━━━━━\u001b[0m\u001b[37m\u001b[0m \u001b[1m0s\u001b[0m 21ms/step\n",
            "\u001b[1m1/1\u001b[0m \u001b[32m━━━━━━━━━━━━━━━━━━━━\u001b[0m\u001b[37m\u001b[0m \u001b[1m0s\u001b[0m 20ms/step\n",
            "\u001b[1m1/1\u001b[0m \u001b[32m━━━━━━━━━━━━━━━━━━━━\u001b[0m\u001b[37m\u001b[0m \u001b[1m0s\u001b[0m 30ms/step\n",
            "\u001b[1m1/1\u001b[0m \u001b[32m━━━━━━━━━━━━━━━━━━━━\u001b[0m\u001b[37m\u001b[0m \u001b[1m0s\u001b[0m 31ms/step\n",
            "\u001b[1m1/1\u001b[0m \u001b[32m━━━━━━━━━━━━━━━━━━━━\u001b[0m\u001b[37m\u001b[0m \u001b[1m0s\u001b[0m 31ms/step\n",
            "\u001b[1m1/1\u001b[0m \u001b[32m━━━━━━━━━━━━━━━━━━━━\u001b[0m\u001b[37m\u001b[0m \u001b[1m0s\u001b[0m 19ms/step\n",
            "\u001b[1m1/1\u001b[0m \u001b[32m━━━━━━━━━━━━━━━━━━━━\u001b[0m\u001b[37m\u001b[0m \u001b[1m0s\u001b[0m 29ms/step\n",
            "Keyboard interruption in main thread... closing server.\n"
          ]
        },
        {
          "data": {
            "text/plain": []
          },
          "execution_count": 129,
          "metadata": {},
          "output_type": "execute_result"
        }
      ],
      "source": [
        "iface = gr.Interface(\n",
        "    fn=model_response,\n",
        "    inputs=[\"textbox\"],\n",
        "    outputs=\"text\")\n",
        "\n",
        "iface.launch(debug=True)"
      ]
    },
    {
      "cell_type": "markdown",
      "metadata": {},
      "source": [
        "Generación de secuencias"
      ]
    },
    {
      "cell_type": "code",
      "execution_count": 130,
      "metadata": {},
      "outputs": [
        {
          "data": {
            "text/plain": [
              "'Dorian gray de la mano de la mano de'"
            ]
          },
          "execution_count": 130,
          "metadata": {},
          "output_type": "execute_result"
        }
      ],
      "source": [
        "input_text='Dorian'\n",
        "\n",
        "generate_seq(model, input_text, max_length=max_context_size, n_words=30)"
      ]
    },
    {
      "cell_type": "code",
      "execution_count": 131,
      "metadata": {},
      "outputs": [
        {
          "data": {
            "text/plain": [
              "'No es demasiado lo que es el mucho de la mano de la '"
            ]
          },
          "execution_count": 131,
          "metadata": {},
          "output_type": "execute_result"
        }
      ],
      "source": [
        "input_text='No es demasiado lo que'\n",
        "\n",
        "generate_seq(model, input_text, max_length=max_context_size, n_words=30)"
      ]
    },
    {
      "cell_type": "code",
      "execution_count": 132,
      "metadata": {},
      "outputs": [
        {
          "data": {
            "text/plain": [
              "'un pobre desgraciado tienes de la mano de la mano de la '"
            ]
          },
          "execution_count": 132,
          "metadata": {},
          "output_type": "execute_result"
        }
      ],
      "source": [
        "input_text='un pobre desgraciado tiene'\n",
        "\n",
        "generate_seq(model, input_text, max_length=max_context_size, n_words=30)"
      ]
    },
    {
      "cell_type": "markdown",
      "metadata": {},
      "source": [
        "Beam search y muestreo aleatorio"
      ]
    },
    {
      "cell_type": "code",
      "execution_count": 133,
      "metadata": {},
      "outputs": [],
      "source": [
        "# predicción con beam search\n",
        "salidas = beam_search(model,num_beams=10,num_words=20,input=\"el intenso perfume\")"
      ]
    },
    {
      "cell_type": "code",
      "execution_count": 134,
      "metadata": {},
      "outputs": [
        {
          "data": {
            "text/plain": [
              "array([ 0,  0,  0,  0,  0,  0,  0,  0,  0,  0,  0,  0,  0,  0,  0,  0,  0,\n",
              "        0,  0,  0,  0,  0,  0,  0,  0,  0,  0,  0,  0,  0,  0,  0,  0,  0,\n",
              "        0,  0,  0,  0,  0,  0,  0,  0,  0,  0,  0,  0,  0,  0,  0,  0,  0,\n",
              "        0,  0,  0,  0,  0,  0,  0,  0,  0,  0,  0,  0,  0,  0,  0,  0,  0,\n",
              "        0,  0,  0,  0,  0,  0,  0,  0,  0,  0,  0,  0,  0,  0, 11, 13, 34,\n",
              "        7, 32, 19, 11, 32,  2, 23, 34, 15, 11,  8, 24, 27,  6, 11, 32, 19,\n",
              "       11, 34,  4, 11, 34, 13, 18,  2, 34, 15, 11,  8,  2, 23, 32, 18,  2,\n",
              "       34])"
            ]
          },
          "execution_count": 134,
          "metadata": {},
          "output_type": "execute_result"
        }
      ],
      "source": [
        "salidas[0]"
      ]
    },
    {
      "cell_type": "code",
      "execution_count": 135,
      "metadata": {},
      "outputs": [
        {
          "data": {
            "text/plain": [
              "'wwwwwwwwwwwwwwwwwwwwwwwwwwwwwwwwwwwwwwwwwwwwwwwwwwwwwwwwwwwwwwwwwwwwwwwwwwwwwwwwwwel intenso perfumente de las personas '"
            ]
          },
          "execution_count": 135,
          "metadata": {},
          "output_type": "execute_result"
        }
      ],
      "source": [
        "decode(salidas[0])"
      ]
    },
    {
      "cell_type": "code",
      "execution_count": 136,
      "metadata": {},
      "outputs": [],
      "source": [
        "\n",
        "salidas = beam_search(model,num_beams=10,num_words=20,input=\"el pintor se mordio\")"
      ]
    },
    {
      "cell_type": "code",
      "execution_count": 137,
      "metadata": {},
      "outputs": [
        {
          "data": {
            "text/plain": [
              "array([ 0,  0,  0,  0,  0,  0,  0,  0,  0,  0,  0,  0,  0,  0,  0,  0,  0,\n",
              "        0,  0,  0,  0,  0,  0,  0,  0,  0,  0,  0,  0,  0,  0,  0,  0,  0,\n",
              "        0,  0,  0,  0,  0,  0,  0,  0,  0,  0,  0,  0,  0,  0,  0,  0,  0,\n",
              "        0,  0,  0,  0,  0,  0,  0,  0,  0,  0,  0,  0,  0,  0,  0,  0,  0,\n",
              "        0,  0,  0,  0,  0,  0,  0,  0,  0,  0,  0,  0,  0, 11, 13, 34, 15,\n",
              "        7, 32, 19, 23,  8, 34,  2, 11, 34,  6, 23,  8,  4,  7, 23,  2, 34,\n",
              "        4, 11, 34, 13, 18, 34, 31,  7,  4, 18, 34,  4, 11, 34, 13, 18,  2,\n",
              "       34])"
            ]
          },
          "execution_count": 137,
          "metadata": {},
          "output_type": "execute_result"
        }
      ],
      "source": [
        "salidas[0]"
      ]
    },
    {
      "cell_type": "code",
      "execution_count": 138,
      "metadata": {},
      "outputs": [
        {
          "data": {
            "text/plain": [
              "'wwwwwwwwwwwwwwwwwwwwwwwwwwwwwwwwwwwwwwwwwwwwwwwwwwwwwwwwwwwwwwwwwwwwwwwwwwwwwwwwwel pintor se mordios de la vida de las '"
            ]
          },
          "execution_count": 138,
          "metadata": {},
          "output_type": "execute_result"
        }
      ],
      "source": [
        "decode(salidas[0])"
      ]
    },
    {
      "cell_type": "code",
      "execution_count": 139,
      "metadata": {},
      "outputs": [],
      "source": [
        "salidas = beam_search(model,num_beams=10,num_words=20,input=\"la horrible noche\")"
      ]
    },
    {
      "cell_type": "code",
      "execution_count": 140,
      "metadata": {},
      "outputs": [
        {
          "data": {
            "text/plain": [
              "array([ 0,  0,  0,  0,  0,  0,  0,  0,  0,  0,  0,  0,  0,  0,  0,  0,  0,\n",
              "        0,  0,  0,  0,  0,  0,  0,  0,  0,  0,  0,  0,  0,  0,  0,  0,  0,\n",
              "        0,  0,  0,  0,  0,  0,  0,  0,  0,  0,  0,  0,  0,  0,  0,  0,  0,\n",
              "        0,  0,  0,  0,  0,  0,  0,  0,  0,  0,  0,  0,  0,  0,  0,  0,  0,\n",
              "        0,  0,  0,  0,  0,  0,  0,  0,  0,  0,  0,  0,  0,  0,  0, 13, 18,\n",
              "       34,  3, 23,  8,  8,  7, 10, 13, 11, 34, 32, 23, 21,  3, 11, 34,  3,\n",
              "       18, 10, 28, 18, 34,  4, 11, 34, 13, 18, 34, 31,  7,  4, 18, 34,  4,\n",
              "       11])"
            ]
          },
          "execution_count": 140,
          "metadata": {},
          "output_type": "execute_result"
        }
      ],
      "source": [
        "salidas[0]"
      ]
    },
    {
      "cell_type": "code",
      "execution_count": 141,
      "metadata": {},
      "outputs": [
        {
          "data": {
            "text/plain": [
              "'wwwwwwwwwwwwwwwwwwwwwwwwwwwwwwwwwwwwwwwwwwwwwwwwwwwwwwwwwwwwwwwwwwwwwwwwwwwwwwwwwwwla horrible noche había de la vida de'"
            ]
          },
          "execution_count": 141,
          "metadata": {},
          "output_type": "execute_result"
        }
      ],
      "source": [
        "decode(salidas[0])"
      ]
    },
    {
      "cell_type": "code",
      "execution_count": 142,
      "metadata": {},
      "outputs": [],
      "source": [
        "salidas = beam_search(model,num_beams=10,num_words=20,input=\"el frescor del aire\")"
      ]
    },
    {
      "cell_type": "code",
      "execution_count": 143,
      "metadata": {},
      "outputs": [
        {
          "data": {
            "text/plain": [
              "array([ 0,  0,  0,  0,  0,  0,  0,  0,  0,  0,  0,  0,  0,  0,  0,  0,  0,\n",
              "        0,  0,  0,  0,  0,  0,  0,  0,  0,  0,  0,  0,  0,  0,  0,  0,  0,\n",
              "        0,  0,  0,  0,  0,  0,  0,  0,  0,  0,  0,  0,  0,  0,  0,  0,  0,\n",
              "        0,  0,  0,  0,  0,  0,  0,  0,  0,  0,  0,  0,  0,  0,  0,  0,  0,\n",
              "        0,  0,  0,  0,  0,  0,  0,  0,  0,  0,  0,  0,  0, 11, 13, 34, 24,\n",
              "        8, 11,  2, 21, 23,  8, 34,  4, 11, 13, 34, 18,  7,  8, 11,  2, 34,\n",
              "        4, 11, 34, 13, 18, 34, 31,  7,  4, 18, 34,  4, 11, 34, 13, 18,  2,\n",
              "       34])"
            ]
          },
          "execution_count": 143,
          "metadata": {},
          "output_type": "execute_result"
        }
      ],
      "source": [
        "salidas[0]"
      ]
    },
    {
      "cell_type": "code",
      "execution_count": 144,
      "metadata": {},
      "outputs": [
        {
          "data": {
            "text/plain": [
              "'wwwwwwwwwwwwwwwwwwwwwwwwwwwwwwwwwwwwwwwwwwwwwwwwwwwwwwwwwwwwwwwwwwwwwwwwwwwwwwwwwel frescor del aires de la vida de las '"
            ]
          },
          "execution_count": 144,
          "metadata": {},
          "output_type": "execute_result"
        }
      ],
      "source": [
        "decode(salidas[0])"
      ]
    },
    {
      "cell_type": "markdown",
      "metadata": {},
      "source": [
        "Modelo GRU"
      ]
    },
    {
      "cell_type": "code",
      "execution_count": 27,
      "metadata": {},
      "outputs": [
        {
          "name": "stdout",
          "output_type": "stream",
          "text": [
            "Model: \"sequential_1\"\n",
            "_________________________________________________________________\n",
            " Layer (type)                Output Shape              Param #   \n",
            "=================================================================\n",
            " time_distributed_1 (TimeDis  (None, None, 35)         0         \n",
            " tributed)                                                       \n",
            "                                                                 \n",
            " gru_1 (GRU)                 (None, None, 200)         142200    \n",
            "                                                                 \n",
            " dense_1 (Dense)             (None, None, 35)          7035      \n",
            "                                                                 \n",
            "=================================================================\n",
            "Total params: 149,235\n",
            "Trainable params: 149,235\n",
            "Non-trainable params: 0\n",
            "_________________________________________________________________\n"
          ]
        }
      ],
      "source": [
        "from tensorflow.keras.layers import TimeDistributed, Dense, GRU\n",
        "# Definir el modelo\n",
        "from tensorflow.keras.optimizers import RMSprop\n",
        "model_gru = Sequential()\n",
        "\n",
        "# Añadir capas\n",
        "model_gru.add(TimeDistributed(CategoryEncoding(num_tokens=vocab_size, output_mode=\"one_hot\"), input_shape=(None, 1)))\n",
        "model_gru.add(GRU(200, return_sequences=True, dropout=0.1, recurrent_dropout=0.0))\n",
        "model_gru.add(Dense(vocab_size, activation='softmax'))\n",
        "\n",
        "# Compilar el modelo con una learning rate específica\n",
        "optimizer = RMSprop(learning_rate=0.0001)  # Aquí puedes ajustar la learning rate según lo necesites\n",
        "model_gru.compile(loss='sparse_categorical_crossentropy', optimizer=optimizer)\n",
        "\n",
        "# Compilar el modelo\n",
        "#model_lstm.compile(loss='sparse_categorical_crossentropy', optimizer='rmsprop')\n",
        "\n",
        "# Mostrar el resumen del modelo\n",
        "model_gru.summary()"
      ]
    },
    {
      "cell_type": "code",
      "execution_count": 28,
      "metadata": {},
      "outputs": [
        {
          "name": "stdout",
          "output_type": "stream",
          "text": [
            "Epoch 1/20\n",
            "1574/1574 [==============================] - ETA: 0s - loss: 2.5272\n",
            " mean perplexity: 8.83315881437757 \n",
            "\n",
            "Saved new model!\n",
            "1574/1574 [==============================] - 50s 26ms/step - loss: 2.5272\n",
            "Epoch 2/20\n",
            "1574/1574 [==============================] - ETA: 0s - loss: 2.1245\n",
            " mean perplexity: 7.310885033043115 \n",
            "\n",
            "Saved new model!\n",
            "1574/1574 [==============================] - 38s 24ms/step - loss: 2.1245\n",
            "Epoch 3/20\n",
            "1572/1574 [============================>.] - ETA: 0s - loss: 1.9757\n",
            " mean perplexity: 6.505965861660676 \n",
            "\n",
            "Saved new model!\n",
            "1574/1574 [==============================] - 37s 24ms/step - loss: 1.9756\n",
            "Epoch 4/20\n",
            "1573/1574 [============================>.] - ETA: 0s - loss: 1.8730\n",
            " mean perplexity: 5.99960911291254 \n",
            "\n",
            "Saved new model!\n",
            "1574/1574 [==============================] - 37s 23ms/step - loss: 1.8730\n",
            "Epoch 5/20\n",
            "1574/1574 [==============================] - ETA: 0s - loss: 1.7951\n",
            " mean perplexity: 5.653279257850974 \n",
            "\n",
            "Saved new model!\n",
            "1574/1574 [==============================] - 47s 30ms/step - loss: 1.7951\n",
            "Epoch 6/20\n",
            "1574/1574 [==============================] - ETA: 0s - loss: 1.7356\n",
            " mean perplexity: 5.388753666842227 \n",
            "\n",
            "Saved new model!\n",
            "1574/1574 [==============================] - 51s 32ms/step - loss: 1.7356\n",
            "Epoch 7/20\n",
            "1572/1574 [============================>.] - ETA: 0s - loss: 1.6888\n",
            " mean perplexity: 5.237050115928343 \n",
            "\n",
            "Saved new model!\n",
            "1574/1574 [==============================] - 53s 34ms/step - loss: 1.6888\n",
            "Epoch 8/20\n",
            "1573/1574 [============================>.] - ETA: 0s - loss: 1.6513\n",
            " mean perplexity: 5.091663146999516 \n",
            "\n",
            "Saved new model!\n",
            "1574/1574 [==============================] - 52s 33ms/step - loss: 1.6513\n",
            "Epoch 9/20\n",
            "1572/1574 [============================>.] - ETA: 0s - loss: 1.6202\n",
            " mean perplexity: 5.002939601825111 \n",
            "\n",
            "Saved new model!\n",
            "1574/1574 [==============================] - 53s 34ms/step - loss: 1.6202\n",
            "Epoch 10/20\n",
            "1573/1574 [============================>.] - ETA: 0s - loss: 1.5946\n",
            " mean perplexity: 4.905908223734835 \n",
            "\n",
            "Saved new model!\n",
            "1574/1574 [==============================] - 52s 33ms/step - loss: 1.5946\n",
            "Epoch 11/20\n",
            "1572/1574 [============================>.] - ETA: 0s - loss: 1.5724\n",
            " mean perplexity: 4.833740426776889 \n",
            "\n",
            "Saved new model!\n",
            "1574/1574 [==============================] - 53s 34ms/step - loss: 1.5724\n",
            "Epoch 12/20\n",
            "1572/1574 [============================>.] - ETA: 0s - loss: 1.5530\n",
            " mean perplexity: 4.764182084402997 \n",
            "\n",
            "Saved new model!\n",
            "1574/1574 [==============================] - 49s 31ms/step - loss: 1.5530\n",
            "Epoch 13/20\n",
            "1572/1574 [============================>.] - ETA: 0s - loss: 1.5365\n",
            " mean perplexity: 4.700807400934853 \n",
            "\n",
            "Saved new model!\n",
            "1574/1574 [==============================] - 54s 34ms/step - loss: 1.5364\n",
            "Epoch 14/20\n",
            "1572/1574 [============================>.] - ETA: 0s - loss: 1.5213\n",
            " mean perplexity: 4.648795391209668 \n",
            "\n",
            "Saved new model!\n",
            "1574/1574 [==============================] - 53s 34ms/step - loss: 1.5213\n",
            "Epoch 15/20\n",
            "1573/1574 [============================>.] - ETA: 0s - loss: 1.5082\n",
            " mean perplexity: 4.617827208885921 \n",
            "\n",
            "Saved new model!\n",
            "1574/1574 [==============================] - 54s 34ms/step - loss: 1.5082\n",
            "Epoch 16/20\n",
            "1573/1574 [============================>.] - ETA: 0s - loss: 1.4962\n",
            " mean perplexity: 4.589927463416 \n",
            "\n",
            "Saved new model!\n",
            "1574/1574 [==============================] - 51s 33ms/step - loss: 1.4962\n",
            "Epoch 17/20\n",
            "1573/1574 [============================>.] - ETA: 0s - loss: 1.4854\n",
            " mean perplexity: 4.558165487190115 \n",
            "\n",
            "Saved new model!\n",
            "1574/1574 [==============================] - 49s 31ms/step - loss: 1.4854\n",
            "Epoch 18/20\n",
            "1572/1574 [============================>.] - ETA: 0s - loss: 1.4752\n",
            " mean perplexity: 4.5247718808436606 \n",
            "\n",
            "Saved new model!\n",
            "1574/1574 [==============================] - 51s 32ms/step - loss: 1.4752\n",
            "Epoch 19/20\n",
            "1573/1574 [============================>.] - ETA: 0s - loss: 1.4665\n",
            " mean perplexity: 4.517379462685861 \n",
            "\n",
            "Saved new model!\n",
            "1574/1574 [==============================] - 51s 32ms/step - loss: 1.4665\n",
            "Epoch 20/20\n",
            "1572/1574 [============================>.] - ETA: 0s - loss: 1.4583\n",
            " mean perplexity: 4.50485416759273 \n",
            "\n",
            "Saved new model!\n",
            "1574/1574 [==============================] - 52s 33ms/step - loss: 1.4583\n"
          ]
        }
      ],
      "source": [
        "history_ppl = []\n",
        "hist = model_gru.fit(X, y, epochs=20, callbacks=[PplCallback(tokenized_sentences_val,history_ppl)], batch_size=256)"
      ]
    },
    {
      "cell_type": "code",
      "execution_count": 31,
      "metadata": {},
      "outputs": [
        {
          "data": {
            "image/png": "[encoded data removed]",
            "text/plain": [
              "<Figure size 640x480 with 1 Axes>"
            ]
          },
          "metadata": {},
          "output_type": "display_data"
        }
      ],
      "source": [
        "import seaborn as sns\n",
        "# Entrenamiento\n",
        "epoch_count = range(1, len(history_ppl) + 1)\n",
        "sns.lineplot(x=epoch_count,  y=history_ppl)\n",
        "plt.show()"
      ]
    },
    {
      "cell_type": "code",
      "execution_count": 34,
      "metadata": {},
      "outputs": [],
      "source": [
        "model = keras.models.load_model('my_model_GRU.keras')"
      ]
    },
    {
      "cell_type": "code",
      "execution_count": 39,
      "metadata": {},
      "outputs": [
        {
          "name": "stdout",
          "output_type": "stream",
          "text": [
            "Running on local URL:  http://127.0.0.1:7860\n",
            "\n",
            "To create a public link, set `share=True` in `launch()`.\n"
          ]
        },
        {
          "data": {
            "text/html": [
              "<div><iframe src=\"http://127.0.0.1:7860/\" width=\"100%\" height=\"500\" allow=\"autoplay; camera; microphone; clipboard-read; clipboard-write;\" frameborder=\"0\" allowfullscreen></iframe></div>"
            ],
            "text/plain": [
              "<IPython.core.display.HTML object>"
            ]
          },
          "metadata": {},
          "output_type": "display_data"
        },
        {
          "name": "stdout",
          "output_type": "stream",
          "text": [
            "1/1 [==============================] - 0s 333ms/step\n",
            "1/1 [==============================] - 0s 45ms/step\n",
            "1/1 [==============================] - 0s 37ms/step\n",
            "1/1 [==============================] - 0s 41ms/step\n",
            "Keyboard interruption in main thread... closing server.\n"
          ]
        },
        {
          "data": {
            "text/plain": []
          },
          "execution_count": 39,
          "metadata": {},
          "output_type": "execute_result"
        }
      ],
      "source": [
        "iface = gr.Interface(\n",
        "    fn=model_response,\n",
        "    inputs=[\"textbox\"],\n",
        "    outputs=\"text\")\n",
        "\n",
        "iface.launch(debug=True)"
      ]
    },
    {
      "cell_type": "markdown",
      "metadata": {},
      "source": [
        "Generación de secuencias"
      ]
    },
    {
      "cell_type": "code",
      "execution_count": 42,
      "metadata": {},
      "outputs": [
        {
          "data": {
            "text/plain": [
              "'Dorian gray se le parece que la muje'"
            ]
          },
          "execution_count": 42,
          "metadata": {},
          "output_type": "execute_result"
        }
      ],
      "source": [
        "input_text='Dorian'\n",
        "\n",
        "generate_seq(model, input_text, max_length=max_context_size, n_words=30)"
      ]
    },
    {
      "cell_type": "code",
      "execution_count": 43,
      "metadata": {},
      "outputs": [
        {
          "data": {
            "text/plain": [
              "'No es demasiado lo que había desaparecido de la cabe'"
            ]
          },
          "execution_count": 43,
          "metadata": {},
          "output_type": "execute_result"
        }
      ],
      "source": [
        "input_text='No es demasiado lo que'\n",
        "\n",
        "generate_seq(model, input_text, max_length=max_context_size, n_words=30)"
      ]
    },
    {
      "cell_type": "code",
      "execution_count": 45,
      "metadata": {},
      "outputs": [
        {
          "data": {
            "text/plain": [
              "'un pobre desgraciado tiene una corazón de la cabeza de '"
            ]
          },
          "execution_count": 45,
          "metadata": {},
          "output_type": "execute_result"
        }
      ],
      "source": [
        "input_text='un pobre desgraciado tiene'\n",
        "\n",
        "generate_seq(model, input_text, max_length=max_context_size, n_words=30)"
      ]
    },
    {
      "cell_type": "markdown",
      "metadata": {},
      "source": [
        "GRU Beam search y muestreo aleatorio"
      ]
    },
    {
      "cell_type": "code",
      "execution_count": 52,
      "metadata": {},
      "outputs": [],
      "source": [
        "# predicción con beam search\n",
        "salidas = beam_search(model,num_beams=10,num_words=20,input=\"el intenso perfume\")"
      ]
    },
    {
      "cell_type": "code",
      "execution_count": 53,
      "metadata": {},
      "outputs": [
        {
          "data": {
            "text/plain": [
              "array([ 0,  0,  0,  0,  0,  0,  0,  0,  0,  0,  0,  0,  0,  0,  0,  0,  0,\n",
              "        0,  0,  0,  0,  0,  0,  0,  0,  0,  0,  0,  0,  0,  0,  0,  0,  0,\n",
              "        0,  0,  0,  0,  0,  0,  0,  0,  0,  0,  0,  0,  0,  0,  0,  0,  0,\n",
              "        0,  0,  0,  0,  0,  0,  0,  0,  0,  0,  0,  0,  0,  0,  0,  0,  0,\n",
              "        0,  0,  0,  0,  0,  0,  0,  0,  0,  0,  0,  0,  0,  0, 18, 16, 26,\n",
              "       13,  9, 12, 18,  9, 17, 27, 26,  6, 18,  2, 23, 28, 21, 18, 26, 30,\n",
              "       18, 26, 16, 27,  2, 30, 26,  4, 18,  9,  2, 34, 26,  8, 27,  9, 26,\n",
              "       28])"
            ]
          },
          "execution_count": 53,
          "metadata": {},
          "output_type": "execute_result"
        }
      ],
      "source": [
        "salidas[0]"
      ]
    },
    {
      "cell_type": "code",
      "execution_count": 54,
      "metadata": {},
      "outputs": [
        {
          "data": {
            "text/plain": [
              "'jjjjjjjjjjjjjjjjjjjjjjjjjjjjjjjjjjjjjjjjjjjjjjjjjjjjjjjjjjjjjjjjjjjjjjjjjjjjjjjjjjjjjjjjjjjjjjjel intenso perfume de lord henry con u'"
            ]
          },
          "execution_count": 54,
          "metadata": {},
          "output_type": "execute_result"
        }
      ],
      "source": [
        "decode(salidas[0])"
      ]
    },
    {
      "cell_type": "code",
      "execution_count": 55,
      "metadata": {},
      "outputs": [],
      "source": [
        "salidas = beam_search(model,num_beams=10,num_words=20,input=\"el pintor se mordio\")"
      ]
    },
    {
      "cell_type": "code",
      "execution_count": 56,
      "metadata": {},
      "outputs": [
        {
          "data": {
            "text/plain": [
              "array([ 0,  0,  0,  0,  0,  0,  0,  0,  0,  0,  0,  0,  0,  0,  0,  0,  0,\n",
              "        0,  0,  0,  0,  0,  0,  0,  0,  0,  0,  0,  0,  0,  0,  0,  0,  0,\n",
              "        0,  0,  0,  0,  0,  0,  0,  0,  0,  0,  0,  0,  0,  0,  0,  0,  0,\n",
              "        0,  0,  0,  0,  0,  0,  0,  0,  0,  0,  0,  0,  0,  0,  0,  0,  0,\n",
              "        0,  0,  0,  0,  0,  0,  0,  0,  0,  0,  0,  0,  0, 18, 16, 26,  6,\n",
              "       13,  9, 12, 27,  2, 26, 17, 18, 26, 21, 27,  2, 30, 13, 27, 26, 18,\n",
              "        9, 26, 16, 22, 26,  8, 22, 19, 18, 11, 22, 26,  8, 27,  9, 26, 28,\n",
              "        9])"
            ]
          },
          "execution_count": 56,
          "metadata": {},
          "output_type": "execute_result"
        }
      ],
      "source": [
        "salidas[0]"
      ]
    },
    {
      "cell_type": "code",
      "execution_count": 57,
      "metadata": {},
      "outputs": [
        {
          "data": {
            "text/plain": [
              "'jjjjjjjjjjjjjjjjjjjjjjjjjjjjjjjjjjjjjjjjjjjjjjjjjjjjjjjjjjjjjjjjjjjjjjjjjjjjjjjjjjjjjjjjjjjjjjjel pintor se mordio en la cabeza con un'"
            ]
          },
          "execution_count": 57,
          "metadata": {},
          "output_type": "execute_result"
        }
      ],
      "source": [
        "decode(salidas[0])"
      ]
    },
    {
      "cell_type": "code",
      "execution_count": 58,
      "metadata": {},
      "outputs": [],
      "source": [
        "salidas = beam_search(model,num_beams=10,num_words=20,input=\"la horrible noche\")"
      ]
    },
    {
      "cell_type": "code",
      "execution_count": 59,
      "metadata": {},
      "outputs": [
        {
          "data": {
            "text/plain": [
              "array([ 0,  0,  0,  0,  0,  0,  0,  0,  0,  0,  0,  0,  0,  0,  0,  0,  0,\n",
              "        0,  0,  0,  0,  0,  0,  0,  0,  0,  0,  0,  0,  0,  0,  0,  0,  0,\n",
              "        0,  0,  0,  0,  0,  0,  0,  0,  0,  0,  0,  0,  0,  0,  0,  0,  0,\n",
              "        0,  0,  0,  0,  0,  0,  0,  0,  0,  0,  0,  0,  0,  0,  0,  0,  0,\n",
              "        0,  0,  0,  0,  0,  0,  0,  0,  0,  0,  0,  0,  0,  0,  0, 16, 22,\n",
              "       26,  4, 27,  2,  2, 13, 19, 16, 18, 26,  9, 27,  8,  4, 18, 26, 17,\n",
              "       18, 26,  4, 22, 19,  7, 22, 26,  6, 18,  2, 30, 13, 30, 27, 26, 18,\n",
              "       16])"
            ]
          },
          "execution_count": 59,
          "metadata": {},
          "output_type": "execute_result"
        }
      ],
      "source": [
        "salidas[0]"
      ]
    },
    {
      "cell_type": "code",
      "execution_count": 60,
      "metadata": {},
      "outputs": [
        {
          "data": {
            "text/plain": [
              "'jjjjjjjjjjjjjjjjjjjjjjjjjjjjjjjjjjjjjjjjjjjjjjjjjjjjjjjjjjjjjjjjjjjjjjjjjjjjjjjjjjjjjjjjjjjjjjjla horrible noche se había perdido el'"
            ]
          },
          "execution_count": 60,
          "metadata": {},
          "output_type": "execute_result"
        }
      ],
      "source": [
        "decode(salidas[0])"
      ]
    },
    {
      "cell_type": "code",
      "execution_count": 61,
      "metadata": {},
      "outputs": [],
      "source": [
        "salidas = beam_search(model,num_beams=10,num_words=20,input=\"el frescor del aire\")"
      ]
    },
    {
      "cell_type": "code",
      "execution_count": 62,
      "metadata": {},
      "outputs": [
        {
          "data": {
            "text/plain": [
              "array([ 0,  0,  0,  0,  0,  0,  0,  0,  0,  0,  0,  0,  0,  0,  0,  0,  0,\n",
              "        0,  0,  0,  0,  0,  0,  0,  0,  0,  0,  0,  0,  0,  0,  0,  0,  0,\n",
              "        0,  0,  0,  0,  0,  0,  0,  0,  0,  0,  0,  0,  0,  0,  0,  0,  0,\n",
              "        0,  0,  0,  0,  0,  0,  0,  0,  0,  0,  0,  0,  0,  0,  0,  0,  0,\n",
              "        0,  0,  0,  0,  0,  0,  0,  0,  0,  0,  0,  0,  0, 18, 16, 26, 23,\n",
              "        2, 18, 17,  8, 27,  2, 26, 30, 18, 16, 26, 22, 13,  2, 18, 26,  2,\n",
              "       18, 17,  6, 27,  9, 30, 13, 20, 26, 16, 27,  2, 30, 26,  4, 18,  9,\n",
              "        2])"
            ]
          },
          "execution_count": 62,
          "metadata": {},
          "output_type": "execute_result"
        }
      ],
      "source": [
        "salidas[0]"
      ]
    },
    {
      "cell_type": "code",
      "execution_count": 63,
      "metadata": {},
      "outputs": [
        {
          "data": {
            "text/plain": [
              "'jjjjjjjjjjjjjjjjjjjjjjjjjjjjjjjjjjjjjjjjjjjjjjjjjjjjjjjjjjjjjjjjjjjjjjjjjjjjjjjjjjjjjjjjjjjjjjjnel frescor del aire respondió lord henr'"
            ]
          },
          "execution_count": 63,
          "metadata": {},
          "output_type": "execute_result"
        }
      ],
      "source": [
        "decode(salidas[0])"
      ]
    },
    {
      "cell_type": "markdown",
      "metadata": {},
      "source": [
        "##### Se hizo la evaluacion de las tres alternativas, SIMPLERNN,LSTM y GRU,\n",
        "#### en terminos de perplejidad SIMPLERNN y GRU dieron resultados similares, pero en la practica SimpleRNN da resultados mas coherentes de entender, es debido al largo de secuencias.\n",
        "#### El modelo detecta perfectamente los personas principales.\n",
        "#### En el archivo pdf adjunto en el repo se muestran las secuencia obtenidas por gradio ademas de los modelos entrenados."
      ]
    }
  ],
  "metadata": {
    "accelerator": "GPU",
    "colab": {
      "gpuType": "T4",
      "provenance": []
    },
    "kernelspec": {
      "display_name": "Python 3",
      "name": "python3"
    },
    "language_info": {
      "codemirror_mode": {
        "name": "ipython",
        "version": 3
      },
      "file_extension": ".py",
      "mimetype": "text/x-python",
      "name": "python",
      "nbconvert_exporter": "python",
      "pygments_lexer": "ipython3",
      "version": "3.10.14"
    }
  },
  "nbformat": 4,
  "nbformat_minor": 0
}
